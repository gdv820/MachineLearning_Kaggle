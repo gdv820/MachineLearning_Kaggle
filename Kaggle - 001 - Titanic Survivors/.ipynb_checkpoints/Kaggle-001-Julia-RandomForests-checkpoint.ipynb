{
 "cells": [
  {
   "cell_type": "code",
   "execution_count": 1,
   "metadata": {
    "collapsed": false
   },
   "outputs": [
    {
     "name": "stderr",
     "output_type": "stream",
     "text": [
      "WARNING: Method definition nrow(DataFramesMeta.AbstractCompositeDataFrame) in module DataFramesMeta at /Users/tesuji/.julia/v0.5/DataFramesMeta/src/compositedataframe.jl:108 overwritten at /Users/tesuji/.julia/v0.5/DataFramesMeta/src/compositedataframe.jl:109.\n",
      "WARNING: Method definition require(Symbol) in module Base at loading.jl:345 overwritten in module Main at /Users/tesuji/.julia/v0.5/Requires/src/require.jl:12.\n"
     ]
    }
   ],
   "source": [
    "using DecisionTree\n",
    "using DataFrames\n",
    "using DataFramesMeta\n",
    "using DataArrays\n",
    "using ScikitLearn: DataFrameMapper, @sk_import, fit_transform!, Pipelines, fit!\n",
    "using ScikitLearn.CrossValidation: cross_val_score\n",
    "@sk_import preprocessing: (LabelBinarizer, StandardScaler)"
   ]
  },
  {
   "cell_type": "code",
   "execution_count": 2,
   "metadata": {
    "collapsed": true
   },
   "outputs": [
    {
     "data": {
      "text/html": [
       "<table class=\"data-frame\"><thead><tr><th></th><th>PassengerId</th><th>Survived</th><th>Pclass</th><th>Name</th><th>Sex</th><th>Age</th><th>SibSp</th><th>Parch</th><th>Ticket</th><th>Fare</th><th>Cabin</th><th>Embarked</th></tr></thead><tbody><tr><th>1</th><td>1</td><td>0</td><td>3</td><td>Braund, Mr. Owen Harris</td><td>male</td><td>22.0</td><td>1</td><td>0</td><td>A/5 21171</td><td>7.25</td><td>NA</td><td>S</td></tr><tr><th>2</th><td>2</td><td>1</td><td>1</td><td>Cumings, Mrs. John Bradley (Florence Briggs Thayer)</td><td>female</td><td>38.0</td><td>1</td><td>0</td><td>PC 17599</td><td>71.2833</td><td>C85</td><td>C</td></tr><tr><th>3</th><td>3</td><td>1</td><td>3</td><td>Heikkinen, Miss. Laina</td><td>female</td><td>26.0</td><td>0</td><td>0</td><td>STON/O2. 3101282</td><td>7.925</td><td>NA</td><td>S</td></tr><tr><th>4</th><td>4</td><td>1</td><td>1</td><td>Futrelle, Mrs. Jacques Heath (Lily May Peel)</td><td>female</td><td>35.0</td><td>1</td><td>0</td><td>113803</td><td>53.1</td><td>C123</td><td>S</td></tr><tr><th>5</th><td>5</td><td>0</td><td>3</td><td>Allen, Mr. William Henry</td><td>male</td><td>35.0</td><td>0</td><td>0</td><td>373450</td><td>8.05</td><td>NA</td><td>S</td></tr><tr><th>6</th><td>6</td><td>0</td><td>3</td><td>Moran, Mr. James</td><td>male</td><td>NA</td><td>0</td><td>0</td><td>330877</td><td>8.4583</td><td>NA</td><td>Q</td></tr><tr><th>7</th><td>7</td><td>0</td><td>1</td><td>McCarthy, Mr. Timothy J</td><td>male</td><td>54.0</td><td>0</td><td>0</td><td>17463</td><td>51.8625</td><td>E46</td><td>S</td></tr><tr><th>8</th><td>8</td><td>0</td><td>3</td><td>Palsson, Master. Gosta Leonard</td><td>male</td><td>2.0</td><td>3</td><td>1</td><td>349909</td><td>21.075</td><td>NA</td><td>S</td></tr><tr><th>9</th><td>9</td><td>1</td><td>3</td><td>Johnson, Mrs. Oscar W (Elisabeth Vilhelmina Berg)</td><td>female</td><td>27.0</td><td>0</td><td>2</td><td>347742</td><td>11.1333</td><td>NA</td><td>S</td></tr><tr><th>10</th><td>10</td><td>1</td><td>2</td><td>Nasser, Mrs. Nicholas (Adele Achem)</td><td>female</td><td>14.0</td><td>1</td><td>0</td><td>237736</td><td>30.0708</td><td>NA</td><td>C</td></tr><tr><th>11</th><td>11</td><td>1</td><td>3</td><td>Sandstrom, Miss. Marguerite Rut</td><td>female</td><td>4.0</td><td>1</td><td>1</td><td>PP 9549</td><td>16.7</td><td>G6</td><td>S</td></tr><tr><th>12</th><td>12</td><td>1</td><td>1</td><td>Bonnell, Miss. Elizabeth</td><td>female</td><td>58.0</td><td>0</td><td>0</td><td>113783</td><td>26.55</td><td>C103</td><td>S</td></tr><tr><th>13</th><td>13</td><td>0</td><td>3</td><td>Saundercock, Mr. William Henry</td><td>male</td><td>20.0</td><td>0</td><td>0</td><td>A/5. 2151</td><td>8.05</td><td>NA</td><td>S</td></tr><tr><th>14</th><td>14</td><td>0</td><td>3</td><td>Andersson, Mr. Anders Johan</td><td>male</td><td>39.0</td><td>1</td><td>5</td><td>347082</td><td>31.275</td><td>NA</td><td>S</td></tr><tr><th>15</th><td>15</td><td>0</td><td>3</td><td>Vestrom, Miss. Hulda Amanda Adolfina</td><td>female</td><td>14.0</td><td>0</td><td>0</td><td>350406</td><td>7.8542</td><td>NA</td><td>S</td></tr><tr><th>16</th><td>16</td><td>1</td><td>2</td><td>Hewlett, Mrs. (Mary D Kingcome) </td><td>female</td><td>55.0</td><td>0</td><td>0</td><td>248706</td><td>16.0</td><td>NA</td><td>S</td></tr><tr><th>17</th><td>17</td><td>0</td><td>3</td><td>Rice, Master. Eugene</td><td>male</td><td>2.0</td><td>4</td><td>1</td><td>382652</td><td>29.125</td><td>NA</td><td>Q</td></tr><tr><th>18</th><td>18</td><td>1</td><td>2</td><td>Williams, Mr. Charles Eugene</td><td>male</td><td>NA</td><td>0</td><td>0</td><td>244373</td><td>13.0</td><td>NA</td><td>S</td></tr><tr><th>19</th><td>19</td><td>0</td><td>3</td><td>Vander Planke, Mrs. Julius (Emelia Maria Vandemoortele)</td><td>female</td><td>31.0</td><td>1</td><td>0</td><td>345763</td><td>18.0</td><td>NA</td><td>S</td></tr><tr><th>20</th><td>20</td><td>1</td><td>3</td><td>Masselmani, Mrs. Fatima</td><td>female</td><td>NA</td><td>0</td><td>0</td><td>2649</td><td>7.225</td><td>NA</td><td>C</td></tr><tr><th>21</th><td>21</td><td>0</td><td>2</td><td>Fynney, Mr. Joseph J</td><td>male</td><td>35.0</td><td>0</td><td>0</td><td>239865</td><td>26.0</td><td>NA</td><td>S</td></tr><tr><th>22</th><td>22</td><td>1</td><td>2</td><td>Beesley, Mr. Lawrence</td><td>male</td><td>34.0</td><td>0</td><td>0</td><td>248698</td><td>13.0</td><td>D56</td><td>S</td></tr><tr><th>23</th><td>23</td><td>1</td><td>3</td><td>McGowan, Miss. Anna \"Annie\"</td><td>female</td><td>15.0</td><td>0</td><td>0</td><td>330923</td><td>8.0292</td><td>NA</td><td>Q</td></tr><tr><th>24</th><td>24</td><td>1</td><td>1</td><td>Sloper, Mr. William Thompson</td><td>male</td><td>28.0</td><td>0</td><td>0</td><td>113788</td><td>35.5</td><td>A6</td><td>S</td></tr><tr><th>25</th><td>25</td><td>0</td><td>3</td><td>Palsson, Miss. Torborg Danira</td><td>female</td><td>8.0</td><td>3</td><td>1</td><td>349909</td><td>21.075</td><td>NA</td><td>S</td></tr><tr><th>26</th><td>26</td><td>1</td><td>3</td><td>Asplund, Mrs. Carl Oscar (Selma Augusta Emilia Johansson)</td><td>female</td><td>38.0</td><td>1</td><td>5</td><td>347077</td><td>31.3875</td><td>NA</td><td>S</td></tr><tr><th>27</th><td>27</td><td>0</td><td>3</td><td>Emir, Mr. Farred Chehab</td><td>male</td><td>NA</td><td>0</td><td>0</td><td>2631</td><td>7.225</td><td>NA</td><td>C</td></tr><tr><th>28</th><td>28</td><td>0</td><td>1</td><td>Fortune, Mr. Charles Alexander</td><td>male</td><td>19.0</td><td>3</td><td>2</td><td>19950</td><td>263.0</td><td>C23 C25 C27</td><td>S</td></tr><tr><th>29</th><td>29</td><td>1</td><td>3</td><td>O'Dwyer, Miss. Ellen \"Nellie\"</td><td>female</td><td>NA</td><td>0</td><td>0</td><td>330959</td><td>7.8792</td><td>NA</td><td>Q</td></tr><tr><th>30</th><td>30</td><td>0</td><td>3</td><td>Todoroff, Mr. Lalio</td><td>male</td><td>NA</td><td>0</td><td>0</td><td>349216</td><td>7.8958</td><td>NA</td><td>S</td></tr><tr><th>&vellip;</th><td>&vellip;</td><td>&vellip;</td><td>&vellip;</td><td>&vellip;</td><td>&vellip;</td><td>&vellip;</td><td>&vellip;</td><td>&vellip;</td><td>&vellip;</td><td>&vellip;</td><td>&vellip;</td><td>&vellip;</td></tr></tbody></table>"
      ],
      "text/plain": [
       "891×12 DataFrames.DataFrame\n",
       "│ Row │ PassengerId │ Survived │ Pclass │\n",
       "├─────┼─────────────┼──────────┼────────┤\n",
       "│ 1   │ 1           │ 0        │ 3      │\n",
       "│ 2   │ 2           │ 1        │ 1      │\n",
       "│ 3   │ 3           │ 1        │ 3      │\n",
       "│ 4   │ 4           │ 1        │ 1      │\n",
       "│ 5   │ 5           │ 0        │ 3      │\n",
       "│ 6   │ 6           │ 0        │ 3      │\n",
       "│ 7   │ 7           │ 0        │ 1      │\n",
       "│ 8   │ 8           │ 0        │ 3      │\n",
       "│ 9   │ 9           │ 1        │ 3      │\n",
       "│ 10  │ 10          │ 1        │ 2      │\n",
       "│ 11  │ 11          │ 1        │ 3      │\n",
       "⋮\n",
       "│ 880 │ 880         │ 1        │ 1      │\n",
       "│ 881 │ 881         │ 1        │ 2      │\n",
       "│ 882 │ 882         │ 0        │ 3      │\n",
       "│ 883 │ 883         │ 0        │ 3      │\n",
       "│ 884 │ 884         │ 0        │ 2      │\n",
       "│ 885 │ 885         │ 0        │ 3      │\n",
       "│ 886 │ 886         │ 0        │ 3      │\n",
       "│ 887 │ 887         │ 0        │ 2      │\n",
       "│ 888 │ 888         │ 1        │ 1      │\n",
       "│ 889 │ 889         │ 0        │ 3      │\n",
       "│ 890 │ 890         │ 1        │ 1      │\n",
       "│ 891 │ 891         │ 0        │ 3      │\n",
       "\n",
       "│ Row │ Name                                                  │ Sex      │\n",
       "├─────┼───────────────────────────────────────────────────────┼──────────┤\n",
       "│ 1   │ \"Braund, Mr. Owen Harris\"                             │ \"male\"   │\n",
       "│ 2   │ \"Cumings, Mrs. John Bradley (Florence Briggs Thayer)\" │ \"female\" │\n",
       "│ 3   │ \"Heikkinen, Miss. Laina\"                              │ \"female\" │\n",
       "│ 4   │ \"Futrelle, Mrs. Jacques Heath (Lily May Peel)\"        │ \"female\" │\n",
       "│ 5   │ \"Allen, Mr. William Henry\"                            │ \"male\"   │\n",
       "│ 6   │ \"Moran, Mr. James\"                                    │ \"male\"   │\n",
       "│ 7   │ \"McCarthy, Mr. Timothy J\"                             │ \"male\"   │\n",
       "│ 8   │ \"Palsson, Master. Gosta Leonard\"                      │ \"male\"   │\n",
       "│ 9   │ \"Johnson, Mrs. Oscar W (Elisabeth Vilhelmina Berg)\"   │ \"female\" │\n",
       "│ 10  │ \"Nasser, Mrs. Nicholas (Adele Achem)\"                 │ \"female\" │\n",
       "│ 11  │ \"Sandstrom, Miss. Marguerite Rut\"                     │ \"female\" │\n",
       "⋮\n",
       "│ 880 │ \"Potter, Mrs. Thomas Jr (Lily Alexenia Wilson)\"       │ \"female\" │\n",
       "│ 881 │ \"Shelley, Mrs. William (Imanita Parrish Hall)\"        │ \"female\" │\n",
       "│ 882 │ \"Markun, Mr. Johann\"                                  │ \"male\"   │\n",
       "│ 883 │ \"Dahlberg, Miss. Gerda Ulrika\"                        │ \"female\" │\n",
       "│ 884 │ \"Banfield, Mr. Frederick James\"                       │ \"male\"   │\n",
       "│ 885 │ \"Sutehall, Mr. Henry Jr\"                              │ \"male\"   │\n",
       "│ 886 │ \"Rice, Mrs. William (Margaret Norton)\"                │ \"female\" │\n",
       "│ 887 │ \"Montvila, Rev. Juozas\"                               │ \"male\"   │\n",
       "│ 888 │ \"Graham, Miss. Margaret Edith\"                        │ \"female\" │\n",
       "│ 889 │ \"Johnston, Miss. Catherine Helen \\\"Carrie\\\"\"            │ \"female\" │\n",
       "│ 890 │ \"Behr, Mr. Karl Howell\"                               │ \"male\"   │\n",
       "│ 891 │ \"Dooley, Mr. Patrick\"                                 │ \"male\"   │\n",
       "\n",
       "│ Row │ Age  │ SibSp │ Parch │ Ticket             │ Fare    │ Cabin  │\n",
       "├─────┼──────┼───────┼───────┼────────────────────┼─────────┼────────┤\n",
       "│ 1   │ 22.0 │ 1     │ 0     │ \"A/5 21171\"        │ 7.25    │ NA     │\n",
       "│ 2   │ 38.0 │ 1     │ 0     │ \"PC 17599\"         │ 71.2833 │ \"C85\"  │\n",
       "│ 3   │ 26.0 │ 0     │ 0     │ \"STON/O2. 3101282\" │ 7.925   │ NA     │\n",
       "│ 4   │ 35.0 │ 1     │ 0     │ \"113803\"           │ 53.1    │ \"C123\" │\n",
       "│ 5   │ 35.0 │ 0     │ 0     │ \"373450\"           │ 8.05    │ NA     │\n",
       "│ 6   │ NA   │ 0     │ 0     │ \"330877\"           │ 8.4583  │ NA     │\n",
       "│ 7   │ 54.0 │ 0     │ 0     │ \"17463\"            │ 51.8625 │ \"E46\"  │\n",
       "│ 8   │ 2.0  │ 3     │ 1     │ \"349909\"           │ 21.075  │ NA     │\n",
       "│ 9   │ 27.0 │ 0     │ 2     │ \"347742\"           │ 11.1333 │ NA     │\n",
       "│ 10  │ 14.0 │ 1     │ 0     │ \"237736\"           │ 30.0708 │ NA     │\n",
       "│ 11  │ 4.0  │ 1     │ 1     │ \"PP 9549\"          │ 16.7    │ \"G6\"   │\n",
       "⋮\n",
       "│ 880 │ 56.0 │ 0     │ 1     │ \"11767\"            │ 83.1583 │ \"C50\"  │\n",
       "│ 881 │ 25.0 │ 0     │ 1     │ \"230433\"           │ 26.0    │ NA     │\n",
       "│ 882 │ 33.0 │ 0     │ 0     │ \"349257\"           │ 7.8958  │ NA     │\n",
       "│ 883 │ 22.0 │ 0     │ 0     │ \"7552\"             │ 10.5167 │ NA     │\n",
       "│ 884 │ 28.0 │ 0     │ 0     │ \"C.A./SOTON 34068\" │ 10.5    │ NA     │\n",
       "│ 885 │ 25.0 │ 0     │ 0     │ \"SOTON/OQ 392076\"  │ 7.05    │ NA     │\n",
       "│ 886 │ 39.0 │ 0     │ 5     │ \"382652\"           │ 29.125  │ NA     │\n",
       "│ 887 │ 27.0 │ 0     │ 0     │ \"211536\"           │ 13.0    │ NA     │\n",
       "│ 888 │ 19.0 │ 0     │ 0     │ \"112053\"           │ 30.0    │ \"B42\"  │\n",
       "│ 889 │ NA   │ 1     │ 2     │ \"W./C. 6607\"       │ 23.45   │ NA     │\n",
       "│ 890 │ 26.0 │ 0     │ 0     │ \"111369\"           │ 30.0    │ \"C148\" │\n",
       "│ 891 │ 32.0 │ 0     │ 0     │ \"370376\"           │ 7.75    │ NA     │\n",
       "\n",
       "│ Row │ Embarked │\n",
       "├─────┼──────────┤\n",
       "│ 1   │ \"S\"      │\n",
       "│ 2   │ \"C\"      │\n",
       "│ 3   │ \"S\"      │\n",
       "│ 4   │ \"S\"      │\n",
       "│ 5   │ \"S\"      │\n",
       "│ 6   │ \"Q\"      │\n",
       "│ 7   │ \"S\"      │\n",
       "│ 8   │ \"S\"      │\n",
       "│ 9   │ \"S\"      │\n",
       "│ 10  │ \"C\"      │\n",
       "│ 11  │ \"S\"      │\n",
       "⋮\n",
       "│ 880 │ \"C\"      │\n",
       "│ 881 │ \"S\"      │\n",
       "│ 882 │ \"S\"      │\n",
       "│ 883 │ \"S\"      │\n",
       "│ 884 │ \"S\"      │\n",
       "│ 885 │ \"S\"      │\n",
       "│ 886 │ \"Q\"      │\n",
       "│ 887 │ \"S\"      │\n",
       "│ 888 │ \"S\"      │\n",
       "│ 889 │ \"S\"      │\n",
       "│ 890 │ \"C\"      │\n",
       "│ 891 │ \"Q\"      │"
      ]
     },
     "execution_count": 2,
     "metadata": {},
     "output_type": "execute_result"
    }
   ],
   "source": [
    "train = readtable(\"train.csv\")"
   ]
  },
  {
   "cell_type": "code",
   "execution_count": 3,
   "metadata": {
    "collapsed": false
   },
   "outputs": [
    {
     "name": "stdout",
     "output_type": "stream",
     "text": [
      "PassengerId\n",
      "Min      1.0\n",
      "1st Qu.  223.5\n",
      "Median   446.0\n",
      "Mean     446.0\n",
      "3rd Qu.  668.5\n",
      "Max      891.0\n",
      "NAs      0\n",
      "NA%      0.0%\n",
      "\n",
      "Survived\n",
      "Min      0.0\n",
      "1st Qu.  0.0\n",
      "Median   0.0\n",
      "Mean     0.3838383838383838\n",
      "3rd Qu.  1.0\n",
      "Max      1.0\n",
      "NAs      0\n",
      "NA%      0.0%\n",
      "\n",
      "Pclass\n",
      "Min      1.0\n",
      "1st Qu.  2.0\n",
      "Median   3.0\n",
      "Mean     2.308641975308642\n",
      "3rd Qu.  3.0\n",
      "Max      3.0\n",
      "NAs      0\n",
      "NA%      0.0%\n",
      "\n",
      "Name\n",
      "Length  891\n",
      "Type    String\n",
      "NAs     0\n",
      "NA%     0.0%\n",
      "Unique  891\n",
      "\n",
      "Sex\n",
      "Length  891\n",
      "Type    String\n",
      "NAs     0\n",
      "NA%     0.0%\n",
      "Unique  2\n",
      "\n",
      "Age\n",
      "Min      0.42\n",
      "1st Qu.  20.125\n",
      "Median   28.0\n",
      "Mean     29.69911764705882\n",
      "3rd Qu.  38.0\n",
      "Max      80.0\n",
      "NAs      177\n",
      "NA%      19.87%\n",
      "\n",
      "SibSp\n",
      "Min      0.0\n",
      "1st Qu.  0.0\n",
      "Median   0.0\n",
      "Mean     0.5230078563411896\n",
      "3rd Qu.  1.0\n",
      "Max      8.0\n",
      "NAs      0\n",
      "NA%      0.0%\n",
      "\n",
      "Parch\n",
      "Min      0.0\n",
      "1st Qu.  0.0\n",
      "Median   0.0\n",
      "Mean     0.38159371492704824\n",
      "3rd Qu.  0.0\n",
      "Max      6.0\n",
      "NAs      0\n",
      "NA%      0.0%\n",
      "\n",
      "Ticket\n",
      "Length  891\n",
      "Type    String\n",
      "NAs     0\n",
      "NA%     0.0%\n",
      "Unique  681\n",
      "\n",
      "Fare\n",
      "Min      0.0\n",
      "1st Qu.  7.9104\n",
      "Median   14.4542\n",
      "Mean     32.204207968574636\n",
      "3rd Qu.  31.0\n",
      "Max      512.3292\n",
      "NAs      0\n",
      "NA%      0.0%\n",
      "\n",
      "Cabin\n",
      "Length  891\n",
      "Type    String\n",
      "NAs     687\n",
      "NA%     77.1%\n",
      "Unique  148\n",
      "\n",
      "Embarked\n",
      "Length  891\n",
      "Type    String\n",
      "NAs     2\n",
      "NA%     0.22%\n",
      "Unique  4\n",
      "\n"
     ]
    }
   ],
   "source": [
    "describe(train)"
   ]
  },
  {
   "cell_type": "code",
   "execution_count": 4,
   "metadata": {
    "collapsed": false
   },
   "outputs": [
    {
     "data": {
      "text/html": [
       "<table class=\"data-frame\"><thead><tr><th></th><th>PassengerId</th><th>Survived</th><th>Pclass</th><th>Name</th><th>Sex</th><th>Age</th><th>SibSp</th><th>Parch</th><th>Ticket</th><th>Fare</th><th>Cabin</th><th>Embarked</th></tr></thead><tbody><tr><th>1</th><td>62</td><td>1</td><td>1</td><td>Icard, Miss. Amelie</td><td>female</td><td>38.0</td><td>0</td><td>0</td><td>113572</td><td>80.0</td><td>B28</td><td>NA</td></tr><tr><th>2</th><td>830</td><td>1</td><td>1</td><td>Stone, Mrs. George Nelson (Martha Evelyn)</td><td>female</td><td>62.0</td><td>0</td><td>0</td><td>113572</td><td>80.0</td><td>B28</td><td>NA</td></tr></tbody></table>"
      ],
      "text/plain": [
       "2×12 DataFrames.DataFrame\n",
       "│ Row │ PassengerId │ Survived │ Pclass │\n",
       "├─────┼─────────────┼──────────┼────────┤\n",
       "│ 1   │ 62          │ 1        │ 1      │\n",
       "│ 2   │ 830         │ 1        │ 1      │\n",
       "\n",
       "│ Row │ Name                                        │ Sex      │ Age  │ SibSp │\n",
       "├─────┼─────────────────────────────────────────────┼──────────┼──────┼───────┤\n",
       "│ 1   │ \"Icard, Miss. Amelie\"                       │ \"female\" │ 38.0 │ 0     │\n",
       "│ 2   │ \"Stone, Mrs. George Nelson (Martha Evelyn)\" │ \"female\" │ 62.0 │ 0     │\n",
       "\n",
       "│ Row │ Parch │ Ticket   │ Fare │ Cabin │ Embarked │\n",
       "├─────┼───────┼──────────┼──────┼───────┼──────────┤\n",
       "│ 1   │ 0     │ \"113572\" │ 80.0 │ \"B28\" │ NA       │\n",
       "│ 2   │ 0     │ \"113572\" │ 80.0 │ \"B28\" │ NA       │"
      ]
     },
     "execution_count": 4,
     "metadata": {},
     "output_type": "execute_result"
    }
   ],
   "source": [
    "# view NA in Embarked\n",
    "train[isna(train[:,:Embarked]),:]"
   ]
  },
  {
   "cell_type": "code",
   "execution_count": 5,
   "metadata": {
    "collapsed": false
   },
   "outputs": [
    {
     "data": {
      "text/html": [
       "<table class=\"data-frame\"><thead><tr><th></th><th>PassengerId</th><th>Survived</th><th>Pclass</th><th>Name</th><th>Sex</th><th>Age</th><th>SibSp</th><th>Parch</th><th>Ticket</th><th>Fare</th><th>Cabin</th><th>Embarked</th></tr></thead><tbody><tr><th>1</th><td>1</td><td>0</td><td>3</td><td>Braund, Mr. Owen Harris</td><td>male</td><td>22.0</td><td>1</td><td>0</td><td>A/5 21171</td><td>7.25</td><td>NA</td><td>S</td></tr><tr><th>2</th><td>2</td><td>1</td><td>1</td><td>Cumings, Mrs. John Bradley (Florence Briggs Thayer)</td><td>female</td><td>38.0</td><td>1</td><td>0</td><td>PC 17599</td><td>71.2833</td><td>C85</td><td>C</td></tr><tr><th>3</th><td>3</td><td>1</td><td>3</td><td>Heikkinen, Miss. Laina</td><td>female</td><td>26.0</td><td>0</td><td>0</td><td>STON/O2. 3101282</td><td>7.925</td><td>NA</td><td>S</td></tr><tr><th>4</th><td>4</td><td>1</td><td>1</td><td>Futrelle, Mrs. Jacques Heath (Lily May Peel)</td><td>female</td><td>35.0</td><td>1</td><td>0</td><td>113803</td><td>53.1</td><td>C123</td><td>S</td></tr><tr><th>5</th><td>5</td><td>0</td><td>3</td><td>Allen, Mr. William Henry</td><td>male</td><td>35.0</td><td>0</td><td>0</td><td>373450</td><td>8.05</td><td>NA</td><td>S</td></tr><tr><th>6</th><td>6</td><td>0</td><td>3</td><td>Moran, Mr. James</td><td>male</td><td>NA</td><td>0</td><td>0</td><td>330877</td><td>8.4583</td><td>NA</td><td>Q</td></tr><tr><th>7</th><td>7</td><td>0</td><td>1</td><td>McCarthy, Mr. Timothy J</td><td>male</td><td>54.0</td><td>0</td><td>0</td><td>17463</td><td>51.8625</td><td>E46</td><td>S</td></tr><tr><th>8</th><td>8</td><td>0</td><td>3</td><td>Palsson, Master. Gosta Leonard</td><td>male</td><td>2.0</td><td>3</td><td>1</td><td>349909</td><td>21.075</td><td>NA</td><td>S</td></tr><tr><th>9</th><td>9</td><td>1</td><td>3</td><td>Johnson, Mrs. Oscar W (Elisabeth Vilhelmina Berg)</td><td>female</td><td>27.0</td><td>0</td><td>2</td><td>347742</td><td>11.1333</td><td>NA</td><td>S</td></tr><tr><th>10</th><td>10</td><td>1</td><td>2</td><td>Nasser, Mrs. Nicholas (Adele Achem)</td><td>female</td><td>14.0</td><td>1</td><td>0</td><td>237736</td><td>30.0708</td><td>NA</td><td>C</td></tr><tr><th>11</th><td>11</td><td>1</td><td>3</td><td>Sandstrom, Miss. Marguerite Rut</td><td>female</td><td>4.0</td><td>1</td><td>1</td><td>PP 9549</td><td>16.7</td><td>G6</td><td>S</td></tr><tr><th>12</th><td>12</td><td>1</td><td>1</td><td>Bonnell, Miss. Elizabeth</td><td>female</td><td>58.0</td><td>0</td><td>0</td><td>113783</td><td>26.55</td><td>C103</td><td>S</td></tr><tr><th>13</th><td>13</td><td>0</td><td>3</td><td>Saundercock, Mr. William Henry</td><td>male</td><td>20.0</td><td>0</td><td>0</td><td>A/5. 2151</td><td>8.05</td><td>NA</td><td>S</td></tr><tr><th>14</th><td>14</td><td>0</td><td>3</td><td>Andersson, Mr. Anders Johan</td><td>male</td><td>39.0</td><td>1</td><td>5</td><td>347082</td><td>31.275</td><td>NA</td><td>S</td></tr><tr><th>15</th><td>15</td><td>0</td><td>3</td><td>Vestrom, Miss. Hulda Amanda Adolfina</td><td>female</td><td>14.0</td><td>0</td><td>0</td><td>350406</td><td>7.8542</td><td>NA</td><td>S</td></tr><tr><th>16</th><td>16</td><td>1</td><td>2</td><td>Hewlett, Mrs. (Mary D Kingcome) </td><td>female</td><td>55.0</td><td>0</td><td>0</td><td>248706</td><td>16.0</td><td>NA</td><td>S</td></tr><tr><th>17</th><td>17</td><td>0</td><td>3</td><td>Rice, Master. Eugene</td><td>male</td><td>2.0</td><td>4</td><td>1</td><td>382652</td><td>29.125</td><td>NA</td><td>Q</td></tr><tr><th>18</th><td>18</td><td>1</td><td>2</td><td>Williams, Mr. Charles Eugene</td><td>male</td><td>NA</td><td>0</td><td>0</td><td>244373</td><td>13.0</td><td>NA</td><td>S</td></tr><tr><th>19</th><td>19</td><td>0</td><td>3</td><td>Vander Planke, Mrs. Julius (Emelia Maria Vandemoortele)</td><td>female</td><td>31.0</td><td>1</td><td>0</td><td>345763</td><td>18.0</td><td>NA</td><td>S</td></tr><tr><th>20</th><td>20</td><td>1</td><td>3</td><td>Masselmani, Mrs. Fatima</td><td>female</td><td>NA</td><td>0</td><td>0</td><td>2649</td><td>7.225</td><td>NA</td><td>C</td></tr><tr><th>21</th><td>21</td><td>0</td><td>2</td><td>Fynney, Mr. Joseph J</td><td>male</td><td>35.0</td><td>0</td><td>0</td><td>239865</td><td>26.0</td><td>NA</td><td>S</td></tr><tr><th>22</th><td>22</td><td>1</td><td>2</td><td>Beesley, Mr. Lawrence</td><td>male</td><td>34.0</td><td>0</td><td>0</td><td>248698</td><td>13.0</td><td>D56</td><td>S</td></tr><tr><th>23</th><td>23</td><td>1</td><td>3</td><td>McGowan, Miss. Anna \"Annie\"</td><td>female</td><td>15.0</td><td>0</td><td>0</td><td>330923</td><td>8.0292</td><td>NA</td><td>Q</td></tr><tr><th>24</th><td>24</td><td>1</td><td>1</td><td>Sloper, Mr. William Thompson</td><td>male</td><td>28.0</td><td>0</td><td>0</td><td>113788</td><td>35.5</td><td>A6</td><td>S</td></tr><tr><th>25</th><td>25</td><td>0</td><td>3</td><td>Palsson, Miss. Torborg Danira</td><td>female</td><td>8.0</td><td>3</td><td>1</td><td>349909</td><td>21.075</td><td>NA</td><td>S</td></tr><tr><th>26</th><td>26</td><td>1</td><td>3</td><td>Asplund, Mrs. Carl Oscar (Selma Augusta Emilia Johansson)</td><td>female</td><td>38.0</td><td>1</td><td>5</td><td>347077</td><td>31.3875</td><td>NA</td><td>S</td></tr><tr><th>27</th><td>27</td><td>0</td><td>3</td><td>Emir, Mr. Farred Chehab</td><td>male</td><td>NA</td><td>0</td><td>0</td><td>2631</td><td>7.225</td><td>NA</td><td>C</td></tr><tr><th>28</th><td>28</td><td>0</td><td>1</td><td>Fortune, Mr. Charles Alexander</td><td>male</td><td>19.0</td><td>3</td><td>2</td><td>19950</td><td>263.0</td><td>C23 C25 C27</td><td>S</td></tr><tr><th>29</th><td>29</td><td>1</td><td>3</td><td>O'Dwyer, Miss. Ellen \"Nellie\"</td><td>female</td><td>NA</td><td>0</td><td>0</td><td>330959</td><td>7.8792</td><td>NA</td><td>Q</td></tr><tr><th>30</th><td>30</td><td>0</td><td>3</td><td>Todoroff, Mr. Lalio</td><td>male</td><td>NA</td><td>0</td><td>0</td><td>349216</td><td>7.8958</td><td>NA</td><td>S</td></tr><tr><th>&vellip;</th><td>&vellip;</td><td>&vellip;</td><td>&vellip;</td><td>&vellip;</td><td>&vellip;</td><td>&vellip;</td><td>&vellip;</td><td>&vellip;</td><td>&vellip;</td><td>&vellip;</td><td>&vellip;</td><td>&vellip;</td></tr></tbody></table>"
      ],
      "text/plain": [
       "889×12 DataFrames.DataFrame\n",
       "│ Row │ PassengerId │ Survived │ Pclass │\n",
       "├─────┼─────────────┼──────────┼────────┤\n",
       "│ 1   │ 1           │ 0        │ 3      │\n",
       "│ 2   │ 2           │ 1        │ 1      │\n",
       "│ 3   │ 3           │ 1        │ 3      │\n",
       "│ 4   │ 4           │ 1        │ 1      │\n",
       "│ 5   │ 5           │ 0        │ 3      │\n",
       "│ 6   │ 6           │ 0        │ 3      │\n",
       "│ 7   │ 7           │ 0        │ 1      │\n",
       "│ 8   │ 8           │ 0        │ 3      │\n",
       "│ 9   │ 9           │ 1        │ 3      │\n",
       "│ 10  │ 10          │ 1        │ 2      │\n",
       "│ 11  │ 11          │ 1        │ 3      │\n",
       "⋮\n",
       "│ 878 │ 880         │ 1        │ 1      │\n",
       "│ 879 │ 881         │ 1        │ 2      │\n",
       "│ 880 │ 882         │ 0        │ 3      │\n",
       "│ 881 │ 883         │ 0        │ 3      │\n",
       "│ 882 │ 884         │ 0        │ 2      │\n",
       "│ 883 │ 885         │ 0        │ 3      │\n",
       "│ 884 │ 886         │ 0        │ 3      │\n",
       "│ 885 │ 887         │ 0        │ 2      │\n",
       "│ 886 │ 888         │ 1        │ 1      │\n",
       "│ 887 │ 889         │ 0        │ 3      │\n",
       "│ 888 │ 890         │ 1        │ 1      │\n",
       "│ 889 │ 891         │ 0        │ 3      │\n",
       "\n",
       "│ Row │ Name                                                  │ Sex      │\n",
       "├─────┼───────────────────────────────────────────────────────┼──────────┤\n",
       "│ 1   │ \"Braund, Mr. Owen Harris\"                             │ \"male\"   │\n",
       "│ 2   │ \"Cumings, Mrs. John Bradley (Florence Briggs Thayer)\" │ \"female\" │\n",
       "│ 3   │ \"Heikkinen, Miss. Laina\"                              │ \"female\" │\n",
       "│ 4   │ \"Futrelle, Mrs. Jacques Heath (Lily May Peel)\"        │ \"female\" │\n",
       "│ 5   │ \"Allen, Mr. William Henry\"                            │ \"male\"   │\n",
       "│ 6   │ \"Moran, Mr. James\"                                    │ \"male\"   │\n",
       "│ 7   │ \"McCarthy, Mr. Timothy J\"                             │ \"male\"   │\n",
       "│ 8   │ \"Palsson, Master. Gosta Leonard\"                      │ \"male\"   │\n",
       "│ 9   │ \"Johnson, Mrs. Oscar W (Elisabeth Vilhelmina Berg)\"   │ \"female\" │\n",
       "│ 10  │ \"Nasser, Mrs. Nicholas (Adele Achem)\"                 │ \"female\" │\n",
       "│ 11  │ \"Sandstrom, Miss. Marguerite Rut\"                     │ \"female\" │\n",
       "⋮\n",
       "│ 878 │ \"Potter, Mrs. Thomas Jr (Lily Alexenia Wilson)\"       │ \"female\" │\n",
       "│ 879 │ \"Shelley, Mrs. William (Imanita Parrish Hall)\"        │ \"female\" │\n",
       "│ 880 │ \"Markun, Mr. Johann\"                                  │ \"male\"   │\n",
       "│ 881 │ \"Dahlberg, Miss. Gerda Ulrika\"                        │ \"female\" │\n",
       "│ 882 │ \"Banfield, Mr. Frederick James\"                       │ \"male\"   │\n",
       "│ 883 │ \"Sutehall, Mr. Henry Jr\"                              │ \"male\"   │\n",
       "│ 884 │ \"Rice, Mrs. William (Margaret Norton)\"                │ \"female\" │\n",
       "│ 885 │ \"Montvila, Rev. Juozas\"                               │ \"male\"   │\n",
       "│ 886 │ \"Graham, Miss. Margaret Edith\"                        │ \"female\" │\n",
       "│ 887 │ \"Johnston, Miss. Catherine Helen \\\"Carrie\\\"\"            │ \"female\" │\n",
       "│ 888 │ \"Behr, Mr. Karl Howell\"                               │ \"male\"   │\n",
       "│ 889 │ \"Dooley, Mr. Patrick\"                                 │ \"male\"   │\n",
       "\n",
       "│ Row │ Age  │ SibSp │ Parch │ Ticket             │ Fare    │ Cabin  │\n",
       "├─────┼──────┼───────┼───────┼────────────────────┼─────────┼────────┤\n",
       "│ 1   │ 22.0 │ 1     │ 0     │ \"A/5 21171\"        │ 7.25    │ NA     │\n",
       "│ 2   │ 38.0 │ 1     │ 0     │ \"PC 17599\"         │ 71.2833 │ \"C85\"  │\n",
       "│ 3   │ 26.0 │ 0     │ 0     │ \"STON/O2. 3101282\" │ 7.925   │ NA     │\n",
       "│ 4   │ 35.0 │ 1     │ 0     │ \"113803\"           │ 53.1    │ \"C123\" │\n",
       "│ 5   │ 35.0 │ 0     │ 0     │ \"373450\"           │ 8.05    │ NA     │\n",
       "│ 6   │ NA   │ 0     │ 0     │ \"330877\"           │ 8.4583  │ NA     │\n",
       "│ 7   │ 54.0 │ 0     │ 0     │ \"17463\"            │ 51.8625 │ \"E46\"  │\n",
       "│ 8   │ 2.0  │ 3     │ 1     │ \"349909\"           │ 21.075  │ NA     │\n",
       "│ 9   │ 27.0 │ 0     │ 2     │ \"347742\"           │ 11.1333 │ NA     │\n",
       "│ 10  │ 14.0 │ 1     │ 0     │ \"237736\"           │ 30.0708 │ NA     │\n",
       "│ 11  │ 4.0  │ 1     │ 1     │ \"PP 9549\"          │ 16.7    │ \"G6\"   │\n",
       "⋮\n",
       "│ 878 │ 56.0 │ 0     │ 1     │ \"11767\"            │ 83.1583 │ \"C50\"  │\n",
       "│ 879 │ 25.0 │ 0     │ 1     │ \"230433\"           │ 26.0    │ NA     │\n",
       "│ 880 │ 33.0 │ 0     │ 0     │ \"349257\"           │ 7.8958  │ NA     │\n",
       "│ 881 │ 22.0 │ 0     │ 0     │ \"7552\"             │ 10.5167 │ NA     │\n",
       "│ 882 │ 28.0 │ 0     │ 0     │ \"C.A./SOTON 34068\" │ 10.5    │ NA     │\n",
       "│ 883 │ 25.0 │ 0     │ 0     │ \"SOTON/OQ 392076\"  │ 7.05    │ NA     │\n",
       "│ 884 │ 39.0 │ 0     │ 5     │ \"382652\"           │ 29.125  │ NA     │\n",
       "│ 885 │ 27.0 │ 0     │ 0     │ \"211536\"           │ 13.0    │ NA     │\n",
       "│ 886 │ 19.0 │ 0     │ 0     │ \"112053\"           │ 30.0    │ \"B42\"  │\n",
       "│ 887 │ NA   │ 1     │ 2     │ \"W./C. 6607\"       │ 23.45   │ NA     │\n",
       "│ 888 │ 26.0 │ 0     │ 0     │ \"111369\"           │ 30.0    │ \"C148\" │\n",
       "│ 889 │ 32.0 │ 0     │ 0     │ \"370376\"           │ 7.75    │ NA     │\n",
       "\n",
       "│ Row │ Embarked │\n",
       "├─────┼──────────┤\n",
       "│ 1   │ \"S\"      │\n",
       "│ 2   │ \"C\"      │\n",
       "│ 3   │ \"S\"      │\n",
       "│ 4   │ \"S\"      │\n",
       "│ 5   │ \"S\"      │\n",
       "│ 6   │ \"Q\"      │\n",
       "│ 7   │ \"S\"      │\n",
       "│ 8   │ \"S\"      │\n",
       "│ 9   │ \"S\"      │\n",
       "│ 10  │ \"C\"      │\n",
       "│ 11  │ \"S\"      │\n",
       "⋮\n",
       "│ 878 │ \"C\"      │\n",
       "│ 879 │ \"S\"      │\n",
       "│ 880 │ \"S\"      │\n",
       "│ 881 │ \"S\"      │\n",
       "│ 882 │ \"S\"      │\n",
       "│ 883 │ \"S\"      │\n",
       "│ 884 │ \"Q\"      │\n",
       "│ 885 │ \"S\"      │\n",
       "│ 886 │ \"S\"      │\n",
       "│ 887 │ \"S\"      │\n",
       "│ 888 │ \"C\"      │\n",
       "│ 889 │ \"Q\"      │"
      ]
     },
     "execution_count": 5,
     "metadata": {},
     "output_type": "execute_result"
    }
   ],
   "source": [
    "# drop NA in Embarked\n",
    "deleterows!(train,find(isna(train[:,Symbol(\"Embarked\")])))"
   ]
  },
  {
   "cell_type": "code",
   "execution_count": 6,
   "metadata": {
    "collapsed": false
   },
   "outputs": [
    {
     "data": {
      "text/html": [
       "<table class=\"data-frame\"><thead><tr><th></th><th>PassengerId</th><th>Survived</th><th>Pclass</th><th>Name</th><th>Sex</th><th>Age</th><th>SibSp</th><th>Parch</th><th>Ticket</th><th>Fare</th><th>Cabin</th><th>Embarked</th><th>CptTitle</th></tr></thead><tbody><tr><th>1</th><td>1</td><td>0</td><td>3</td><td>Braund, Mr. Owen Harris</td><td>male</td><td>22.0</td><td>1</td><td>0</td><td>A/5 21171</td><td>7.25</td><td>NA</td><td>S</td><td>Mr.</td></tr><tr><th>2</th><td>2</td><td>1</td><td>1</td><td>Cumings, Mrs. John Bradley (Florence Briggs Thayer)</td><td>female</td><td>38.0</td><td>1</td><td>0</td><td>PC 17599</td><td>71.2833</td><td>C85</td><td>C</td><td>Mrs.</td></tr><tr><th>3</th><td>3</td><td>1</td><td>3</td><td>Heikkinen, Miss. Laina</td><td>female</td><td>26.0</td><td>0</td><td>0</td><td>STON/O2. 3101282</td><td>7.925</td><td>NA</td><td>S</td><td>Miss.</td></tr><tr><th>4</th><td>4</td><td>1</td><td>1</td><td>Futrelle, Mrs. Jacques Heath (Lily May Peel)</td><td>female</td><td>35.0</td><td>1</td><td>0</td><td>113803</td><td>53.1</td><td>C123</td><td>S</td><td>Mrs.</td></tr><tr><th>5</th><td>5</td><td>0</td><td>3</td><td>Allen, Mr. William Henry</td><td>male</td><td>35.0</td><td>0</td><td>0</td><td>373450</td><td>8.05</td><td>NA</td><td>S</td><td>Mr.</td></tr><tr><th>6</th><td>6</td><td>0</td><td>3</td><td>Moran, Mr. James</td><td>male</td><td>NA</td><td>0</td><td>0</td><td>330877</td><td>8.4583</td><td>NA</td><td>Q</td><td>Mr.</td></tr><tr><th>7</th><td>7</td><td>0</td><td>1</td><td>McCarthy, Mr. Timothy J</td><td>male</td><td>54.0</td><td>0</td><td>0</td><td>17463</td><td>51.8625</td><td>E46</td><td>S</td><td>Mr.</td></tr><tr><th>8</th><td>8</td><td>0</td><td>3</td><td>Palsson, Master. Gosta Leonard</td><td>male</td><td>2.0</td><td>3</td><td>1</td><td>349909</td><td>21.075</td><td>NA</td><td>S</td><td>Master.</td></tr><tr><th>9</th><td>9</td><td>1</td><td>3</td><td>Johnson, Mrs. Oscar W (Elisabeth Vilhelmina Berg)</td><td>female</td><td>27.0</td><td>0</td><td>2</td><td>347742</td><td>11.1333</td><td>NA</td><td>S</td><td>Mrs.</td></tr><tr><th>10</th><td>10</td><td>1</td><td>2</td><td>Nasser, Mrs. Nicholas (Adele Achem)</td><td>female</td><td>14.0</td><td>1</td><td>0</td><td>237736</td><td>30.0708</td><td>NA</td><td>C</td><td>Mrs.</td></tr><tr><th>11</th><td>11</td><td>1</td><td>3</td><td>Sandstrom, Miss. Marguerite Rut</td><td>female</td><td>4.0</td><td>1</td><td>1</td><td>PP 9549</td><td>16.7</td><td>G6</td><td>S</td><td>Miss.</td></tr><tr><th>12</th><td>12</td><td>1</td><td>1</td><td>Bonnell, Miss. Elizabeth</td><td>female</td><td>58.0</td><td>0</td><td>0</td><td>113783</td><td>26.55</td><td>C103</td><td>S</td><td>Miss.</td></tr><tr><th>13</th><td>13</td><td>0</td><td>3</td><td>Saundercock, Mr. William Henry</td><td>male</td><td>20.0</td><td>0</td><td>0</td><td>A/5. 2151</td><td>8.05</td><td>NA</td><td>S</td><td>Mr.</td></tr><tr><th>14</th><td>14</td><td>0</td><td>3</td><td>Andersson, Mr. Anders Johan</td><td>male</td><td>39.0</td><td>1</td><td>5</td><td>347082</td><td>31.275</td><td>NA</td><td>S</td><td>Mr.</td></tr><tr><th>15</th><td>15</td><td>0</td><td>3</td><td>Vestrom, Miss. Hulda Amanda Adolfina</td><td>female</td><td>14.0</td><td>0</td><td>0</td><td>350406</td><td>7.8542</td><td>NA</td><td>S</td><td>Miss.</td></tr><tr><th>16</th><td>16</td><td>1</td><td>2</td><td>Hewlett, Mrs. (Mary D Kingcome) </td><td>female</td><td>55.0</td><td>0</td><td>0</td><td>248706</td><td>16.0</td><td>NA</td><td>S</td><td>Mrs.</td></tr><tr><th>17</th><td>17</td><td>0</td><td>3</td><td>Rice, Master. Eugene</td><td>male</td><td>2.0</td><td>4</td><td>1</td><td>382652</td><td>29.125</td><td>NA</td><td>Q</td><td>Master.</td></tr><tr><th>18</th><td>18</td><td>1</td><td>2</td><td>Williams, Mr. Charles Eugene</td><td>male</td><td>NA</td><td>0</td><td>0</td><td>244373</td><td>13.0</td><td>NA</td><td>S</td><td>Mr.</td></tr><tr><th>19</th><td>19</td><td>0</td><td>3</td><td>Vander Planke, Mrs. Julius (Emelia Maria Vandemoortele)</td><td>female</td><td>31.0</td><td>1</td><td>0</td><td>345763</td><td>18.0</td><td>NA</td><td>S</td><td>Mrs.</td></tr><tr><th>20</th><td>20</td><td>1</td><td>3</td><td>Masselmani, Mrs. Fatima</td><td>female</td><td>NA</td><td>0</td><td>0</td><td>2649</td><td>7.225</td><td>NA</td><td>C</td><td>Mrs.</td></tr><tr><th>21</th><td>21</td><td>0</td><td>2</td><td>Fynney, Mr. Joseph J</td><td>male</td><td>35.0</td><td>0</td><td>0</td><td>239865</td><td>26.0</td><td>NA</td><td>S</td><td>Mr.</td></tr><tr><th>22</th><td>22</td><td>1</td><td>2</td><td>Beesley, Mr. Lawrence</td><td>male</td><td>34.0</td><td>0</td><td>0</td><td>248698</td><td>13.0</td><td>D56</td><td>S</td><td>Mr.</td></tr><tr><th>23</th><td>23</td><td>1</td><td>3</td><td>McGowan, Miss. Anna \"Annie\"</td><td>female</td><td>15.0</td><td>0</td><td>0</td><td>330923</td><td>8.0292</td><td>NA</td><td>Q</td><td>Miss.</td></tr><tr><th>24</th><td>24</td><td>1</td><td>1</td><td>Sloper, Mr. William Thompson</td><td>male</td><td>28.0</td><td>0</td><td>0</td><td>113788</td><td>35.5</td><td>A6</td><td>S</td><td>Mr.</td></tr><tr><th>25</th><td>25</td><td>0</td><td>3</td><td>Palsson, Miss. Torborg Danira</td><td>female</td><td>8.0</td><td>3</td><td>1</td><td>349909</td><td>21.075</td><td>NA</td><td>S</td><td>Miss.</td></tr><tr><th>26</th><td>26</td><td>1</td><td>3</td><td>Asplund, Mrs. Carl Oscar (Selma Augusta Emilia Johansson)</td><td>female</td><td>38.0</td><td>1</td><td>5</td><td>347077</td><td>31.3875</td><td>NA</td><td>S</td><td>Mrs.</td></tr><tr><th>27</th><td>27</td><td>0</td><td>3</td><td>Emir, Mr. Farred Chehab</td><td>male</td><td>NA</td><td>0</td><td>0</td><td>2631</td><td>7.225</td><td>NA</td><td>C</td><td>Mr.</td></tr><tr><th>28</th><td>28</td><td>0</td><td>1</td><td>Fortune, Mr. Charles Alexander</td><td>male</td><td>19.0</td><td>3</td><td>2</td><td>19950</td><td>263.0</td><td>C23 C25 C27</td><td>S</td><td>Mr.</td></tr><tr><th>29</th><td>29</td><td>1</td><td>3</td><td>O'Dwyer, Miss. Ellen \"Nellie\"</td><td>female</td><td>NA</td><td>0</td><td>0</td><td>330959</td><td>7.8792</td><td>NA</td><td>Q</td><td>Miss.</td></tr><tr><th>30</th><td>30</td><td>0</td><td>3</td><td>Todoroff, Mr. Lalio</td><td>male</td><td>NA</td><td>0</td><td>0</td><td>349216</td><td>7.8958</td><td>NA</td><td>S</td><td>Mr.</td></tr><tr><th>&vellip;</th><td>&vellip;</td><td>&vellip;</td><td>&vellip;</td><td>&vellip;</td><td>&vellip;</td><td>&vellip;</td><td>&vellip;</td><td>&vellip;</td><td>&vellip;</td><td>&vellip;</td><td>&vellip;</td><td>&vellip;</td><td>&vellip;</td></tr></tbody></table>"
      ],
      "text/plain": [
       "889×13 DataFrames.DataFrame\n",
       "│ Row │ PassengerId │ Survived │ Pclass │\n",
       "├─────┼─────────────┼──────────┼────────┤\n",
       "│ 1   │ 1           │ 0        │ 3      │\n",
       "│ 2   │ 2           │ 1        │ 1      │\n",
       "│ 3   │ 3           │ 1        │ 3      │\n",
       "│ 4   │ 4           │ 1        │ 1      │\n",
       "│ 5   │ 5           │ 0        │ 3      │\n",
       "│ 6   │ 6           │ 0        │ 3      │\n",
       "│ 7   │ 7           │ 0        │ 1      │\n",
       "│ 8   │ 8           │ 0        │ 3      │\n",
       "│ 9   │ 9           │ 1        │ 3      │\n",
       "│ 10  │ 10          │ 1        │ 2      │\n",
       "│ 11  │ 11          │ 1        │ 3      │\n",
       "⋮\n",
       "│ 878 │ 880         │ 1        │ 1      │\n",
       "│ 879 │ 881         │ 1        │ 2      │\n",
       "│ 880 │ 882         │ 0        │ 3      │\n",
       "│ 881 │ 883         │ 0        │ 3      │\n",
       "│ 882 │ 884         │ 0        │ 2      │\n",
       "│ 883 │ 885         │ 0        │ 3      │\n",
       "│ 884 │ 886         │ 0        │ 3      │\n",
       "│ 885 │ 887         │ 0        │ 2      │\n",
       "│ 886 │ 888         │ 1        │ 1      │\n",
       "│ 887 │ 889         │ 0        │ 3      │\n",
       "│ 888 │ 890         │ 1        │ 1      │\n",
       "│ 889 │ 891         │ 0        │ 3      │\n",
       "\n",
       "│ Row │ Name                                                  │ Sex      │\n",
       "├─────┼───────────────────────────────────────────────────────┼──────────┤\n",
       "│ 1   │ \"Braund, Mr. Owen Harris\"                             │ \"male\"   │\n",
       "│ 2   │ \"Cumings, Mrs. John Bradley (Florence Briggs Thayer)\" │ \"female\" │\n",
       "│ 3   │ \"Heikkinen, Miss. Laina\"                              │ \"female\" │\n",
       "│ 4   │ \"Futrelle, Mrs. Jacques Heath (Lily May Peel)\"        │ \"female\" │\n",
       "│ 5   │ \"Allen, Mr. William Henry\"                            │ \"male\"   │\n",
       "│ 6   │ \"Moran, Mr. James\"                                    │ \"male\"   │\n",
       "│ 7   │ \"McCarthy, Mr. Timothy J\"                             │ \"male\"   │\n",
       "│ 8   │ \"Palsson, Master. Gosta Leonard\"                      │ \"male\"   │\n",
       "│ 9   │ \"Johnson, Mrs. Oscar W (Elisabeth Vilhelmina Berg)\"   │ \"female\" │\n",
       "│ 10  │ \"Nasser, Mrs. Nicholas (Adele Achem)\"                 │ \"female\" │\n",
       "│ 11  │ \"Sandstrom, Miss. Marguerite Rut\"                     │ \"female\" │\n",
       "⋮\n",
       "│ 878 │ \"Potter, Mrs. Thomas Jr (Lily Alexenia Wilson)\"       │ \"female\" │\n",
       "│ 879 │ \"Shelley, Mrs. William (Imanita Parrish Hall)\"        │ \"female\" │\n",
       "│ 880 │ \"Markun, Mr. Johann\"                                  │ \"male\"   │\n",
       "│ 881 │ \"Dahlberg, Miss. Gerda Ulrika\"                        │ \"female\" │\n",
       "│ 882 │ \"Banfield, Mr. Frederick James\"                       │ \"male\"   │\n",
       "│ 883 │ \"Sutehall, Mr. Henry Jr\"                              │ \"male\"   │\n",
       "│ 884 │ \"Rice, Mrs. William (Margaret Norton)\"                │ \"female\" │\n",
       "│ 885 │ \"Montvila, Rev. Juozas\"                               │ \"male\"   │\n",
       "│ 886 │ \"Graham, Miss. Margaret Edith\"                        │ \"female\" │\n",
       "│ 887 │ \"Johnston, Miss. Catherine Helen \\\"Carrie\\\"\"            │ \"female\" │\n",
       "│ 888 │ \"Behr, Mr. Karl Howell\"                               │ \"male\"   │\n",
       "│ 889 │ \"Dooley, Mr. Patrick\"                                 │ \"male\"   │\n",
       "\n",
       "│ Row │ Age  │ SibSp │ Parch │ Ticket             │ Fare    │ Cabin  │\n",
       "├─────┼──────┼───────┼───────┼────────────────────┼─────────┼────────┤\n",
       "│ 1   │ 22.0 │ 1     │ 0     │ \"A/5 21171\"        │ 7.25    │ NA     │\n",
       "│ 2   │ 38.0 │ 1     │ 0     │ \"PC 17599\"         │ 71.2833 │ \"C85\"  │\n",
       "│ 3   │ 26.0 │ 0     │ 0     │ \"STON/O2. 3101282\" │ 7.925   │ NA     │\n",
       "│ 4   │ 35.0 │ 1     │ 0     │ \"113803\"           │ 53.1    │ \"C123\" │\n",
       "│ 5   │ 35.0 │ 0     │ 0     │ \"373450\"           │ 8.05    │ NA     │\n",
       "│ 6   │ NA   │ 0     │ 0     │ \"330877\"           │ 8.4583  │ NA     │\n",
       "│ 7   │ 54.0 │ 0     │ 0     │ \"17463\"            │ 51.8625 │ \"E46\"  │\n",
       "│ 8   │ 2.0  │ 3     │ 1     │ \"349909\"           │ 21.075  │ NA     │\n",
       "│ 9   │ 27.0 │ 0     │ 2     │ \"347742\"           │ 11.1333 │ NA     │\n",
       "│ 10  │ 14.0 │ 1     │ 0     │ \"237736\"           │ 30.0708 │ NA     │\n",
       "│ 11  │ 4.0  │ 1     │ 1     │ \"PP 9549\"          │ 16.7    │ \"G6\"   │\n",
       "⋮\n",
       "│ 878 │ 56.0 │ 0     │ 1     │ \"11767\"            │ 83.1583 │ \"C50\"  │\n",
       "│ 879 │ 25.0 │ 0     │ 1     │ \"230433\"           │ 26.0    │ NA     │\n",
       "│ 880 │ 33.0 │ 0     │ 0     │ \"349257\"           │ 7.8958  │ NA     │\n",
       "│ 881 │ 22.0 │ 0     │ 0     │ \"7552\"             │ 10.5167 │ NA     │\n",
       "│ 882 │ 28.0 │ 0     │ 0     │ \"C.A./SOTON 34068\" │ 10.5    │ NA     │\n",
       "│ 883 │ 25.0 │ 0     │ 0     │ \"SOTON/OQ 392076\"  │ 7.05    │ NA     │\n",
       "│ 884 │ 39.0 │ 0     │ 5     │ \"382652\"           │ 29.125  │ NA     │\n",
       "│ 885 │ 27.0 │ 0     │ 0     │ \"211536\"           │ 13.0    │ NA     │\n",
       "│ 886 │ 19.0 │ 0     │ 0     │ \"112053\"           │ 30.0    │ \"B42\"  │\n",
       "│ 887 │ NA   │ 1     │ 2     │ \"W./C. 6607\"       │ 23.45   │ NA     │\n",
       "│ 888 │ 26.0 │ 0     │ 0     │ \"111369\"           │ 30.0    │ \"C148\" │\n",
       "│ 889 │ 32.0 │ 0     │ 0     │ \"370376\"           │ 7.75    │ NA     │\n",
       "\n",
       "│ Row │ Embarked │ CptTitle  │\n",
       "├─────┼──────────┼───────────┤\n",
       "│ 1   │ \"S\"      │ \"Mr.\"     │\n",
       "│ 2   │ \"C\"      │ \"Mrs.\"    │\n",
       "│ 3   │ \"S\"      │ \"Miss.\"   │\n",
       "│ 4   │ \"S\"      │ \"Mrs.\"    │\n",
       "│ 5   │ \"S\"      │ \"Mr.\"     │\n",
       "│ 6   │ \"Q\"      │ \"Mr.\"     │\n",
       "│ 7   │ \"S\"      │ \"Mr.\"     │\n",
       "│ 8   │ \"S\"      │ \"Master.\" │\n",
       "│ 9   │ \"S\"      │ \"Mrs.\"    │\n",
       "│ 10  │ \"C\"      │ \"Mrs.\"    │\n",
       "│ 11  │ \"S\"      │ \"Miss.\"   │\n",
       "⋮\n",
       "│ 878 │ \"C\"      │ \"Mrs.\"    │\n",
       "│ 879 │ \"S\"      │ \"Mrs.\"    │\n",
       "│ 880 │ \"S\"      │ \"Mr.\"     │\n",
       "│ 881 │ \"S\"      │ \"Miss.\"   │\n",
       "│ 882 │ \"S\"      │ \"Mr.\"     │\n",
       "│ 883 │ \"S\"      │ \"Mr.\"     │\n",
       "│ 884 │ \"Q\"      │ \"Mrs.\"    │\n",
       "│ 885 │ \"S\"      │ \"Rev.\"    │\n",
       "│ 886 │ \"S\"      │ \"Miss.\"   │\n",
       "│ 887 │ \"S\"      │ \"Miss.\"   │\n",
       "│ 888 │ \"C\"      │ \"Mr.\"     │\n",
       "│ 889 │ \"Q\"      │ \"Mr.\"     │"
      ]
     },
     "execution_count": 6,
     "metadata": {},
     "output_type": "execute_result"
    }
   ],
   "source": [
    "# Extract Title from Name\n",
    "train = @transform(train,\n",
    "CptTitle = map(s->match(r\"(?<=, ).*?\\.\", s).match, :Name)\n",
    "    )"
   ]
  },
  {
   "cell_type": "code",
   "execution_count": 7,
   "metadata": {
    "collapsed": false
   },
   "outputs": [
    {
     "data": {
      "text/html": [
       "<table class=\"data-frame\"><thead><tr><th></th><th>Pclass</th><th>Sex</th><th>CptTitle</th><th>x1</th></tr></thead><tbody><tr><th>1</th><td>1</td><td>female</td><td>Mrs.</td><td>40.0</td></tr><tr><th>2</th><td>1</td><td>female</td><td>Miss.</td><td>30.0</td></tr><tr><th>3</th><td>1</td><td>female</td><td>Dr.</td><td>49.0</td></tr><tr><th>4</th><td>1</td><td>female</td><td>Mme.</td><td>24.0</td></tr><tr><th>5</th><td>1</td><td>female</td><td>Lady.</td><td>48.0</td></tr><tr><th>6</th><td>1</td><td>female</td><td>Mlle.</td><td>24.0</td></tr><tr><th>7</th><td>1</td><td>female</td><td>the Countess.</td><td>33.0</td></tr><tr><th>8</th><td>1</td><td>male</td><td>Mr.</td><td>40.0</td></tr><tr><th>9</th><td>1</td><td>male</td><td>Master.</td><td>4.0</td></tr><tr><th>10</th><td>1</td><td>male</td><td>Don.</td><td>40.0</td></tr><tr><th>11</th><td>1</td><td>male</td><td>Dr.</td><td>44.0</td></tr><tr><th>12</th><td>1</td><td>male</td><td>Major.</td><td>48.5</td></tr><tr><th>13</th><td>1</td><td>male</td><td>Sir.</td><td>49.0</td></tr><tr><th>14</th><td>1</td><td>male</td><td>Col.</td><td>58.0</td></tr><tr><th>15</th><td>1</td><td>male</td><td>Capt.</td><td>70.0</td></tr><tr><th>16</th><td>1</td><td>male</td><td>Jonkheer.</td><td>38.0</td></tr><tr><th>17</th><td>2</td><td>female</td><td>Mrs.</td><td>32.0</td></tr><tr><th>18</th><td>2</td><td>female</td><td>Miss.</td><td>24.0</td></tr><tr><th>19</th><td>2</td><td>female</td><td>Ms.</td><td>28.0</td></tr><tr><th>20</th><td>2</td><td>male</td><td>Mr.</td><td>31.0</td></tr><tr><th>21</th><td>2</td><td>male</td><td>Master.</td><td>1.0</td></tr><tr><th>22</th><td>2</td><td>male</td><td>Rev.</td><td>46.5</td></tr><tr><th>23</th><td>2</td><td>male</td><td>Dr.</td><td>38.5</td></tr><tr><th>24</th><td>3</td><td>female</td><td>Mrs.</td><td>31.0</td></tr><tr><th>25</th><td>3</td><td>female</td><td>Miss.</td><td>18.0</td></tr><tr><th>26</th><td>3</td><td>male</td><td>Mr.</td><td>26.0</td></tr><tr><th>27</th><td>3</td><td>male</td><td>Master.</td><td>4.0</td></tr></tbody></table>"
      ],
      "text/plain": [
       "27×4 DataFrames.DataFrame\n",
       "│ Row │ Pclass │ Sex      │ CptTitle        │ x1   │\n",
       "├─────┼────────┼──────────┼─────────────────┼──────┤\n",
       "│ 1   │ 1      │ \"female\" │ \"Mrs.\"          │ 40.0 │\n",
       "│ 2   │ 1      │ \"female\" │ \"Miss.\"         │ 30.0 │\n",
       "│ 3   │ 1      │ \"female\" │ \"Dr.\"           │ 49.0 │\n",
       "│ 4   │ 1      │ \"female\" │ \"Mme.\"          │ 24.0 │\n",
       "│ 5   │ 1      │ \"female\" │ \"Lady.\"         │ 48.0 │\n",
       "│ 6   │ 1      │ \"female\" │ \"Mlle.\"         │ 24.0 │\n",
       "│ 7   │ 1      │ \"female\" │ \"the Countess.\" │ 33.0 │\n",
       "│ 8   │ 1      │ \"male\"   │ \"Mr.\"           │ 40.0 │\n",
       "│ 9   │ 1      │ \"male\"   │ \"Master.\"       │ 4.0  │\n",
       "│ 10  │ 1      │ \"male\"   │ \"Don.\"          │ 40.0 │\n",
       "│ 11  │ 1      │ \"male\"   │ \"Dr.\"           │ 44.0 │\n",
       "⋮\n",
       "│ 16  │ 1      │ \"male\"   │ \"Jonkheer.\"     │ 38.0 │\n",
       "│ 17  │ 2      │ \"female\" │ \"Mrs.\"          │ 32.0 │\n",
       "│ 18  │ 2      │ \"female\" │ \"Miss.\"         │ 24.0 │\n",
       "│ 19  │ 2      │ \"female\" │ \"Ms.\"           │ 28.0 │\n",
       "│ 20  │ 2      │ \"male\"   │ \"Mr.\"           │ 31.0 │\n",
       "│ 21  │ 2      │ \"male\"   │ \"Master.\"       │ 1.0  │\n",
       "│ 22  │ 2      │ \"male\"   │ \"Rev.\"          │ 46.5 │\n",
       "│ 23  │ 2      │ \"male\"   │ \"Dr.\"           │ 38.5 │\n",
       "│ 24  │ 3      │ \"female\" │ \"Mrs.\"          │ 31.0 │\n",
       "│ 25  │ 3      │ \"female\" │ \"Miss.\"         │ 18.0 │\n",
       "│ 26  │ 3      │ \"male\"   │ \"Mr.\"           │ 26.0 │\n",
       "│ 27  │ 3      │ \"male\"   │ \"Master.\"       │ 4.0  │"
      ]
     },
     "execution_count": 7,
     "metadata": {},
     "output_type": "execute_result"
    }
   ],
   "source": [
    "#Compute the median age depending of class, sex, title\n",
    "df_Agegroup = by(train, [:Pclass,:Sex,:CptTitle], df -> median(dropna(df[:Age])))"
   ]
  },
  {
   "cell_type": "code",
   "execution_count": 8,
   "metadata": {
    "collapsed": false
   },
   "outputs": [
    {
     "data": {
      "text/plain": [
       "groupby_Age (generic function with 1 method)"
      ]
     },
     "execution_count": 8,
     "metadata": {},
     "output_type": "execute_result"
    }
   ],
   "source": [
    "function groupby_Age(in_Age,df_groupby,in_Pclass,tx_Sex,tx_Title)\n",
    "    ifelse(\n",
    "        isna(in_Age),\n",
    "        reshape(df_groupby[\n",
    "            (df_groupby[:Pclass].==in_Pclass)&\n",
    "            (df_groupby[:Sex].==tx_Sex)&\n",
    "        (df_groupby[:CptTitle].==tx_Title)\n",
    "        ,:x1], 1)[1],\n",
    "    in_Age)\n",
    "end"
   ]
  },
  {
   "cell_type": "code",
   "execution_count": 9,
   "metadata": {
    "collapsed": false
   },
   "outputs": [
    {
     "data": {
      "text/html": [
       "<table class=\"data-frame\"><thead><tr><th></th><th>PassengerId</th><th>Survived</th><th>Pclass</th><th>Name</th><th>Sex</th><th>Age</th><th>SibSp</th><th>Parch</th><th>Ticket</th><th>Fare</th><th>Cabin</th><th>Embarked</th><th>CptTitle</th><th>CptAge</th></tr></thead><tbody><tr><th>1</th><td>1</td><td>0</td><td>3</td><td>Braund, Mr. Owen Harris</td><td>male</td><td>22.0</td><td>1</td><td>0</td><td>A/5 21171</td><td>7.25</td><td>NA</td><td>S</td><td>Mr.</td><td>22.0</td></tr><tr><th>2</th><td>2</td><td>1</td><td>1</td><td>Cumings, Mrs. John Bradley (Florence Briggs Thayer)</td><td>female</td><td>38.0</td><td>1</td><td>0</td><td>PC 17599</td><td>71.2833</td><td>C85</td><td>C</td><td>Mrs.</td><td>38.0</td></tr><tr><th>3</th><td>3</td><td>1</td><td>3</td><td>Heikkinen, Miss. Laina</td><td>female</td><td>26.0</td><td>0</td><td>0</td><td>STON/O2. 3101282</td><td>7.925</td><td>NA</td><td>S</td><td>Miss.</td><td>26.0</td></tr><tr><th>4</th><td>4</td><td>1</td><td>1</td><td>Futrelle, Mrs. Jacques Heath (Lily May Peel)</td><td>female</td><td>35.0</td><td>1</td><td>0</td><td>113803</td><td>53.1</td><td>C123</td><td>S</td><td>Mrs.</td><td>35.0</td></tr><tr><th>5</th><td>5</td><td>0</td><td>3</td><td>Allen, Mr. William Henry</td><td>male</td><td>35.0</td><td>0</td><td>0</td><td>373450</td><td>8.05</td><td>NA</td><td>S</td><td>Mr.</td><td>35.0</td></tr><tr><th>6</th><td>6</td><td>0</td><td>3</td><td>Moran, Mr. James</td><td>male</td><td>NA</td><td>0</td><td>0</td><td>330877</td><td>8.4583</td><td>NA</td><td>Q</td><td>Mr.</td><td>26.0</td></tr><tr><th>7</th><td>7</td><td>0</td><td>1</td><td>McCarthy, Mr. Timothy J</td><td>male</td><td>54.0</td><td>0</td><td>0</td><td>17463</td><td>51.8625</td><td>E46</td><td>S</td><td>Mr.</td><td>54.0</td></tr><tr><th>8</th><td>8</td><td>0</td><td>3</td><td>Palsson, Master. Gosta Leonard</td><td>male</td><td>2.0</td><td>3</td><td>1</td><td>349909</td><td>21.075</td><td>NA</td><td>S</td><td>Master.</td><td>2.0</td></tr><tr><th>9</th><td>9</td><td>1</td><td>3</td><td>Johnson, Mrs. Oscar W (Elisabeth Vilhelmina Berg)</td><td>female</td><td>27.0</td><td>0</td><td>2</td><td>347742</td><td>11.1333</td><td>NA</td><td>S</td><td>Mrs.</td><td>27.0</td></tr><tr><th>10</th><td>10</td><td>1</td><td>2</td><td>Nasser, Mrs. Nicholas (Adele Achem)</td><td>female</td><td>14.0</td><td>1</td><td>0</td><td>237736</td><td>30.0708</td><td>NA</td><td>C</td><td>Mrs.</td><td>14.0</td></tr><tr><th>11</th><td>11</td><td>1</td><td>3</td><td>Sandstrom, Miss. Marguerite Rut</td><td>female</td><td>4.0</td><td>1</td><td>1</td><td>PP 9549</td><td>16.7</td><td>G6</td><td>S</td><td>Miss.</td><td>4.0</td></tr><tr><th>12</th><td>12</td><td>1</td><td>1</td><td>Bonnell, Miss. Elizabeth</td><td>female</td><td>58.0</td><td>0</td><td>0</td><td>113783</td><td>26.55</td><td>C103</td><td>S</td><td>Miss.</td><td>58.0</td></tr><tr><th>13</th><td>13</td><td>0</td><td>3</td><td>Saundercock, Mr. William Henry</td><td>male</td><td>20.0</td><td>0</td><td>0</td><td>A/5. 2151</td><td>8.05</td><td>NA</td><td>S</td><td>Mr.</td><td>20.0</td></tr><tr><th>14</th><td>14</td><td>0</td><td>3</td><td>Andersson, Mr. Anders Johan</td><td>male</td><td>39.0</td><td>1</td><td>5</td><td>347082</td><td>31.275</td><td>NA</td><td>S</td><td>Mr.</td><td>39.0</td></tr><tr><th>15</th><td>15</td><td>0</td><td>3</td><td>Vestrom, Miss. Hulda Amanda Adolfina</td><td>female</td><td>14.0</td><td>0</td><td>0</td><td>350406</td><td>7.8542</td><td>NA</td><td>S</td><td>Miss.</td><td>14.0</td></tr><tr><th>16</th><td>16</td><td>1</td><td>2</td><td>Hewlett, Mrs. (Mary D Kingcome) </td><td>female</td><td>55.0</td><td>0</td><td>0</td><td>248706</td><td>16.0</td><td>NA</td><td>S</td><td>Mrs.</td><td>55.0</td></tr><tr><th>17</th><td>17</td><td>0</td><td>3</td><td>Rice, Master. Eugene</td><td>male</td><td>2.0</td><td>4</td><td>1</td><td>382652</td><td>29.125</td><td>NA</td><td>Q</td><td>Master.</td><td>2.0</td></tr><tr><th>18</th><td>18</td><td>1</td><td>2</td><td>Williams, Mr. Charles Eugene</td><td>male</td><td>NA</td><td>0</td><td>0</td><td>244373</td><td>13.0</td><td>NA</td><td>S</td><td>Mr.</td><td>31.0</td></tr><tr><th>19</th><td>19</td><td>0</td><td>3</td><td>Vander Planke, Mrs. Julius (Emelia Maria Vandemoortele)</td><td>female</td><td>31.0</td><td>1</td><td>0</td><td>345763</td><td>18.0</td><td>NA</td><td>S</td><td>Mrs.</td><td>31.0</td></tr><tr><th>20</th><td>20</td><td>1</td><td>3</td><td>Masselmani, Mrs. Fatima</td><td>female</td><td>NA</td><td>0</td><td>0</td><td>2649</td><td>7.225</td><td>NA</td><td>C</td><td>Mrs.</td><td>31.0</td></tr><tr><th>21</th><td>21</td><td>0</td><td>2</td><td>Fynney, Mr. Joseph J</td><td>male</td><td>35.0</td><td>0</td><td>0</td><td>239865</td><td>26.0</td><td>NA</td><td>S</td><td>Mr.</td><td>35.0</td></tr><tr><th>22</th><td>22</td><td>1</td><td>2</td><td>Beesley, Mr. Lawrence</td><td>male</td><td>34.0</td><td>0</td><td>0</td><td>248698</td><td>13.0</td><td>D56</td><td>S</td><td>Mr.</td><td>34.0</td></tr><tr><th>23</th><td>23</td><td>1</td><td>3</td><td>McGowan, Miss. Anna \"Annie\"</td><td>female</td><td>15.0</td><td>0</td><td>0</td><td>330923</td><td>8.0292</td><td>NA</td><td>Q</td><td>Miss.</td><td>15.0</td></tr><tr><th>24</th><td>24</td><td>1</td><td>1</td><td>Sloper, Mr. William Thompson</td><td>male</td><td>28.0</td><td>0</td><td>0</td><td>113788</td><td>35.5</td><td>A6</td><td>S</td><td>Mr.</td><td>28.0</td></tr><tr><th>25</th><td>25</td><td>0</td><td>3</td><td>Palsson, Miss. Torborg Danira</td><td>female</td><td>8.0</td><td>3</td><td>1</td><td>349909</td><td>21.075</td><td>NA</td><td>S</td><td>Miss.</td><td>8.0</td></tr><tr><th>26</th><td>26</td><td>1</td><td>3</td><td>Asplund, Mrs. Carl Oscar (Selma Augusta Emilia Johansson)</td><td>female</td><td>38.0</td><td>1</td><td>5</td><td>347077</td><td>31.3875</td><td>NA</td><td>S</td><td>Mrs.</td><td>38.0</td></tr><tr><th>27</th><td>27</td><td>0</td><td>3</td><td>Emir, Mr. Farred Chehab</td><td>male</td><td>NA</td><td>0</td><td>0</td><td>2631</td><td>7.225</td><td>NA</td><td>C</td><td>Mr.</td><td>26.0</td></tr><tr><th>28</th><td>28</td><td>0</td><td>1</td><td>Fortune, Mr. Charles Alexander</td><td>male</td><td>19.0</td><td>3</td><td>2</td><td>19950</td><td>263.0</td><td>C23 C25 C27</td><td>S</td><td>Mr.</td><td>19.0</td></tr><tr><th>29</th><td>29</td><td>1</td><td>3</td><td>O'Dwyer, Miss. Ellen \"Nellie\"</td><td>female</td><td>NA</td><td>0</td><td>0</td><td>330959</td><td>7.8792</td><td>NA</td><td>Q</td><td>Miss.</td><td>18.0</td></tr><tr><th>30</th><td>30</td><td>0</td><td>3</td><td>Todoroff, Mr. Lalio</td><td>male</td><td>NA</td><td>0</td><td>0</td><td>349216</td><td>7.8958</td><td>NA</td><td>S</td><td>Mr.</td><td>26.0</td></tr><tr><th>&vellip;</th><td>&vellip;</td><td>&vellip;</td><td>&vellip;</td><td>&vellip;</td><td>&vellip;</td><td>&vellip;</td><td>&vellip;</td><td>&vellip;</td><td>&vellip;</td><td>&vellip;</td><td>&vellip;</td><td>&vellip;</td><td>&vellip;</td><td>&vellip;</td></tr></tbody></table>"
      ],
      "text/plain": [
       "889×14 DataFrames.DataFrame\n",
       "│ Row │ PassengerId │ Survived │ Pclass │\n",
       "├─────┼─────────────┼──────────┼────────┤\n",
       "│ 1   │ 1           │ 0        │ 3      │\n",
       "│ 2   │ 2           │ 1        │ 1      │\n",
       "│ 3   │ 3           │ 1        │ 3      │\n",
       "│ 4   │ 4           │ 1        │ 1      │\n",
       "│ 5   │ 5           │ 0        │ 3      │\n",
       "│ 6   │ 6           │ 0        │ 3      │\n",
       "│ 7   │ 7           │ 0        │ 1      │\n",
       "│ 8   │ 8           │ 0        │ 3      │\n",
       "│ 9   │ 9           │ 1        │ 3      │\n",
       "│ 10  │ 10          │ 1        │ 2      │\n",
       "│ 11  │ 11          │ 1        │ 3      │\n",
       "⋮\n",
       "│ 878 │ 880         │ 1        │ 1      │\n",
       "│ 879 │ 881         │ 1        │ 2      │\n",
       "│ 880 │ 882         │ 0        │ 3      │\n",
       "│ 881 │ 883         │ 0        │ 3      │\n",
       "│ 882 │ 884         │ 0        │ 2      │\n",
       "│ 883 │ 885         │ 0        │ 3      │\n",
       "│ 884 │ 886         │ 0        │ 3      │\n",
       "│ 885 │ 887         │ 0        │ 2      │\n",
       "│ 886 │ 888         │ 1        │ 1      │\n",
       "│ 887 │ 889         │ 0        │ 3      │\n",
       "│ 888 │ 890         │ 1        │ 1      │\n",
       "│ 889 │ 891         │ 0        │ 3      │\n",
       "\n",
       "│ Row │ Name                                                  │ Sex      │\n",
       "├─────┼───────────────────────────────────────────────────────┼──────────┤\n",
       "│ 1   │ \"Braund, Mr. Owen Harris\"                             │ \"male\"   │\n",
       "│ 2   │ \"Cumings, Mrs. John Bradley (Florence Briggs Thayer)\" │ \"female\" │\n",
       "│ 3   │ \"Heikkinen, Miss. Laina\"                              │ \"female\" │\n",
       "│ 4   │ \"Futrelle, Mrs. Jacques Heath (Lily May Peel)\"        │ \"female\" │\n",
       "│ 5   │ \"Allen, Mr. William Henry\"                            │ \"male\"   │\n",
       "│ 6   │ \"Moran, Mr. James\"                                    │ \"male\"   │\n",
       "│ 7   │ \"McCarthy, Mr. Timothy J\"                             │ \"male\"   │\n",
       "│ 8   │ \"Palsson, Master. Gosta Leonard\"                      │ \"male\"   │\n",
       "│ 9   │ \"Johnson, Mrs. Oscar W (Elisabeth Vilhelmina Berg)\"   │ \"female\" │\n",
       "│ 10  │ \"Nasser, Mrs. Nicholas (Adele Achem)\"                 │ \"female\" │\n",
       "│ 11  │ \"Sandstrom, Miss. Marguerite Rut\"                     │ \"female\" │\n",
       "⋮\n",
       "│ 878 │ \"Potter, Mrs. Thomas Jr (Lily Alexenia Wilson)\"       │ \"female\" │\n",
       "│ 879 │ \"Shelley, Mrs. William (Imanita Parrish Hall)\"        │ \"female\" │\n",
       "│ 880 │ \"Markun, Mr. Johann\"                                  │ \"male\"   │\n",
       "│ 881 │ \"Dahlberg, Miss. Gerda Ulrika\"                        │ \"female\" │\n",
       "│ 882 │ \"Banfield, Mr. Frederick James\"                       │ \"male\"   │\n",
       "│ 883 │ \"Sutehall, Mr. Henry Jr\"                              │ \"male\"   │\n",
       "│ 884 │ \"Rice, Mrs. William (Margaret Norton)\"                │ \"female\" │\n",
       "│ 885 │ \"Montvila, Rev. Juozas\"                               │ \"male\"   │\n",
       "│ 886 │ \"Graham, Miss. Margaret Edith\"                        │ \"female\" │\n",
       "│ 887 │ \"Johnston, Miss. Catherine Helen \\\"Carrie\\\"\"            │ \"female\" │\n",
       "│ 888 │ \"Behr, Mr. Karl Howell\"                               │ \"male\"   │\n",
       "│ 889 │ \"Dooley, Mr. Patrick\"                                 │ \"male\"   │\n",
       "\n",
       "│ Row │ Age  │ SibSp │ Parch │ Ticket             │ Fare    │ Cabin  │\n",
       "├─────┼──────┼───────┼───────┼────────────────────┼─────────┼────────┤\n",
       "│ 1   │ 22.0 │ 1     │ 0     │ \"A/5 21171\"        │ 7.25    │ NA     │\n",
       "│ 2   │ 38.0 │ 1     │ 0     │ \"PC 17599\"         │ 71.2833 │ \"C85\"  │\n",
       "│ 3   │ 26.0 │ 0     │ 0     │ \"STON/O2. 3101282\" │ 7.925   │ NA     │\n",
       "│ 4   │ 35.0 │ 1     │ 0     │ \"113803\"           │ 53.1    │ \"C123\" │\n",
       "│ 5   │ 35.0 │ 0     │ 0     │ \"373450\"           │ 8.05    │ NA     │\n",
       "│ 6   │ NA   │ 0     │ 0     │ \"330877\"           │ 8.4583  │ NA     │\n",
       "│ 7   │ 54.0 │ 0     │ 0     │ \"17463\"            │ 51.8625 │ \"E46\"  │\n",
       "│ 8   │ 2.0  │ 3     │ 1     │ \"349909\"           │ 21.075  │ NA     │\n",
       "│ 9   │ 27.0 │ 0     │ 2     │ \"347742\"           │ 11.1333 │ NA     │\n",
       "│ 10  │ 14.0 │ 1     │ 0     │ \"237736\"           │ 30.0708 │ NA     │\n",
       "│ 11  │ 4.0  │ 1     │ 1     │ \"PP 9549\"          │ 16.7    │ \"G6\"   │\n",
       "⋮\n",
       "│ 878 │ 56.0 │ 0     │ 1     │ \"11767\"            │ 83.1583 │ \"C50\"  │\n",
       "│ 879 │ 25.0 │ 0     │ 1     │ \"230433\"           │ 26.0    │ NA     │\n",
       "│ 880 │ 33.0 │ 0     │ 0     │ \"349257\"           │ 7.8958  │ NA     │\n",
       "│ 881 │ 22.0 │ 0     │ 0     │ \"7552\"             │ 10.5167 │ NA     │\n",
       "│ 882 │ 28.0 │ 0     │ 0     │ \"C.A./SOTON 34068\" │ 10.5    │ NA     │\n",
       "│ 883 │ 25.0 │ 0     │ 0     │ \"SOTON/OQ 392076\"  │ 7.05    │ NA     │\n",
       "│ 884 │ 39.0 │ 0     │ 5     │ \"382652\"           │ 29.125  │ NA     │\n",
       "│ 885 │ 27.0 │ 0     │ 0     │ \"211536\"           │ 13.0    │ NA     │\n",
       "│ 886 │ 19.0 │ 0     │ 0     │ \"112053\"           │ 30.0    │ \"B42\"  │\n",
       "│ 887 │ NA   │ 1     │ 2     │ \"W./C. 6607\"       │ 23.45   │ NA     │\n",
       "│ 888 │ 26.0 │ 0     │ 0     │ \"111369\"           │ 30.0    │ \"C148\" │\n",
       "│ 889 │ 32.0 │ 0     │ 0     │ \"370376\"           │ 7.75    │ NA     │\n",
       "\n",
       "│ Row │ Embarked │ CptTitle  │ CptAge │\n",
       "├─────┼──────────┼───────────┼────────┤\n",
       "│ 1   │ \"S\"      │ \"Mr.\"     │ 22.0   │\n",
       "│ 2   │ \"C\"      │ \"Mrs.\"    │ 38.0   │\n",
       "│ 3   │ \"S\"      │ \"Miss.\"   │ 26.0   │\n",
       "│ 4   │ \"S\"      │ \"Mrs.\"    │ 35.0   │\n",
       "│ 5   │ \"S\"      │ \"Mr.\"     │ 35.0   │\n",
       "│ 6   │ \"Q\"      │ \"Mr.\"     │ 26.0   │\n",
       "│ 7   │ \"S\"      │ \"Mr.\"     │ 54.0   │\n",
       "│ 8   │ \"S\"      │ \"Master.\" │ 2.0    │\n",
       "│ 9   │ \"S\"      │ \"Mrs.\"    │ 27.0   │\n",
       "│ 10  │ \"C\"      │ \"Mrs.\"    │ 14.0   │\n",
       "│ 11  │ \"S\"      │ \"Miss.\"   │ 4.0    │\n",
       "⋮\n",
       "│ 878 │ \"C\"      │ \"Mrs.\"    │ 56.0   │\n",
       "│ 879 │ \"S\"      │ \"Mrs.\"    │ 25.0   │\n",
       "│ 880 │ \"S\"      │ \"Mr.\"     │ 33.0   │\n",
       "│ 881 │ \"S\"      │ \"Miss.\"   │ 22.0   │\n",
       "│ 882 │ \"S\"      │ \"Mr.\"     │ 28.0   │\n",
       "│ 883 │ \"S\"      │ \"Mr.\"     │ 25.0   │\n",
       "│ 884 │ \"Q\"      │ \"Mrs.\"    │ 39.0   │\n",
       "│ 885 │ \"S\"      │ \"Rev.\"    │ 27.0   │\n",
       "│ 886 │ \"S\"      │ \"Miss.\"   │ 19.0   │\n",
       "│ 887 │ \"S\"      │ \"Miss.\"   │ 18.0   │\n",
       "│ 888 │ \"C\"      │ \"Mr.\"     │ 26.0   │\n",
       "│ 889 │ \"Q\"      │ \"Mr.\"     │ 32.0   │"
      ]
     },
     "execution_count": 9,
     "metadata": {},
     "output_type": "execute_result"
    }
   ],
   "source": [
    "train = @byrow! train begin\n",
    "    @newcol CptAge::DataArray{Float64}\n",
    "    :CptAge = groupby_Age(:Age,df_Agegroup,:Pclass,:Sex,:CptTitle)\n",
    "end"
   ]
  },
  {
   "cell_type": "code",
   "execution_count": 10,
   "metadata": {
    "collapsed": false
   },
   "outputs": [
    {
     "data": {
      "text/html": [
       "<table class=\"data-frame\"><thead><tr><th></th><th>PassengerId</th><th>Survived</th><th>Pclass</th><th>Name</th><th>Sex</th><th>Age</th><th>SibSp</th><th>Parch</th><th>Ticket</th><th>Fare</th><th>Cabin</th><th>Embarked</th><th>CptTitle</th><th>CptAge</th><th>CptCabin</th></tr></thead><tbody><tr><th>1</th><td>1</td><td>0</td><td>3</td><td>Braund, Mr. Owen Harris</td><td>male</td><td>22.0</td><td>1</td><td>0</td><td>A/5 21171</td><td>7.25</td><td>NA</td><td>S</td><td>Mr.</td><td>22.0</td><td>Unknown</td></tr><tr><th>2</th><td>2</td><td>1</td><td>1</td><td>Cumings, Mrs. John Bradley (Florence Briggs Thayer)</td><td>female</td><td>38.0</td><td>1</td><td>0</td><td>PC 17599</td><td>71.2833</td><td>C85</td><td>C</td><td>Mrs.</td><td>38.0</td><td>C</td></tr><tr><th>3</th><td>3</td><td>1</td><td>3</td><td>Heikkinen, Miss. Laina</td><td>female</td><td>26.0</td><td>0</td><td>0</td><td>STON/O2. 3101282</td><td>7.925</td><td>NA</td><td>S</td><td>Miss.</td><td>26.0</td><td>Unknown</td></tr><tr><th>4</th><td>4</td><td>1</td><td>1</td><td>Futrelle, Mrs. Jacques Heath (Lily May Peel)</td><td>female</td><td>35.0</td><td>1</td><td>0</td><td>113803</td><td>53.1</td><td>C123</td><td>S</td><td>Mrs.</td><td>35.0</td><td>C</td></tr><tr><th>5</th><td>5</td><td>0</td><td>3</td><td>Allen, Mr. William Henry</td><td>male</td><td>35.0</td><td>0</td><td>0</td><td>373450</td><td>8.05</td><td>NA</td><td>S</td><td>Mr.</td><td>35.0</td><td>Unknown</td></tr><tr><th>6</th><td>6</td><td>0</td><td>3</td><td>Moran, Mr. James</td><td>male</td><td>NA</td><td>0</td><td>0</td><td>330877</td><td>8.4583</td><td>NA</td><td>Q</td><td>Mr.</td><td>26.0</td><td>Unknown</td></tr><tr><th>7</th><td>7</td><td>0</td><td>1</td><td>McCarthy, Mr. Timothy J</td><td>male</td><td>54.0</td><td>0</td><td>0</td><td>17463</td><td>51.8625</td><td>E46</td><td>S</td><td>Mr.</td><td>54.0</td><td>E</td></tr><tr><th>8</th><td>8</td><td>0</td><td>3</td><td>Palsson, Master. Gosta Leonard</td><td>male</td><td>2.0</td><td>3</td><td>1</td><td>349909</td><td>21.075</td><td>NA</td><td>S</td><td>Master.</td><td>2.0</td><td>Unknown</td></tr><tr><th>9</th><td>9</td><td>1</td><td>3</td><td>Johnson, Mrs. Oscar W (Elisabeth Vilhelmina Berg)</td><td>female</td><td>27.0</td><td>0</td><td>2</td><td>347742</td><td>11.1333</td><td>NA</td><td>S</td><td>Mrs.</td><td>27.0</td><td>Unknown</td></tr><tr><th>10</th><td>10</td><td>1</td><td>2</td><td>Nasser, Mrs. Nicholas (Adele Achem)</td><td>female</td><td>14.0</td><td>1</td><td>0</td><td>237736</td><td>30.0708</td><td>NA</td><td>C</td><td>Mrs.</td><td>14.0</td><td>Unknown</td></tr><tr><th>11</th><td>11</td><td>1</td><td>3</td><td>Sandstrom, Miss. Marguerite Rut</td><td>female</td><td>4.0</td><td>1</td><td>1</td><td>PP 9549</td><td>16.7</td><td>G6</td><td>S</td><td>Miss.</td><td>4.0</td><td>G</td></tr><tr><th>12</th><td>12</td><td>1</td><td>1</td><td>Bonnell, Miss. Elizabeth</td><td>female</td><td>58.0</td><td>0</td><td>0</td><td>113783</td><td>26.55</td><td>C103</td><td>S</td><td>Miss.</td><td>58.0</td><td>C</td></tr><tr><th>13</th><td>13</td><td>0</td><td>3</td><td>Saundercock, Mr. William Henry</td><td>male</td><td>20.0</td><td>0</td><td>0</td><td>A/5. 2151</td><td>8.05</td><td>NA</td><td>S</td><td>Mr.</td><td>20.0</td><td>Unknown</td></tr><tr><th>14</th><td>14</td><td>0</td><td>3</td><td>Andersson, Mr. Anders Johan</td><td>male</td><td>39.0</td><td>1</td><td>5</td><td>347082</td><td>31.275</td><td>NA</td><td>S</td><td>Mr.</td><td>39.0</td><td>Unknown</td></tr><tr><th>15</th><td>15</td><td>0</td><td>3</td><td>Vestrom, Miss. Hulda Amanda Adolfina</td><td>female</td><td>14.0</td><td>0</td><td>0</td><td>350406</td><td>7.8542</td><td>NA</td><td>S</td><td>Miss.</td><td>14.0</td><td>Unknown</td></tr><tr><th>16</th><td>16</td><td>1</td><td>2</td><td>Hewlett, Mrs. (Mary D Kingcome) </td><td>female</td><td>55.0</td><td>0</td><td>0</td><td>248706</td><td>16.0</td><td>NA</td><td>S</td><td>Mrs.</td><td>55.0</td><td>Unknown</td></tr><tr><th>17</th><td>17</td><td>0</td><td>3</td><td>Rice, Master. Eugene</td><td>male</td><td>2.0</td><td>4</td><td>1</td><td>382652</td><td>29.125</td><td>NA</td><td>Q</td><td>Master.</td><td>2.0</td><td>Unknown</td></tr><tr><th>18</th><td>18</td><td>1</td><td>2</td><td>Williams, Mr. Charles Eugene</td><td>male</td><td>NA</td><td>0</td><td>0</td><td>244373</td><td>13.0</td><td>NA</td><td>S</td><td>Mr.</td><td>31.0</td><td>Unknown</td></tr><tr><th>19</th><td>19</td><td>0</td><td>3</td><td>Vander Planke, Mrs. Julius (Emelia Maria Vandemoortele)</td><td>female</td><td>31.0</td><td>1</td><td>0</td><td>345763</td><td>18.0</td><td>NA</td><td>S</td><td>Mrs.</td><td>31.0</td><td>Unknown</td></tr><tr><th>20</th><td>20</td><td>1</td><td>3</td><td>Masselmani, Mrs. Fatima</td><td>female</td><td>NA</td><td>0</td><td>0</td><td>2649</td><td>7.225</td><td>NA</td><td>C</td><td>Mrs.</td><td>31.0</td><td>Unknown</td></tr><tr><th>21</th><td>21</td><td>0</td><td>2</td><td>Fynney, Mr. Joseph J</td><td>male</td><td>35.0</td><td>0</td><td>0</td><td>239865</td><td>26.0</td><td>NA</td><td>S</td><td>Mr.</td><td>35.0</td><td>Unknown</td></tr><tr><th>22</th><td>22</td><td>1</td><td>2</td><td>Beesley, Mr. Lawrence</td><td>male</td><td>34.0</td><td>0</td><td>0</td><td>248698</td><td>13.0</td><td>D56</td><td>S</td><td>Mr.</td><td>34.0</td><td>D</td></tr><tr><th>23</th><td>23</td><td>1</td><td>3</td><td>McGowan, Miss. Anna \"Annie\"</td><td>female</td><td>15.0</td><td>0</td><td>0</td><td>330923</td><td>8.0292</td><td>NA</td><td>Q</td><td>Miss.</td><td>15.0</td><td>Unknown</td></tr><tr><th>24</th><td>24</td><td>1</td><td>1</td><td>Sloper, Mr. William Thompson</td><td>male</td><td>28.0</td><td>0</td><td>0</td><td>113788</td><td>35.5</td><td>A6</td><td>S</td><td>Mr.</td><td>28.0</td><td>A</td></tr><tr><th>25</th><td>25</td><td>0</td><td>3</td><td>Palsson, Miss. Torborg Danira</td><td>female</td><td>8.0</td><td>3</td><td>1</td><td>349909</td><td>21.075</td><td>NA</td><td>S</td><td>Miss.</td><td>8.0</td><td>Unknown</td></tr><tr><th>26</th><td>26</td><td>1</td><td>3</td><td>Asplund, Mrs. Carl Oscar (Selma Augusta Emilia Johansson)</td><td>female</td><td>38.0</td><td>1</td><td>5</td><td>347077</td><td>31.3875</td><td>NA</td><td>S</td><td>Mrs.</td><td>38.0</td><td>Unknown</td></tr><tr><th>27</th><td>27</td><td>0</td><td>3</td><td>Emir, Mr. Farred Chehab</td><td>male</td><td>NA</td><td>0</td><td>0</td><td>2631</td><td>7.225</td><td>NA</td><td>C</td><td>Mr.</td><td>26.0</td><td>Unknown</td></tr><tr><th>28</th><td>28</td><td>0</td><td>1</td><td>Fortune, Mr. Charles Alexander</td><td>male</td><td>19.0</td><td>3</td><td>2</td><td>19950</td><td>263.0</td><td>C23 C25 C27</td><td>S</td><td>Mr.</td><td>19.0</td><td>C</td></tr><tr><th>29</th><td>29</td><td>1</td><td>3</td><td>O'Dwyer, Miss. Ellen \"Nellie\"</td><td>female</td><td>NA</td><td>0</td><td>0</td><td>330959</td><td>7.8792</td><td>NA</td><td>Q</td><td>Miss.</td><td>18.0</td><td>Unknown</td></tr><tr><th>30</th><td>30</td><td>0</td><td>3</td><td>Todoroff, Mr. Lalio</td><td>male</td><td>NA</td><td>0</td><td>0</td><td>349216</td><td>7.8958</td><td>NA</td><td>S</td><td>Mr.</td><td>26.0</td><td>Unknown</td></tr><tr><th>&vellip;</th><td>&vellip;</td><td>&vellip;</td><td>&vellip;</td><td>&vellip;</td><td>&vellip;</td><td>&vellip;</td><td>&vellip;</td><td>&vellip;</td><td>&vellip;</td><td>&vellip;</td><td>&vellip;</td><td>&vellip;</td><td>&vellip;</td><td>&vellip;</td><td>&vellip;</td></tr></tbody></table>"
      ],
      "text/plain": [
       "889×15 DataFrames.DataFrame\n",
       "│ Row │ PassengerId │ Survived │ Pclass │\n",
       "├─────┼─────────────┼──────────┼────────┤\n",
       "│ 1   │ 1           │ 0        │ 3      │\n",
       "│ 2   │ 2           │ 1        │ 1      │\n",
       "│ 3   │ 3           │ 1        │ 3      │\n",
       "│ 4   │ 4           │ 1        │ 1      │\n",
       "│ 5   │ 5           │ 0        │ 3      │\n",
       "│ 6   │ 6           │ 0        │ 3      │\n",
       "│ 7   │ 7           │ 0        │ 1      │\n",
       "│ 8   │ 8           │ 0        │ 3      │\n",
       "│ 9   │ 9           │ 1        │ 3      │\n",
       "│ 10  │ 10          │ 1        │ 2      │\n",
       "│ 11  │ 11          │ 1        │ 3      │\n",
       "⋮\n",
       "│ 878 │ 880         │ 1        │ 1      │\n",
       "│ 879 │ 881         │ 1        │ 2      │\n",
       "│ 880 │ 882         │ 0        │ 3      │\n",
       "│ 881 │ 883         │ 0        │ 3      │\n",
       "│ 882 │ 884         │ 0        │ 2      │\n",
       "│ 883 │ 885         │ 0        │ 3      │\n",
       "│ 884 │ 886         │ 0        │ 3      │\n",
       "│ 885 │ 887         │ 0        │ 2      │\n",
       "│ 886 │ 888         │ 1        │ 1      │\n",
       "│ 887 │ 889         │ 0        │ 3      │\n",
       "│ 888 │ 890         │ 1        │ 1      │\n",
       "│ 889 │ 891         │ 0        │ 3      │\n",
       "\n",
       "│ Row │ Name                                                  │ Sex      │\n",
       "├─────┼───────────────────────────────────────────────────────┼──────────┤\n",
       "│ 1   │ \"Braund, Mr. Owen Harris\"                             │ \"male\"   │\n",
       "│ 2   │ \"Cumings, Mrs. John Bradley (Florence Briggs Thayer)\" │ \"female\" │\n",
       "│ 3   │ \"Heikkinen, Miss. Laina\"                              │ \"female\" │\n",
       "│ 4   │ \"Futrelle, Mrs. Jacques Heath (Lily May Peel)\"        │ \"female\" │\n",
       "│ 5   │ \"Allen, Mr. William Henry\"                            │ \"male\"   │\n",
       "│ 6   │ \"Moran, Mr. James\"                                    │ \"male\"   │\n",
       "│ 7   │ \"McCarthy, Mr. Timothy J\"                             │ \"male\"   │\n",
       "│ 8   │ \"Palsson, Master. Gosta Leonard\"                      │ \"male\"   │\n",
       "│ 9   │ \"Johnson, Mrs. Oscar W (Elisabeth Vilhelmina Berg)\"   │ \"female\" │\n",
       "│ 10  │ \"Nasser, Mrs. Nicholas (Adele Achem)\"                 │ \"female\" │\n",
       "│ 11  │ \"Sandstrom, Miss. Marguerite Rut\"                     │ \"female\" │\n",
       "⋮\n",
       "│ 878 │ \"Potter, Mrs. Thomas Jr (Lily Alexenia Wilson)\"       │ \"female\" │\n",
       "│ 879 │ \"Shelley, Mrs. William (Imanita Parrish Hall)\"        │ \"female\" │\n",
       "│ 880 │ \"Markun, Mr. Johann\"                                  │ \"male\"   │\n",
       "│ 881 │ \"Dahlberg, Miss. Gerda Ulrika\"                        │ \"female\" │\n",
       "│ 882 │ \"Banfield, Mr. Frederick James\"                       │ \"male\"   │\n",
       "│ 883 │ \"Sutehall, Mr. Henry Jr\"                              │ \"male\"   │\n",
       "│ 884 │ \"Rice, Mrs. William (Margaret Norton)\"                │ \"female\" │\n",
       "│ 885 │ \"Montvila, Rev. Juozas\"                               │ \"male\"   │\n",
       "│ 886 │ \"Graham, Miss. Margaret Edith\"                        │ \"female\" │\n",
       "│ 887 │ \"Johnston, Miss. Catherine Helen \\\"Carrie\\\"\"            │ \"female\" │\n",
       "│ 888 │ \"Behr, Mr. Karl Howell\"                               │ \"male\"   │\n",
       "│ 889 │ \"Dooley, Mr. Patrick\"                                 │ \"male\"   │\n",
       "\n",
       "│ Row │ Age  │ SibSp │ Parch │ Ticket             │ Fare    │ Cabin  │\n",
       "├─────┼──────┼───────┼───────┼────────────────────┼─────────┼────────┤\n",
       "│ 1   │ 22.0 │ 1     │ 0     │ \"A/5 21171\"        │ 7.25    │ NA     │\n",
       "│ 2   │ 38.0 │ 1     │ 0     │ \"PC 17599\"         │ 71.2833 │ \"C85\"  │\n",
       "│ 3   │ 26.0 │ 0     │ 0     │ \"STON/O2. 3101282\" │ 7.925   │ NA     │\n",
       "│ 4   │ 35.0 │ 1     │ 0     │ \"113803\"           │ 53.1    │ \"C123\" │\n",
       "│ 5   │ 35.0 │ 0     │ 0     │ \"373450\"           │ 8.05    │ NA     │\n",
       "│ 6   │ NA   │ 0     │ 0     │ \"330877\"           │ 8.4583  │ NA     │\n",
       "│ 7   │ 54.0 │ 0     │ 0     │ \"17463\"            │ 51.8625 │ \"E46\"  │\n",
       "│ 8   │ 2.0  │ 3     │ 1     │ \"349909\"           │ 21.075  │ NA     │\n",
       "│ 9   │ 27.0 │ 0     │ 2     │ \"347742\"           │ 11.1333 │ NA     │\n",
       "│ 10  │ 14.0 │ 1     │ 0     │ \"237736\"           │ 30.0708 │ NA     │\n",
       "│ 11  │ 4.0  │ 1     │ 1     │ \"PP 9549\"          │ 16.7    │ \"G6\"   │\n",
       "⋮\n",
       "│ 878 │ 56.0 │ 0     │ 1     │ \"11767\"            │ 83.1583 │ \"C50\"  │\n",
       "│ 879 │ 25.0 │ 0     │ 1     │ \"230433\"           │ 26.0    │ NA     │\n",
       "│ 880 │ 33.0 │ 0     │ 0     │ \"349257\"           │ 7.8958  │ NA     │\n",
       "│ 881 │ 22.0 │ 0     │ 0     │ \"7552\"             │ 10.5167 │ NA     │\n",
       "│ 882 │ 28.0 │ 0     │ 0     │ \"C.A./SOTON 34068\" │ 10.5    │ NA     │\n",
       "│ 883 │ 25.0 │ 0     │ 0     │ \"SOTON/OQ 392076\"  │ 7.05    │ NA     │\n",
       "│ 884 │ 39.0 │ 0     │ 5     │ \"382652\"           │ 29.125  │ NA     │\n",
       "│ 885 │ 27.0 │ 0     │ 0     │ \"211536\"           │ 13.0    │ NA     │\n",
       "│ 886 │ 19.0 │ 0     │ 0     │ \"112053\"           │ 30.0    │ \"B42\"  │\n",
       "│ 887 │ NA   │ 1     │ 2     │ \"W./C. 6607\"       │ 23.45   │ NA     │\n",
       "│ 888 │ 26.0 │ 0     │ 0     │ \"111369\"           │ 30.0    │ \"C148\" │\n",
       "│ 889 │ 32.0 │ 0     │ 0     │ \"370376\"           │ 7.75    │ NA     │\n",
       "\n",
       "│ Row │ Embarked │ CptTitle  │ CptAge │ CptCabin  │\n",
       "├─────┼──────────┼───────────┼────────┼───────────┤\n",
       "│ 1   │ \"S\"      │ \"Mr.\"     │ 22.0   │ \"Unknown\" │\n",
       "│ 2   │ \"C\"      │ \"Mrs.\"    │ 38.0   │ \"C\"       │\n",
       "│ 3   │ \"S\"      │ \"Miss.\"   │ 26.0   │ \"Unknown\" │\n",
       "│ 4   │ \"S\"      │ \"Mrs.\"    │ 35.0   │ \"C\"       │\n",
       "│ 5   │ \"S\"      │ \"Mr.\"     │ 35.0   │ \"Unknown\" │\n",
       "│ 6   │ \"Q\"      │ \"Mr.\"     │ 26.0   │ \"Unknown\" │\n",
       "│ 7   │ \"S\"      │ \"Mr.\"     │ 54.0   │ \"E\"       │\n",
       "│ 8   │ \"S\"      │ \"Master.\" │ 2.0    │ \"Unknown\" │\n",
       "│ 9   │ \"S\"      │ \"Mrs.\"    │ 27.0   │ \"Unknown\" │\n",
       "│ 10  │ \"C\"      │ \"Mrs.\"    │ 14.0   │ \"Unknown\" │\n",
       "│ 11  │ \"S\"      │ \"Miss.\"   │ 4.0    │ \"G\"       │\n",
       "⋮\n",
       "│ 878 │ \"C\"      │ \"Mrs.\"    │ 56.0   │ \"C\"       │\n",
       "│ 879 │ \"S\"      │ \"Mrs.\"    │ 25.0   │ \"Unknown\" │\n",
       "│ 880 │ \"S\"      │ \"Mr.\"     │ 33.0   │ \"Unknown\" │\n",
       "│ 881 │ \"S\"      │ \"Miss.\"   │ 22.0   │ \"Unknown\" │\n",
       "│ 882 │ \"S\"      │ \"Mr.\"     │ 28.0   │ \"Unknown\" │\n",
       "│ 883 │ \"S\"      │ \"Mr.\"     │ 25.0   │ \"Unknown\" │\n",
       "│ 884 │ \"Q\"      │ \"Mrs.\"    │ 39.0   │ \"Unknown\" │\n",
       "│ 885 │ \"S\"      │ \"Rev.\"    │ 27.0   │ \"Unknown\" │\n",
       "│ 886 │ \"S\"      │ \"Miss.\"   │ 19.0   │ \"B\"       │\n",
       "│ 887 │ \"S\"      │ \"Miss.\"   │ 18.0   │ \"Unknown\" │\n",
       "│ 888 │ \"C\"      │ \"Mr.\"     │ 26.0   │ \"C\"       │\n",
       "│ 889 │ \"Q\"      │ \"Mr.\"     │ 32.0   │ \"Unknown\" │"
      ]
     },
     "execution_count": 10,
     "metadata": {},
     "output_type": "execute_result"
    }
   ],
   "source": [
    "tmp = @transform(train,\n",
    "CptCabin = map(s->ifelse(isna(s),\"Unknown\",s), :Cabin)\n",
    "    )\n",
    "train = @transform(tmp,\n",
    "CptCabin = map(s->ifelse(s==\"Unknown\",s,s[1:1]), :CptCabin)\n",
    "    )"
   ]
  },
  {
   "cell_type": "code",
   "execution_count": 11,
   "metadata": {
    "collapsed": false
   },
   "outputs": [
    {
     "data": {
      "text/html": [
       "<table class=\"data-frame\"><thead><tr><th></th><th>Pclass</th><th>CptTitle</th><th>Sex</th><th>CptAge</th><th>SibSp</th><th>Parch</th><th>Fare</th><th>Embarked</th><th>CptCabin</th><th>Survived</th></tr></thead><tbody><tr><th>1</th><td>3</td><td>Mr.</td><td>male</td><td>22.0</td><td>1</td><td>0</td><td>7.25</td><td>S</td><td>Unknown</td><td>0</td></tr><tr><th>2</th><td>1</td><td>Mrs.</td><td>female</td><td>38.0</td><td>1</td><td>0</td><td>71.2833</td><td>C</td><td>C</td><td>1</td></tr><tr><th>3</th><td>3</td><td>Miss.</td><td>female</td><td>26.0</td><td>0</td><td>0</td><td>7.925</td><td>S</td><td>Unknown</td><td>1</td></tr><tr><th>4</th><td>1</td><td>Mrs.</td><td>female</td><td>35.0</td><td>1</td><td>0</td><td>53.1</td><td>S</td><td>C</td><td>1</td></tr><tr><th>5</th><td>3</td><td>Mr.</td><td>male</td><td>35.0</td><td>0</td><td>0</td><td>8.05</td><td>S</td><td>Unknown</td><td>0</td></tr><tr><th>6</th><td>3</td><td>Mr.</td><td>male</td><td>26.0</td><td>0</td><td>0</td><td>8.4583</td><td>Q</td><td>Unknown</td><td>0</td></tr><tr><th>7</th><td>1</td><td>Mr.</td><td>male</td><td>54.0</td><td>0</td><td>0</td><td>51.8625</td><td>S</td><td>E</td><td>0</td></tr><tr><th>8</th><td>3</td><td>Master.</td><td>male</td><td>2.0</td><td>3</td><td>1</td><td>21.075</td><td>S</td><td>Unknown</td><td>0</td></tr><tr><th>9</th><td>3</td><td>Mrs.</td><td>female</td><td>27.0</td><td>0</td><td>2</td><td>11.1333</td><td>S</td><td>Unknown</td><td>1</td></tr><tr><th>10</th><td>2</td><td>Mrs.</td><td>female</td><td>14.0</td><td>1</td><td>0</td><td>30.0708</td><td>C</td><td>Unknown</td><td>1</td></tr><tr><th>11</th><td>3</td><td>Miss.</td><td>female</td><td>4.0</td><td>1</td><td>1</td><td>16.7</td><td>S</td><td>G</td><td>1</td></tr><tr><th>12</th><td>1</td><td>Miss.</td><td>female</td><td>58.0</td><td>0</td><td>0</td><td>26.55</td><td>S</td><td>C</td><td>1</td></tr><tr><th>13</th><td>3</td><td>Mr.</td><td>male</td><td>20.0</td><td>0</td><td>0</td><td>8.05</td><td>S</td><td>Unknown</td><td>0</td></tr><tr><th>14</th><td>3</td><td>Mr.</td><td>male</td><td>39.0</td><td>1</td><td>5</td><td>31.275</td><td>S</td><td>Unknown</td><td>0</td></tr><tr><th>15</th><td>3</td><td>Miss.</td><td>female</td><td>14.0</td><td>0</td><td>0</td><td>7.8542</td><td>S</td><td>Unknown</td><td>0</td></tr><tr><th>16</th><td>2</td><td>Mrs.</td><td>female</td><td>55.0</td><td>0</td><td>0</td><td>16.0</td><td>S</td><td>Unknown</td><td>1</td></tr><tr><th>17</th><td>3</td><td>Master.</td><td>male</td><td>2.0</td><td>4</td><td>1</td><td>29.125</td><td>Q</td><td>Unknown</td><td>0</td></tr><tr><th>18</th><td>2</td><td>Mr.</td><td>male</td><td>31.0</td><td>0</td><td>0</td><td>13.0</td><td>S</td><td>Unknown</td><td>1</td></tr><tr><th>19</th><td>3</td><td>Mrs.</td><td>female</td><td>31.0</td><td>1</td><td>0</td><td>18.0</td><td>S</td><td>Unknown</td><td>0</td></tr><tr><th>20</th><td>3</td><td>Mrs.</td><td>female</td><td>31.0</td><td>0</td><td>0</td><td>7.225</td><td>C</td><td>Unknown</td><td>1</td></tr><tr><th>21</th><td>2</td><td>Mr.</td><td>male</td><td>35.0</td><td>0</td><td>0</td><td>26.0</td><td>S</td><td>Unknown</td><td>0</td></tr><tr><th>22</th><td>2</td><td>Mr.</td><td>male</td><td>34.0</td><td>0</td><td>0</td><td>13.0</td><td>S</td><td>D</td><td>1</td></tr><tr><th>23</th><td>3</td><td>Miss.</td><td>female</td><td>15.0</td><td>0</td><td>0</td><td>8.0292</td><td>Q</td><td>Unknown</td><td>1</td></tr><tr><th>24</th><td>1</td><td>Mr.</td><td>male</td><td>28.0</td><td>0</td><td>0</td><td>35.5</td><td>S</td><td>A</td><td>1</td></tr><tr><th>25</th><td>3</td><td>Miss.</td><td>female</td><td>8.0</td><td>3</td><td>1</td><td>21.075</td><td>S</td><td>Unknown</td><td>0</td></tr><tr><th>26</th><td>3</td><td>Mrs.</td><td>female</td><td>38.0</td><td>1</td><td>5</td><td>31.3875</td><td>S</td><td>Unknown</td><td>1</td></tr><tr><th>27</th><td>3</td><td>Mr.</td><td>male</td><td>26.0</td><td>0</td><td>0</td><td>7.225</td><td>C</td><td>Unknown</td><td>0</td></tr><tr><th>28</th><td>1</td><td>Mr.</td><td>male</td><td>19.0</td><td>3</td><td>2</td><td>263.0</td><td>S</td><td>C</td><td>0</td></tr><tr><th>29</th><td>3</td><td>Miss.</td><td>female</td><td>18.0</td><td>0</td><td>0</td><td>7.8792</td><td>Q</td><td>Unknown</td><td>1</td></tr><tr><th>30</th><td>3</td><td>Mr.</td><td>male</td><td>26.0</td><td>0</td><td>0</td><td>7.8958</td><td>S</td><td>Unknown</td><td>0</td></tr><tr><th>&vellip;</th><td>&vellip;</td><td>&vellip;</td><td>&vellip;</td><td>&vellip;</td><td>&vellip;</td><td>&vellip;</td><td>&vellip;</td><td>&vellip;</td><td>&vellip;</td><td>&vellip;</td></tr></tbody></table>"
      ],
      "text/plain": [
       "889×10 DataFrames.DataFrame\n",
       "│ Row │ Pclass │ CptTitle  │ Sex      │ CptAge │ SibSp │ Parch │ Fare    │\n",
       "├─────┼────────┼───────────┼──────────┼────────┼───────┼───────┼─────────┤\n",
       "│ 1   │ 3      │ \"Mr.\"     │ \"male\"   │ 22.0   │ 1     │ 0     │ 7.25    │\n",
       "│ 2   │ 1      │ \"Mrs.\"    │ \"female\" │ 38.0   │ 1     │ 0     │ 71.2833 │\n",
       "│ 3   │ 3      │ \"Miss.\"   │ \"female\" │ 26.0   │ 0     │ 0     │ 7.925   │\n",
       "│ 4   │ 1      │ \"Mrs.\"    │ \"female\" │ 35.0   │ 1     │ 0     │ 53.1    │\n",
       "│ 5   │ 3      │ \"Mr.\"     │ \"male\"   │ 35.0   │ 0     │ 0     │ 8.05    │\n",
       "│ 6   │ 3      │ \"Mr.\"     │ \"male\"   │ 26.0   │ 0     │ 0     │ 8.4583  │\n",
       "│ 7   │ 1      │ \"Mr.\"     │ \"male\"   │ 54.0   │ 0     │ 0     │ 51.8625 │\n",
       "│ 8   │ 3      │ \"Master.\" │ \"male\"   │ 2.0    │ 3     │ 1     │ 21.075  │\n",
       "│ 9   │ 3      │ \"Mrs.\"    │ \"female\" │ 27.0   │ 0     │ 2     │ 11.1333 │\n",
       "│ 10  │ 2      │ \"Mrs.\"    │ \"female\" │ 14.0   │ 1     │ 0     │ 30.0708 │\n",
       "│ 11  │ 3      │ \"Miss.\"   │ \"female\" │ 4.0    │ 1     │ 1     │ 16.7    │\n",
       "⋮\n",
       "│ 878 │ 1      │ \"Mrs.\"    │ \"female\" │ 56.0   │ 0     │ 1     │ 83.1583 │\n",
       "│ 879 │ 2      │ \"Mrs.\"    │ \"female\" │ 25.0   │ 0     │ 1     │ 26.0    │\n",
       "│ 880 │ 3      │ \"Mr.\"     │ \"male\"   │ 33.0   │ 0     │ 0     │ 7.8958  │\n",
       "│ 881 │ 3      │ \"Miss.\"   │ \"female\" │ 22.0   │ 0     │ 0     │ 10.5167 │\n",
       "│ 882 │ 2      │ \"Mr.\"     │ \"male\"   │ 28.0   │ 0     │ 0     │ 10.5    │\n",
       "│ 883 │ 3      │ \"Mr.\"     │ \"male\"   │ 25.0   │ 0     │ 0     │ 7.05    │\n",
       "│ 884 │ 3      │ \"Mrs.\"    │ \"female\" │ 39.0   │ 0     │ 5     │ 29.125  │\n",
       "│ 885 │ 2      │ \"Rev.\"    │ \"male\"   │ 27.0   │ 0     │ 0     │ 13.0    │\n",
       "│ 886 │ 1      │ \"Miss.\"   │ \"female\" │ 19.0   │ 0     │ 0     │ 30.0    │\n",
       "│ 887 │ 3      │ \"Miss.\"   │ \"female\" │ 18.0   │ 1     │ 2     │ 23.45   │\n",
       "│ 888 │ 1      │ \"Mr.\"     │ \"male\"   │ 26.0   │ 0     │ 0     │ 30.0    │\n",
       "│ 889 │ 3      │ \"Mr.\"     │ \"male\"   │ 32.0   │ 0     │ 0     │ 7.75    │\n",
       "\n",
       "│ Row │ Embarked │ CptCabin  │ Survived │\n",
       "├─────┼──────────┼───────────┼──────────┤\n",
       "│ 1   │ \"S\"      │ \"Unknown\" │ 0        │\n",
       "│ 2   │ \"C\"      │ \"C\"       │ 1        │\n",
       "│ 3   │ \"S\"      │ \"Unknown\" │ 1        │\n",
       "│ 4   │ \"S\"      │ \"C\"       │ 1        │\n",
       "│ 5   │ \"S\"      │ \"Unknown\" │ 0        │\n",
       "│ 6   │ \"Q\"      │ \"Unknown\" │ 0        │\n",
       "│ 7   │ \"S\"      │ \"E\"       │ 0        │\n",
       "│ 8   │ \"S\"      │ \"Unknown\" │ 0        │\n",
       "│ 9   │ \"S\"      │ \"Unknown\" │ 1        │\n",
       "│ 10  │ \"C\"      │ \"Unknown\" │ 1        │\n",
       "│ 11  │ \"S\"      │ \"G\"       │ 1        │\n",
       "⋮\n",
       "│ 878 │ \"C\"      │ \"C\"       │ 1        │\n",
       "│ 879 │ \"S\"      │ \"Unknown\" │ 1        │\n",
       "│ 880 │ \"S\"      │ \"Unknown\" │ 0        │\n",
       "│ 881 │ \"S\"      │ \"Unknown\" │ 0        │\n",
       "│ 882 │ \"S\"      │ \"Unknown\" │ 0        │\n",
       "│ 883 │ \"S\"      │ \"Unknown\" │ 0        │\n",
       "│ 884 │ \"Q\"      │ \"Unknown\" │ 0        │\n",
       "│ 885 │ \"S\"      │ \"Unknown\" │ 0        │\n",
       "│ 886 │ \"S\"      │ \"B\"       │ 1        │\n",
       "│ 887 │ \"S\"      │ \"Unknown\" │ 0        │\n",
       "│ 888 │ \"C\"      │ \"C\"       │ 1        │\n",
       "│ 889 │ \"Q\"      │ \"Unknown\" │ 0        │"
      ]
     },
     "execution_count": 11,
     "metadata": {},
     "output_type": "execute_result"
    }
   ],
   "source": [
    "final_training = train[[:Pclass,:CptTitle,:Sex,:CptAge,:SibSp,:Parch,:Fare,:Embarked,:CptCabin,:Survived]]"
   ]
  },
  {
   "cell_type": "code",
   "execution_count": 12,
   "metadata": {
    "collapsed": false
   },
   "outputs": [],
   "source": [
    "# Create model\n",
    "mapper = DataFrameMapper([\n",
    "    (:Pclass, nothing),\n",
    "    (:CptTitle, LabelBinarizer()),\n",
    "    (:Sex, LabelBinarizer()),\n",
    "    (:CptAge, nothing),\n",
    "    (:SibSp, nothing),\n",
    "    (:Parch, nothing),\n",
    "    (:Fare, nothing),\n",
    "    (:Embarked, LabelBinarizer()),\n",
    "    (:CptCabin, LabelBinarizer())\n",
    "    ]);"
   ]
  },
  {
   "cell_type": "code",
   "execution_count": 13,
   "metadata": {
    "collapsed": false
   },
   "outputs": [
    {
     "data": {
      "text/plain": [
       "889×35 Array{Float64,2}:\n",
       " 3.0  0.0  0.0  0.0  0.0  0.0  0.0  0.0  …  0.0  0.0  0.0  0.0  0.0  0.0  1.0\n",
       " 1.0  0.0  0.0  0.0  0.0  0.0  0.0  0.0     1.0  0.0  0.0  0.0  0.0  0.0  0.0\n",
       " 3.0  0.0  0.0  0.0  0.0  0.0  0.0  0.0     0.0  0.0  0.0  0.0  0.0  0.0  1.0\n",
       " 1.0  0.0  0.0  0.0  0.0  0.0  0.0  0.0     1.0  0.0  0.0  0.0  0.0  0.0  0.0\n",
       " 3.0  0.0  0.0  0.0  0.0  0.0  0.0  0.0     0.0  0.0  0.0  0.0  0.0  0.0  1.0\n",
       " 3.0  0.0  0.0  0.0  0.0  0.0  0.0  0.0  …  0.0  0.0  0.0  0.0  0.0  0.0  1.0\n",
       " 1.0  0.0  0.0  0.0  0.0  0.0  0.0  0.0     0.0  0.0  1.0  0.0  0.0  0.0  0.0\n",
       " 3.0  0.0  0.0  0.0  0.0  0.0  0.0  0.0     0.0  0.0  0.0  0.0  0.0  0.0  1.0\n",
       " 3.0  0.0  0.0  0.0  0.0  0.0  0.0  0.0     0.0  0.0  0.0  0.0  0.0  0.0  1.0\n",
       " 2.0  0.0  0.0  0.0  0.0  0.0  0.0  0.0     0.0  0.0  0.0  0.0  0.0  0.0  1.0\n",
       " 3.0  0.0  0.0  0.0  0.0  0.0  0.0  0.0  …  0.0  0.0  0.0  0.0  1.0  0.0  0.0\n",
       " 1.0  0.0  0.0  0.0  0.0  0.0  0.0  0.0     1.0  0.0  0.0  0.0  0.0  0.0  0.0\n",
       " 3.0  0.0  0.0  0.0  0.0  0.0  0.0  0.0     0.0  0.0  0.0  0.0  0.0  0.0  1.0\n",
       " ⋮                        ⋮              ⋱            ⋮                      \n",
       " 1.0  0.0  0.0  0.0  0.0  0.0  0.0  0.0     1.0  0.0  0.0  0.0  0.0  0.0  0.0\n",
       " 2.0  0.0  0.0  0.0  0.0  0.0  0.0  0.0     0.0  0.0  0.0  0.0  0.0  0.0  1.0\n",
       " 3.0  0.0  0.0  0.0  0.0  0.0  0.0  0.0     0.0  0.0  0.0  0.0  0.0  0.0  1.0\n",
       " 3.0  0.0  0.0  0.0  0.0  0.0  0.0  0.0  …  0.0  0.0  0.0  0.0  0.0  0.0  1.0\n",
       " 2.0  0.0  0.0  0.0  0.0  0.0  0.0  0.0     0.0  0.0  0.0  0.0  0.0  0.0  1.0\n",
       " 3.0  0.0  0.0  0.0  0.0  0.0  0.0  0.0     0.0  0.0  0.0  0.0  0.0  0.0  1.0\n",
       " 3.0  0.0  0.0  0.0  0.0  0.0  0.0  0.0     0.0  0.0  0.0  0.0  0.0  0.0  1.0\n",
       " 2.0  0.0  0.0  0.0  0.0  0.0  0.0  0.0     0.0  0.0  0.0  0.0  0.0  0.0  1.0\n",
       " 1.0  0.0  0.0  0.0  0.0  0.0  0.0  0.0  …  0.0  0.0  0.0  0.0  0.0  0.0  0.0\n",
       " 3.0  0.0  0.0  0.0  0.0  0.0  0.0  0.0     0.0  0.0  0.0  0.0  0.0  0.0  1.0\n",
       " 1.0  0.0  0.0  0.0  0.0  0.0  0.0  0.0     1.0  0.0  0.0  0.0  0.0  0.0  0.0\n",
       " 3.0  0.0  0.0  0.0  0.0  0.0  0.0  0.0     0.0  0.0  0.0  0.0  0.0  0.0  1.0"
      ]
     },
     "execution_count": 13,
     "metadata": {},
     "output_type": "execute_result"
    }
   ],
   "source": [
    "# fit model\n",
    "round(fit_transform!(mapper, copy(final_training)), 2)"
   ]
  },
  {
   "cell_type": "code",
   "execution_count": 14,
   "metadata": {
    "collapsed": false
   },
   "outputs": [
    {
     "data": {
      "text/plain": [
       "ScikitLearn.Skcore.Pipeline(Tuple{Any,Any}[(\"featurize\",ScikitLearn.DataFrameMapper(Tuple[(:Pclass,nothing),(:CptTitle,PyObject LabelBinarizer(neg_label=0, pos_label=1, sparse_output=False)),(:Sex,PyObject LabelBinarizer(neg_label=0, pos_label=1, sparse_output=False)),(:CptAge,nothing),(:SibSp,nothing),(:Parch,nothing),(:Fare,nothing),(:Embarked,PyObject LabelBinarizer(neg_label=0, pos_label=1, sparse_output=False)),(:CptCabin,PyObject LabelBinarizer(neg_label=0, pos_label=1, sparse_output=False))],false,false,Array{Float64,2})),(\"forest\",DecisionTree.RandomForestClassifier(0,1000,0.7,-1,MersenneTwister(UInt32[0x92073f52,0x23eb14ef,0xfe077ba5,0x89f1f576],Base.dSFMT.DSFMT_state(Int32[-37091267,1073274352,56258988,1073364806,-489946093,1073342629,-926597871,1073188115,1896361484,1073551563  …  1805625306,1072829776,1924793155,1073320977,1495839231,519142192,-378552959,1034623539,382,0]),[1.55418,1.64045,1.6193,1.47194,1.81855,1.13345,1.43756,1.27753,1.06885,1.1987  …  1.93029,1.14781,1.5807,1.48452,1.39597,1.35586,1.65011,1.74792,1.1302,1.59865],16),#undef,#undef))],Any[ScikitLearn.DataFrameMapper(Tuple[(:Pclass,nothing),(:CptTitle,PyObject LabelBinarizer(neg_label=0, pos_label=1, sparse_output=False)),(:Sex,PyObject LabelBinarizer(neg_label=0, pos_label=1, sparse_output=False)),(:CptAge,nothing),(:SibSp,nothing),(:Parch,nothing),(:Fare,nothing),(:Embarked,PyObject LabelBinarizer(neg_label=0, pos_label=1, sparse_output=False)),(:CptCabin,PyObject LabelBinarizer(neg_label=0, pos_label=1, sparse_output=False))],false,false,Array{Float64,2}),DecisionTree.RandomForestClassifier(0,1000,0.7,-1,MersenneTwister(UInt32[0x92073f52,0x23eb14ef,0xfe077ba5,0x89f1f576],Base.dSFMT.DSFMT_state(Int32[-37091267,1073274352,56258988,1073364806,-489946093,1073342629,-926597871,1073188115,1896361484,1073551563  …  1805625306,1072829776,1924793155,1073320977,1495839231,519142192,-378552959,1034623539,382,0]),[1.55418,1.64045,1.6193,1.47194,1.81855,1.13345,1.43756,1.27753,1.06885,1.1987  …  1.93029,1.14781,1.5807,1.48452,1.39597,1.35586,1.65011,1.74792,1.1302,1.59865],16),#undef,#undef)])"
      ]
     },
     "execution_count": 14,
     "metadata": {},
     "output_type": "execute_result"
    }
   ],
   "source": [
    "pipe = Pipelines.Pipeline([\n",
    "     (\"featurize\", mapper),\n",
    "    (\"forest\", RandomForestClassifier(ntrees=1000))\n",
    "    ])"
   ]
  },
  {
   "cell_type": "code",
   "execution_count": 15,
   "metadata": {
    "collapsed": false
   },
   "outputs": [
    {
     "data": {
      "text/html": [
       "<table class=\"data-frame\"><thead><tr><th></th><th>Pclass</th><th>CptTitle</th><th>Sex</th><th>CptAge</th><th>SibSp</th><th>Parch</th><th>Fare</th><th>Embarked</th><th>CptCabin</th></tr></thead><tbody><tr><th>1</th><td>3</td><td>Mr.</td><td>male</td><td>22.0</td><td>1</td><td>0</td><td>7.25</td><td>S</td><td>Unknown</td></tr><tr><th>2</th><td>1</td><td>Mrs.</td><td>female</td><td>38.0</td><td>1</td><td>0</td><td>71.2833</td><td>C</td><td>C</td></tr><tr><th>3</th><td>3</td><td>Miss.</td><td>female</td><td>26.0</td><td>0</td><td>0</td><td>7.925</td><td>S</td><td>Unknown</td></tr><tr><th>4</th><td>1</td><td>Mrs.</td><td>female</td><td>35.0</td><td>1</td><td>0</td><td>53.1</td><td>S</td><td>C</td></tr><tr><th>5</th><td>3</td><td>Mr.</td><td>male</td><td>35.0</td><td>0</td><td>0</td><td>8.05</td><td>S</td><td>Unknown</td></tr><tr><th>6</th><td>3</td><td>Mr.</td><td>male</td><td>26.0</td><td>0</td><td>0</td><td>8.4583</td><td>Q</td><td>Unknown</td></tr><tr><th>7</th><td>1</td><td>Mr.</td><td>male</td><td>54.0</td><td>0</td><td>0</td><td>51.8625</td><td>S</td><td>E</td></tr><tr><th>8</th><td>3</td><td>Master.</td><td>male</td><td>2.0</td><td>3</td><td>1</td><td>21.075</td><td>S</td><td>Unknown</td></tr><tr><th>9</th><td>3</td><td>Mrs.</td><td>female</td><td>27.0</td><td>0</td><td>2</td><td>11.1333</td><td>S</td><td>Unknown</td></tr><tr><th>10</th><td>2</td><td>Mrs.</td><td>female</td><td>14.0</td><td>1</td><td>0</td><td>30.0708</td><td>C</td><td>Unknown</td></tr><tr><th>11</th><td>3</td><td>Miss.</td><td>female</td><td>4.0</td><td>1</td><td>1</td><td>16.7</td><td>S</td><td>G</td></tr><tr><th>12</th><td>1</td><td>Miss.</td><td>female</td><td>58.0</td><td>0</td><td>0</td><td>26.55</td><td>S</td><td>C</td></tr><tr><th>13</th><td>3</td><td>Mr.</td><td>male</td><td>20.0</td><td>0</td><td>0</td><td>8.05</td><td>S</td><td>Unknown</td></tr><tr><th>14</th><td>3</td><td>Mr.</td><td>male</td><td>39.0</td><td>1</td><td>5</td><td>31.275</td><td>S</td><td>Unknown</td></tr><tr><th>15</th><td>3</td><td>Miss.</td><td>female</td><td>14.0</td><td>0</td><td>0</td><td>7.8542</td><td>S</td><td>Unknown</td></tr><tr><th>16</th><td>2</td><td>Mrs.</td><td>female</td><td>55.0</td><td>0</td><td>0</td><td>16.0</td><td>S</td><td>Unknown</td></tr><tr><th>17</th><td>3</td><td>Master.</td><td>male</td><td>2.0</td><td>4</td><td>1</td><td>29.125</td><td>Q</td><td>Unknown</td></tr><tr><th>18</th><td>2</td><td>Mr.</td><td>male</td><td>31.0</td><td>0</td><td>0</td><td>13.0</td><td>S</td><td>Unknown</td></tr><tr><th>19</th><td>3</td><td>Mrs.</td><td>female</td><td>31.0</td><td>1</td><td>0</td><td>18.0</td><td>S</td><td>Unknown</td></tr><tr><th>20</th><td>3</td><td>Mrs.</td><td>female</td><td>31.0</td><td>0</td><td>0</td><td>7.225</td><td>C</td><td>Unknown</td></tr><tr><th>21</th><td>2</td><td>Mr.</td><td>male</td><td>35.0</td><td>0</td><td>0</td><td>26.0</td><td>S</td><td>Unknown</td></tr><tr><th>22</th><td>2</td><td>Mr.</td><td>male</td><td>34.0</td><td>0</td><td>0</td><td>13.0</td><td>S</td><td>D</td></tr><tr><th>23</th><td>3</td><td>Miss.</td><td>female</td><td>15.0</td><td>0</td><td>0</td><td>8.0292</td><td>Q</td><td>Unknown</td></tr><tr><th>24</th><td>1</td><td>Mr.</td><td>male</td><td>28.0</td><td>0</td><td>0</td><td>35.5</td><td>S</td><td>A</td></tr><tr><th>25</th><td>3</td><td>Miss.</td><td>female</td><td>8.0</td><td>3</td><td>1</td><td>21.075</td><td>S</td><td>Unknown</td></tr><tr><th>26</th><td>3</td><td>Mrs.</td><td>female</td><td>38.0</td><td>1</td><td>5</td><td>31.3875</td><td>S</td><td>Unknown</td></tr><tr><th>27</th><td>3</td><td>Mr.</td><td>male</td><td>26.0</td><td>0</td><td>0</td><td>7.225</td><td>C</td><td>Unknown</td></tr><tr><th>28</th><td>1</td><td>Mr.</td><td>male</td><td>19.0</td><td>3</td><td>2</td><td>263.0</td><td>S</td><td>C</td></tr><tr><th>29</th><td>3</td><td>Miss.</td><td>female</td><td>18.0</td><td>0</td><td>0</td><td>7.8792</td><td>Q</td><td>Unknown</td></tr><tr><th>30</th><td>3</td><td>Mr.</td><td>male</td><td>26.0</td><td>0</td><td>0</td><td>7.8958</td><td>S</td><td>Unknown</td></tr><tr><th>&vellip;</th><td>&vellip;</td><td>&vellip;</td><td>&vellip;</td><td>&vellip;</td><td>&vellip;</td><td>&vellip;</td><td>&vellip;</td><td>&vellip;</td><td>&vellip;</td></tr></tbody></table>"
      ],
      "text/plain": [
       "889×9 DataFrames.DataFrame\n",
       "│ Row │ Pclass │ CptTitle  │ Sex      │ CptAge │ SibSp │ Parch │ Fare    │\n",
       "├─────┼────────┼───────────┼──────────┼────────┼───────┼───────┼─────────┤\n",
       "│ 1   │ 3      │ \"Mr.\"     │ \"male\"   │ 22.0   │ 1     │ 0     │ 7.25    │\n",
       "│ 2   │ 1      │ \"Mrs.\"    │ \"female\" │ 38.0   │ 1     │ 0     │ 71.2833 │\n",
       "│ 3   │ 3      │ \"Miss.\"   │ \"female\" │ 26.0   │ 0     │ 0     │ 7.925   │\n",
       "│ 4   │ 1      │ \"Mrs.\"    │ \"female\" │ 35.0   │ 1     │ 0     │ 53.1    │\n",
       "│ 5   │ 3      │ \"Mr.\"     │ \"male\"   │ 35.0   │ 0     │ 0     │ 8.05    │\n",
       "│ 6   │ 3      │ \"Mr.\"     │ \"male\"   │ 26.0   │ 0     │ 0     │ 8.4583  │\n",
       "│ 7   │ 1      │ \"Mr.\"     │ \"male\"   │ 54.0   │ 0     │ 0     │ 51.8625 │\n",
       "│ 8   │ 3      │ \"Master.\" │ \"male\"   │ 2.0    │ 3     │ 1     │ 21.075  │\n",
       "│ 9   │ 3      │ \"Mrs.\"    │ \"female\" │ 27.0   │ 0     │ 2     │ 11.1333 │\n",
       "│ 10  │ 2      │ \"Mrs.\"    │ \"female\" │ 14.0   │ 1     │ 0     │ 30.0708 │\n",
       "│ 11  │ 3      │ \"Miss.\"   │ \"female\" │ 4.0    │ 1     │ 1     │ 16.7    │\n",
       "⋮\n",
       "│ 878 │ 1      │ \"Mrs.\"    │ \"female\" │ 56.0   │ 0     │ 1     │ 83.1583 │\n",
       "│ 879 │ 2      │ \"Mrs.\"    │ \"female\" │ 25.0   │ 0     │ 1     │ 26.0    │\n",
       "│ 880 │ 3      │ \"Mr.\"     │ \"male\"   │ 33.0   │ 0     │ 0     │ 7.8958  │\n",
       "│ 881 │ 3      │ \"Miss.\"   │ \"female\" │ 22.0   │ 0     │ 0     │ 10.5167 │\n",
       "│ 882 │ 2      │ \"Mr.\"     │ \"male\"   │ 28.0   │ 0     │ 0     │ 10.5    │\n",
       "│ 883 │ 3      │ \"Mr.\"     │ \"male\"   │ 25.0   │ 0     │ 0     │ 7.05    │\n",
       "│ 884 │ 3      │ \"Mrs.\"    │ \"female\" │ 39.0   │ 0     │ 5     │ 29.125  │\n",
       "│ 885 │ 2      │ \"Rev.\"    │ \"male\"   │ 27.0   │ 0     │ 0     │ 13.0    │\n",
       "│ 886 │ 1      │ \"Miss.\"   │ \"female\" │ 19.0   │ 0     │ 0     │ 30.0    │\n",
       "│ 887 │ 3      │ \"Miss.\"   │ \"female\" │ 18.0   │ 1     │ 2     │ 23.45   │\n",
       "│ 888 │ 1      │ \"Mr.\"     │ \"male\"   │ 26.0   │ 0     │ 0     │ 30.0    │\n",
       "│ 889 │ 3      │ \"Mr.\"     │ \"male\"   │ 32.0   │ 0     │ 0     │ 7.75    │\n",
       "\n",
       "│ Row │ Embarked │ CptCabin  │\n",
       "├─────┼──────────┼───────────┤\n",
       "│ 1   │ \"S\"      │ \"Unknown\" │\n",
       "│ 2   │ \"C\"      │ \"C\"       │\n",
       "│ 3   │ \"S\"      │ \"Unknown\" │\n",
       "│ 4   │ \"S\"      │ \"C\"       │\n",
       "│ 5   │ \"S\"      │ \"Unknown\" │\n",
       "│ 6   │ \"Q\"      │ \"Unknown\" │\n",
       "│ 7   │ \"S\"      │ \"E\"       │\n",
       "│ 8   │ \"S\"      │ \"Unknown\" │\n",
       "│ 9   │ \"S\"      │ \"Unknown\" │\n",
       "│ 10  │ \"C\"      │ \"Unknown\" │\n",
       "│ 11  │ \"S\"      │ \"G\"       │\n",
       "⋮\n",
       "│ 878 │ \"C\"      │ \"C\"       │\n",
       "│ 879 │ \"S\"      │ \"Unknown\" │\n",
       "│ 880 │ \"S\"      │ \"Unknown\" │\n",
       "│ 881 │ \"S\"      │ \"Unknown\" │\n",
       "│ 882 │ \"S\"      │ \"Unknown\" │\n",
       "│ 883 │ \"S\"      │ \"Unknown\" │\n",
       "│ 884 │ \"Q\"      │ \"Unknown\" │\n",
       "│ 885 │ \"S\"      │ \"Unknown\" │\n",
       "│ 886 │ \"S\"      │ \"B\"       │\n",
       "│ 887 │ \"S\"      │ \"Unknown\" │\n",
       "│ 888 │ \"C\"      │ \"C\"       │\n",
       "│ 889 │ \"Q\"      │ \"Unknown\" │"
      ]
     },
     "execution_count": 15,
     "metadata": {},
     "output_type": "execute_result"
    }
   ],
   "source": [
    "Y_train = convert(Array, final_training[:Survived])\n",
    "delete!(final_training, :Survived)\n",
    "X_train = final_training"
   ]
  },
  {
   "cell_type": "code",
   "execution_count": null,
   "metadata": {
    "collapsed": true
   },
   "outputs": [],
   "source": [
    "model = fit!(pipe, X_train, Y_train)"
   ]
  },
  {
   "cell_type": "code",
   "execution_count": null,
   "metadata": {
    "collapsed": true
   },
   "outputs": [],
   "source": [
    "# load test data\n",
    "test = readtable(\"test.csv\")"
   ]
  },
  {
   "cell_type": "code",
   "execution_count": null,
   "metadata": {
    "collapsed": true
   },
   "outputs": [],
   "source": [
    "describe(test)"
   ]
  },
  {
   "cell_type": "code",
   "execution_count": null,
   "metadata": {
    "collapsed": true
   },
   "outputs": [],
   "source": [
    "# Extract Title from Name\n",
    "test = @transform(test,\n",
    "CptTitle = map(s->match(r\"(?<=, ).*?\\.\", s).match, :Name)\n",
    "    )"
   ]
  },
  {
   "cell_type": "code",
   "execution_count": null,
   "metadata": {
    "collapsed": true
   },
   "outputs": [],
   "source": [
    "# view NA in Age\n",
    "test[isna(test[:,:Age]),:]\n",
    "\n",
    "#Compute the median age depending of class, sex, title\n",
    "v = vcat(train,test)\n",
    "# describe(v)\n",
    "\n",
    "# Seems like there is a particular :Sex, :CptTitle combination with no matching Age\n",
    "# writetable(\"age.csv\",v)\n",
    "#Dona. is not matched to anything, assume Lady\n",
    "v[v[:CptTitle].==\"Dona.\",:Age] = v[v[:CptTitle].==\"Lady.\",:Age]\n",
    "#Ms. on Pclass3 assume = to Pclass2\n",
    "v[(v[:CptTitle].==\"Ms.\")&(v[:Pclass].==3),:Age] = v[(v[:CptTitle].==\"Ms.\")&(v[:Pclass].==2),:Age]\n",
    "\n",
    "df_Agegroup_TEST = by(v, [:Pclass,:Sex,:CptTitle], df -> median(dropna(df[:Age])))\n",
    "\n"
   ]
  },
  {
   "cell_type": "code",
   "execution_count": null,
   "metadata": {
    "collapsed": true
   },
   "outputs": [],
   "source": [
    "# Estimate age\n",
    "test = @byrow! test begin\n",
    "    @newcol CptAge::DataArray{Float64}\n",
    "    :CptAge = groupby_Age(:Age,df_Agegroup_TEST,:Pclass,:Sex,:CptTitle)\n",
    "end"
   ]
  },
  {
   "cell_type": "code",
   "execution_count": null,
   "metadata": {
    "collapsed": true
   },
   "outputs": [],
   "source": [
    "tmp = @transform(test,\n",
    "CptCabin = map(s->ifelse(isna(s),\"Unknown\",s), :Cabin)\n",
    "    )\n",
    "test = @transform(tmp,\n",
    "CptCabin = map(s->ifelse(s==\"Unknown\",s,s[1:1]), :CptCabin)\n",
    "    )"
   ]
  },
  {
   "cell_type": "code",
   "execution_count": null,
   "metadata": {
    "collapsed": false,
    "scrolled": true
   },
   "outputs": [],
   "source": [
    "# view NA in Fare\n",
    "test[isna(test[:,:Fare]),:]"
   ]
  },
  {
   "cell_type": "code",
   "execution_count": null,
   "metadata": {
    "collapsed": false
   },
   "outputs": [],
   "source": [
    "median(test[(test[:CptTitle].==\"Mr.\")&(test[:Pclass].==3),:Fare])"
   ]
  },
  {
   "cell_type": "code",
   "execution_count": null,
   "metadata": {
    "collapsed": false
   },
   "outputs": [],
   "source": [
    "test[isna(test[:,:Fare]),:Fare] = median(test[(test[:CptTitle].==\"Mr.\")&(test[:Pclass].==3),:Fare])"
   ]
  },
  {
   "cell_type": "code",
   "execution_count": null,
   "metadata": {
    "collapsed": false
   },
   "outputs": [],
   "source": [
    "final_test = test[[:Pclass,:CptTitle,:Sex,:CptAge,:SibSp,:Parch,:Fare,:Embarked,:CptCabin]]"
   ]
  },
  {
   "cell_type": "code",
   "execution_count": null,
   "metadata": {
    "collapsed": false
   },
   "outputs": [],
   "source": [
    "result=DataFrame()\n",
    "result[:PassengerId] = test[:PassengerId]\n"
   ]
  },
  {
   "cell_type": "code",
   "execution_count": null,
   "metadata": {
    "collapsed": false
   },
   "outputs": [],
   "source": [
    "@data DecisionTree.predict(model,final_test)"
   ]
  },
  {
   "cell_type": "code",
   "execution_count": null,
   "metadata": {
    "collapsed": true
   },
   "outputs": [],
   "source": []
  }
 ],
 "metadata": {
  "kernelspec": {
   "display_name": "Julia 0.5.0",
   "language": "julia",
   "name": "julia-0.5"
  },
  "language_info": {
   "file_extension": ".jl",
   "mimetype": "application/julia",
   "name": "julia",
   "version": "0.5.0"
  }
 },
 "nbformat": 4,
 "nbformat_minor": 1
}
