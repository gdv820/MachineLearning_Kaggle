{
 "cells": [
  {
   "cell_type": "code",
   "execution_count": 1,
   "metadata": {
    "collapsed": false
   },
   "outputs": [
    {
     "name": "stderr",
     "output_type": "stream",
     "text": [
      "WARNING: Method definition nrow(DataFramesMeta.AbstractCompositeDataFrame) in module DataFramesMeta at /Users/tesuji/.julia/v0.5/DataFramesMeta/src/compositedataframe.jl:108 overwritten at /Users/tesuji/.julia/v0.5/DataFramesMeta/src/compositedataframe.jl:109.\n",
      "WARNING: Method definition require(Symbol) in module Base at loading.jl:345 overwritten in module Main at /Users/tesuji/.julia/v0.5/Requires/src/require.jl:12.\n"
     ]
    }
   ],
   "source": [
    "using DecisionTree\n",
    "using DataFrames\n",
    "using DataFramesMeta\n",
    "using DataArrays\n",
    "using Gadfly\n",
    "using ScikitLearn: DataFrameMapper, @sk_import, Pipelines, fit!, predict\n",
    "using ScikitLearn.CrossValidation\n",
    "using ScikitLearnBase: @declare_hyperparameters, BaseEstimator\n",
    "import ScikitLearnBase.simple_get_params\n",
    "\n",
    "# @sk_import linear_model: LogisticRegression\n",
    "@sk_import preprocessing: (LabelBinarizer, RobustScaler, Binarizer, StandardScaler)"
   ]
  },
  {
   "cell_type": "code",
   "execution_count": 2,
   "metadata": {
    "collapsed": true
   },
   "outputs": [],
   "source": [
    "# Note for debugging, changing samething inside a function require kernel reloading :/"
   ]
  },
  {
   "cell_type": "code",
   "execution_count": 3,
   "metadata": {
    "collapsed": false
   },
   "outputs": [
    {
     "data": {
      "text/html": [
       "<table class=\"data-frame\"><thead><tr><th></th><th>PassengerId</th><th>Survived</th><th>Pclass</th><th>Name</th><th>Sex</th><th>Age</th><th>SibSp</th><th>Parch</th><th>Ticket</th><th>Fare</th><th>Cabin</th><th>Embarked</th></tr></thead><tbody><tr><th>1</th><td>1</td><td>0</td><td>3</td><td>Braund, Mr. Owen Harris</td><td>male</td><td>22.0</td><td>1</td><td>0</td><td>A/5 21171</td><td>7.25</td><td>NA</td><td>S</td></tr><tr><th>2</th><td>2</td><td>1</td><td>1</td><td>Cumings, Mrs. John Bradley (Florence Briggs Thayer)</td><td>female</td><td>38.0</td><td>1</td><td>0</td><td>PC 17599</td><td>71.2833</td><td>C85</td><td>C</td></tr><tr><th>3</th><td>3</td><td>1</td><td>3</td><td>Heikkinen, Miss. Laina</td><td>female</td><td>26.0</td><td>0</td><td>0</td><td>STON/O2. 3101282</td><td>7.925</td><td>NA</td><td>S</td></tr><tr><th>4</th><td>4</td><td>1</td><td>1</td><td>Futrelle, Mrs. Jacques Heath (Lily May Peel)</td><td>female</td><td>35.0</td><td>1</td><td>0</td><td>113803</td><td>53.1</td><td>C123</td><td>S</td></tr><tr><th>5</th><td>5</td><td>0</td><td>3</td><td>Allen, Mr. William Henry</td><td>male</td><td>35.0</td><td>0</td><td>0</td><td>373450</td><td>8.05</td><td>NA</td><td>S</td></tr><tr><th>6</th><td>6</td><td>0</td><td>3</td><td>Moran, Mr. James</td><td>male</td><td>NA</td><td>0</td><td>0</td><td>330877</td><td>8.4583</td><td>NA</td><td>Q</td></tr></tbody></table>"
      ],
      "text/plain": [
       "6×12 DataFrames.DataFrame\n",
       "│ Row │ PassengerId │ Survived │ Pclass │\n",
       "├─────┼─────────────┼──────────┼────────┤\n",
       "│ 1   │ 1           │ 0        │ 3      │\n",
       "│ 2   │ 2           │ 1        │ 1      │\n",
       "│ 3   │ 3           │ 1        │ 3      │\n",
       "│ 4   │ 4           │ 1        │ 1      │\n",
       "│ 5   │ 5           │ 0        │ 3      │\n",
       "│ 6   │ 6           │ 0        │ 3      │\n",
       "\n",
       "│ Row │ Name                                                  │ Sex      │\n",
       "├─────┼───────────────────────────────────────────────────────┼──────────┤\n",
       "│ 1   │ \"Braund, Mr. Owen Harris\"                             │ \"male\"   │\n",
       "│ 2   │ \"Cumings, Mrs. John Bradley (Florence Briggs Thayer)\" │ \"female\" │\n",
       "│ 3   │ \"Heikkinen, Miss. Laina\"                              │ \"female\" │\n",
       "│ 4   │ \"Futrelle, Mrs. Jacques Heath (Lily May Peel)\"        │ \"female\" │\n",
       "│ 5   │ \"Allen, Mr. William Henry\"                            │ \"male\"   │\n",
       "│ 6   │ \"Moran, Mr. James\"                                    │ \"male\"   │\n",
       "\n",
       "│ Row │ Age  │ SibSp │ Parch │ Ticket             │ Fare    │ Cabin  │\n",
       "├─────┼──────┼───────┼───────┼────────────────────┼─────────┼────────┤\n",
       "│ 1   │ 22.0 │ 1     │ 0     │ \"A/5 21171\"        │ 7.25    │ NA     │\n",
       "│ 2   │ 38.0 │ 1     │ 0     │ \"PC 17599\"         │ 71.2833 │ \"C85\"  │\n",
       "│ 3   │ 26.0 │ 0     │ 0     │ \"STON/O2. 3101282\" │ 7.925   │ NA     │\n",
       "│ 4   │ 35.0 │ 1     │ 0     │ \"113803\"           │ 53.1    │ \"C123\" │\n",
       "│ 5   │ 35.0 │ 0     │ 0     │ \"373450\"           │ 8.05    │ NA     │\n",
       "│ 6   │ NA   │ 0     │ 0     │ \"330877\"           │ 8.4583  │ NA     │\n",
       "\n",
       "│ Row │ Embarked │\n",
       "├─────┼──────────┤\n",
       "│ 1   │ \"S\"      │\n",
       "│ 2   │ \"C\"      │\n",
       "│ 3   │ \"S\"      │\n",
       "│ 4   │ \"S\"      │\n",
       "│ 5   │ \"S\"      │\n",
       "│ 6   │ \"Q\"      │"
      ]
     },
     "execution_count": 3,
     "metadata": {},
     "output_type": "execute_result"
    }
   ],
   "source": [
    "train = readtable(\"train.csv\")\n",
    "test = readtable(\"test.csv\")\n",
    "head(train)"
   ]
  },
  {
   "cell_type": "code",
   "execution_count": 4,
   "metadata": {
    "collapsed": false
   },
   "outputs": [],
   "source": [
    "####### Exploration phase #######\n",
    "\n",
    "# describe(train)"
   ]
  },
  {
   "cell_type": "code",
   "execution_count": 5,
   "metadata": {
    "collapsed": false
   },
   "outputs": [],
   "source": [
    "# Somehow adding the color visualization generate an error about int not defined in Gadfly\n",
    "# Need to edit source code and replace int by Int\n",
    "# plot(train, x=\"Sex\", y=\"Survived\", color=\"Survived\", Geom.histogram(position=:stack), Scale.color_discrete_manual(\"red\",\"green\"))"
   ]
  },
  {
   "cell_type": "code",
   "execution_count": 6,
   "metadata": {
    "collapsed": false
   },
   "outputs": [],
   "source": [
    "# plot(train, x=:Age, y=:Survived, color=:Survived, Geom.histogram(bincount=15,position=:dodge), Scale.color_discrete_manual(\"orange\",\"green\"))"
   ]
  },
  {
   "cell_type": "markdown",
   "metadata": {},
   "source": [
    "# Feature Engineering\n",
    "\n",
    "Use end to end Pipelines. (questions how to use data from train set in the test set if using pipelines ?)\n",
    "\n",
    "- Extract Title from Name\n",
    "- Extract family Name from Name and count occurences (similar to family size but may have people that share a name)\n",
    "- Count occurences of ticket (might detected nannies and friends)\n",
    "- Extract Deck from Cabin\n",
    "- Categorize titles per social rank\n",
    "- Combine Siblings + Spouse + Parents + 1 to have family size\n",
    "- Bin Fare. Have a category 0 for VIP that were invited\n",
    "- Normalize Fare/Family size if someone paid for all\n",
    "\n",
    "#### Missing values :\n",
    "- Compute Missing Age (or predict it via a simple Regression)\n",
    "- Bin Age into Age group (and predict that instead)\n",
    "- Drop NA in Embarked (or predict it via a simple Regression)\n",
    "\n",
    "- Predict Fare and FareGroup for test data\n",
    "\n",
    "To keep the algorithm as general as possible and not overfit onedge cases I didn't use Names, Ticket ID, Cabin Number as is. What if the data is split between train and test data, what if it doesn't appear at all ?\n"
   ]
  },
  {
   "cell_type": "code",
   "execution_count": 7,
   "metadata": {
    "collapsed": false
   },
   "outputs": [
    {
     "data": {
      "text/plain": [
       "pp_title (generic function with 1 method)"
      ]
     },
     "execution_count": 7,
     "metadata": {},
     "output_type": "execute_result"
    }
   ],
   "source": [
    "## Optimus Title, the transformer that gets title from the name field\n",
    "type PP_TitleTransformer <: ScikitLearnBase.BaseEstimator\n",
    "end\n",
    "\n",
    "@declare_hyperparameters(PP_TitleTransformer, Symbol[]) ##Symbol is a temp mesure while waiting for new release of ScikitLearn\n",
    "\n",
    "ScikitLearnBase.fit!(self::PP_TitleTransformer, X::DataFrame, y=nothing) = return self\n",
    "\n",
    "function ScikitLearnBase.transform(self::PP_TitleTransformer, X::DataFrame)\n",
    "    @linq X |>\n",
    "    transform(CptTitle = map(s->match(r\"(?<=, ).*?\\.\", s).match, :Name))\n",
    "end\n",
    "\n",
    "function pp_title(df::DataFrame) ##For debugging the transformation\n",
    "    @linq df |>\n",
    "    transform(CptTitle = map(s->match(r\"(?<=, ).*?\\.\", s).match, :Name))\n",
    "end"
   ]
  },
  {
   "cell_type": "code",
   "execution_count": 8,
   "metadata": {
    "collapsed": false
   },
   "outputs": [
    {
     "data": {
      "text/plain": [
       "pp_FareGroup (generic function with 1 method)"
      ]
     },
     "execution_count": 8,
     "metadata": {},
     "output_type": "execute_result"
    }
   ],
   "source": [
    "## Optimus Fare bucket transformer, the transformer that bins Fares\n",
    "## This transformer would not have seen the light without the magical searchsortedfirst.\n",
    "## (DataFrames.jl needs a cut function)\n",
    "type PP_FareGroupTransformer <: ScikitLearnBase.BaseEstimator\n",
    "end\n",
    "\n",
    "@declare_hyperparameters(PP_FareGroupTransformer, Symbol[])\n",
    "\n",
    "ScikitLearnBase.fit!(self::PP_FareGroupTransformer, X::DataFrame, y=nothing) = return self\n",
    "\n",
    "function ScikitLearnBase.transform(self::PP_FareGroupTransformer, X::DataFrame)\n",
    "    @linq X |>\n",
    "    transform(CptFareGroup = map(s->\n",
    "    if isna(s) return s\n",
    "    else ifelse(s==0,0,\n",
    "        searchsortedfirst(10.0:10.0:100.0,s)\n",
    "        ) end,:Fare)\n",
    "    )\n",
    "end\n",
    "\n",
    "\n",
    "# Magical searchsortedfirst for binning bucketing. (DataFrames.jl needs a cut function)\n",
    "# However if s==0 is poisoned by NAtype\n",
    "function pp_FareGroup(df::AbstractDataFrame) ## For debugging the transformation\n",
    "    @linq df |> transform(CptFareGroup = map(s->\n",
    "    if isna(s) return s\n",
    "    else ifelse(s==0,0,\n",
    "        searchsortedfirst(10.0:10.0:100.0,s)\n",
    "        ) end,:Fare)\n",
    "    )\n",
    "end"
   ]
  },
  {
   "cell_type": "code",
   "execution_count": 9,
   "metadata": {
    "collapsed": false
   },
   "outputs": [
    {
     "data": {
      "text/plain": [
       "pp_deck (generic function with 1 method)"
      ]
     },
     "execution_count": 9,
     "metadata": {},
     "output_type": "execute_result"
    }
   ],
   "source": [
    "## Optimus Deck, the transformer that gets deck from the Cabin field\n",
    "type PP_DeckTransformer <: ScikitLearnBase.BaseEstimator\n",
    "end\n",
    "\n",
    "@declare_hyperparameters(PP_DeckTransformer, Symbol[])\n",
    "\n",
    "ScikitLearnBase.fit!(self::PP_DeckTransformer, X::DataFrame, y=nothing) = return self\n",
    "\n",
    "function ScikitLearnBase.transform(self::PP_DeckTransformer, X::DataFrame)\n",
    "    @linq X |>\n",
    "    transform(CptDeck = map(s->ifelse(isna(s),\"Unknown\",s), :Cabin)) |>\n",
    "        ## Need two step otherwise Julia complains about no index method for NAtypes, pesky Julia\n",
    "        transform(CptDeck = map(s->ifelse(s==\"Unknown\",s,s[1:1]), :CptDeck))\n",
    "end\n",
    "\n",
    "function pp_deck(df::DataFrame) ##For debugging the transformation\n",
    "    @linq df |>\n",
    "        transform(CptDeck = map(s->ifelse(isna(s),\"Unknown\",s), :Cabin)) |>\n",
    "        ## Need two step otherwise Julia complains about no index method for NAtypes, pesky Julia\n",
    "        transform(CptDeck = map(s->ifelse(s==\"Unknown\",s,s[1:1]), :CptDeck))\n",
    "end"
   ]
  },
  {
   "cell_type": "code",
   "execution_count": 10,
   "metadata": {
    "collapsed": false
   },
   "outputs": [
    {
     "data": {
      "text/plain": [
       "pp_titlecat (generic function with 1 method)"
      ]
     },
     "execution_count": 10,
     "metadata": {},
     "output_type": "execute_result"
    }
   ],
   "source": [
    "#Dictionary for socio-prof categories\n",
    "#Dictionary for consistent referencing (transform input to lower case for insensitive use)\n",
    "#Master. --> children 0\n",
    "#Miss. Mlle --> unmarried 1\n",
    "#Mr. Mrs. Ms. --> normal 2\n",
    "#Honorifics --> rich people\n",
    "dicoRef = Dict(\n",
    "            \"Mr.\" => 2,\n",
    "            \"Mrs.\"=> 2,\n",
    "            \"Miss.\" => 1,\n",
    "            \"Master.\" => 0,\n",
    "            \"Don.\"=> 3,\n",
    "            \"Rev.\"=>3,\n",
    "            \"Dr.\"=>3,\n",
    "            \"Mme.\"=>2,\n",
    "            \"Ms.\"=>2,\n",
    "            \"Major.\"=>3,\n",
    "            \"Lady.\"=>3,\n",
    "            \"Sir.\"=>3,\n",
    "            \"Mlle.\"=>1,\n",
    "            \"Col.\"=>3,\n",
    "            \"Capt.\"=>3,\n",
    "            \"the Countess.\"=>3,\n",
    "            \"Jonkheer.\"=>3,\n",
    "            \"Dona.\"=>3\n",
    "    )\n",
    "\n",
    "## Optimus Title Social Category, the transformer that gets the social standing\n",
    "## from the CptTitle field\n",
    "type PP_TitleCatTransformer <: ScikitLearnBase.BaseEstimator\n",
    "end\n",
    "\n",
    "@declare_hyperparameters(PP_TitleCatTransformer, Symbol[])\n",
    "\n",
    "ScikitLearnBase.fit!(self::PP_TitleCatTransformer, X::DataFrame, y=nothing) = return self\n",
    "\n",
    "function ScikitLearnBase.transform(self::PP_TitleCatTransformer, X::DataFrame)\n",
    "    @linq X |>\n",
    "    transform(CptTitleCat = map(s->dicoRef[s], :CptTitle))\n",
    "end\n",
    "\n",
    "function pp_titlecat(df::AbstractDataFrame) ## For debugging the transformation\n",
    "    @linq df |> transform(CptTitleCat = map(s->dicoRef[s], :CptTitle))\n",
    "end"
   ]
  },
  {
   "cell_type": "code",
   "execution_count": 11,
   "metadata": {
    "collapsed": false
   },
   "outputs": [
    {
     "data": {
      "text/plain": [
       "pp_namefreq (generic function with 1 method)"
      ]
     },
     "execution_count": 11,
     "metadata": {},
     "output_type": "execute_result"
    }
   ],
   "source": [
    "## Optimus Family Name frequency, the transformer that gets the family name frequency\n",
    "## potential issue, if family are split between training and test data?\n",
    "## \n",
    "## Todo use fit to save between training and test data\n",
    "type PP_FamNameFreqTransformer <: ScikitLearnBase.BaseEstimator\n",
    "end\n",
    "\n",
    "@declare_hyperparameters(PP_FamNameFreqTransformer, Symbol[])\n",
    "\n",
    "ScikitLearnBase.fit!(self::PP_FamNameFreqTransformer, X::DataFrame, y=nothing) = return self\n",
    "\n",
    "function ScikitLearnBase.transform(self::PP_FamNameFreqTransformer, X::DataFrame)\n",
    "    @linq X |>\n",
    "        transform(CptNameFreq = map(s->match(r\"^.*?,\", s).match, :Name))|>\n",
    "        groupby(:CptNameFreq)|>\n",
    "        transform(CptNameFreq = length(:CptNameFreq))\n",
    "end\n",
    "\n",
    "function pp_namefreq(df::AbstractDataFrame) ## For debugging the transformation\n",
    "    @linq df |>\n",
    "        transform(CptNameFreq = map(s->match(r\"^.*?,\", s).match, :Name))|>\n",
    "        groupby(:CptNameFreq)|>\n",
    "        transform(CptNameFreq = length(:CptNameFreq)) ## TODO : is length really a count equivalent ?\n",
    "end"
   ]
  },
  {
   "cell_type": "code",
   "execution_count": 12,
   "metadata": {
    "collapsed": false
   },
   "outputs": [
    {
     "data": {
      "text/plain": [
       "pp_ticketfreq (generic function with 1 method)"
      ]
     },
     "execution_count": 12,
     "metadata": {},
     "output_type": "execute_result"
    }
   ],
   "source": [
    "## Optimus ticket frequency, the transformer that gets the ticket frequency\n",
    "## potential issue, if family are split between training and test data?\n",
    "## \n",
    "## Todo use fit to save between training and test data\n",
    "type PP_TicketFreqTransformer <: ScikitLearnBase.BaseEstimator\n",
    "end\n",
    "\n",
    "@declare_hyperparameters(PP_TicketFreqTransformer, Symbol[])\n",
    "\n",
    "ScikitLearnBase.fit!(self::PP_TicketFreqTransformer, X::DataFrame, y=nothing) = return self\n",
    "\n",
    "function ScikitLearnBase.transform(self::PP_TicketFreqTransformer, X::DataFrame)\n",
    "    @linq X |>\n",
    "        groupby(:Ticket)|>\n",
    "        transform(CptTicketFreq = length(:Ticket))\n",
    "end\n",
    "\n",
    "function pp_ticketfreq(df::AbstractDataFrame) ## For debugging the transformation\n",
    "    @linq df |>\n",
    "        groupby(:Ticket)|>\n",
    "        transform(CptTicketFreq = length(:Ticket)) ## TODO : is length really a count equivalent ?\n",
    "end"
   ]
  },
  {
   "cell_type": "code",
   "execution_count": 13,
   "metadata": {
    "collapsed": false
   },
   "outputs": [
    {
     "data": {
      "text/plain": [
       "pp_familysize (generic function with 1 method)"
      ]
     },
     "execution_count": 13,
     "metadata": {},
     "output_type": "execute_result"
    }
   ],
   "source": [
    "## Optimus Family Size\n",
    "type PP_FamSizeTransformer <: ScikitLearnBase.BaseEstimator\n",
    "end\n",
    "\n",
    "@declare_hyperparameters(PP_FamSizeTransformer, Symbol[])\n",
    "\n",
    "ScikitLearnBase.fit!(self::PP_FamSizeTransformer, X::DataFrame, y=nothing) = return self\n",
    "\n",
    "function ScikitLearnBase.transform(self::PP_FamSizeTransformer, X::DataFrame)\n",
    "    @linq X |>\n",
    "    transform(CptFamSize = :SibSp + :Parch + 1 )\n",
    "end\n",
    "\n",
    "function pp_familysize(df::AbstractDataFrame) ## For debugging the transformation\n",
    "    @linq df |>\n",
    "    transform(CptFamSize = :SibSp + :Parch + 1 )\n",
    "end"
   ]
  },
  {
   "cell_type": "code",
   "execution_count": 14,
   "metadata": {
    "collapsed": false
   },
   "outputs": [
    {
     "ename": "LoadError",
     "evalue": "LoadError: syntax: unexpected ,\nwhile loading In[14], in expression starting on line 23",
     "output_type": "error",
     "traceback": [
      "LoadError: syntax: unexpected ,\nwhile loading In[14], in expression starting on line 23",
      ""
     ]
    }
   ],
   "source": [
    "## Optimus Embarked transformer (to be replaced by a Regressor?)\n",
    "\n",
    "type PP_EmbarkedImputer <: ScikitLearnBase.BaseEstimator\n",
    "    df_Embarked::DataFrame\n",
    "    PP_EmbarkedImputer() = new()\n",
    "end\n",
    "\n",
    "@declare_hyperparameters(PP_EmbarkedImputer, Symbol[])\n",
    "\n",
    "function ScikitLearnBase.fit!(self::PP_EmbarkedImputer, X::DataFrame, y=nothing)\n",
    "    self.df_Embarked = by(X, [:Pclass,:Sex,:CptTitleCat], df -> mode(dropna(df[:Embarked])))\n",
    "    return self\n",
    "end\n",
    "\n",
    "function fillNA_Embarked(EI::PP_EmbarkedImputer,tx_Embarked, in_Pclass, tx_Sex, in_Titlecat)\n",
    "    df = EI.df_Embarked\n",
    "    ifelse(\n",
    "        isna(tx_Embarked),\n",
    "        reshape(df[\n",
    "            (df[:Pclass].==in_Pclass)&\n",
    "            (df[:Sex].==tx_Sex)&\n",
    "            (df[:CptTitleCat].==in_Titlecat)&\n",
    "        ,:x1])[1],\n",
    "    tx_Embarked)\n",
    "end\n",
    "\n",
    "function ScikitLearnBase.transform(self::PP_EmbarkedImputer, X::DataFrame)\n",
    "    result = @byrow! X begin\n",
    "        @newcol CptEmbarked::DataArray{String}\n",
    "        :CptEmbarked = fillNA_Embarked(self,:Embarked,:Pclass,:Sex,:CptTitleCat)\n",
    "    end\n",
    "    return result\n",
    "end"
   ]
  },
  {
   "cell_type": "code",
   "execution_count": 15,
   "metadata": {
    "collapsed": false
   },
   "outputs": [
    {
     "data": {
      "text/plain": [
       "pp_AgeGroup (generic function with 1 method)"
      ]
     },
     "execution_count": 15,
     "metadata": {},
     "output_type": "execute_result"
    }
   ],
   "source": [
    "## Optimus Age bucket transformer, the transformer that bins Age\n",
    "## This transformer would not have seen the light without the magical searchsortedfirst.\n",
    "## (DataFrames.jl needs a cut function)\n",
    "type PP_AgeGroupTransformer <: ScikitLearnBase.BaseEstimator\n",
    "end\n",
    "\n",
    "@declare_hyperparameters(PP_AgeGroupTransformer, Symbol[])\n",
    "\n",
    "ScikitLearnBase.fit!(self::PP_AgeGroupTransformer, X::DataFrame, y=nothing) = return self\n",
    "\n",
    "function ScikitLearnBase.transform(self::PP_AgeGroupTransformer, X::DataFrame)\n",
    "    @linq X |> transform(CptAgeGroup = map(s->\n",
    "    ifelse(~isna(s),searchsortedfirst(4.0:12.0:64.0,s),s),:Age))\n",
    "end\n",
    "\n",
    "\n",
    "# Magical searchsortedfirst for binning bucketing. (DataFrames.jl needs a cut function)\n",
    "function pp_AgeGroup(df::AbstractDataFrame) ## For debugging the transformation\n",
    "    @linq df |> transform(CptAgeGroup = map(s->\n",
    "    ifelse(~isna(s),searchsortedfirst(4.0:12.0:64.0,s),s),:Age))\n",
    "end\n",
    "\n"
   ]
  },
  {
   "cell_type": "code",
   "execution_count": 16,
   "metadata": {
    "collapsed": false
   },
   "outputs": [
    {
     "data": {
      "text/plain": [
       "pp_fareperson (generic function with 1 method)"
      ]
     },
     "execution_count": 16,
     "metadata": {},
     "output_type": "execute_result"
    }
   ],
   "source": [
    "## Optimus Fare per person\n",
    "type PP_FarePersonTransformer <: ScikitLearnBase.BaseEstimator\n",
    "end\n",
    "\n",
    "@declare_hyperparameters(PP_FarePersonTransformer, Symbol[])\n",
    "\n",
    "ScikitLearnBase.fit!(self::PP_FarePersonTransformer, X::DataFrame, y=nothing) = return self\n",
    "\n",
    "function ScikitLearnBase.transform(self::PP_FarePersonTransformer, X::DataFrame)\n",
    "    @linq X |>\n",
    "    transform(CptFarePerson = :Fare ./ :CptFamSize )\n",
    "end\n",
    "\n",
    "function pp_fareperson(df::AbstractDataFrame) ## For debugging the transformation\n",
    "    @linq df |>\n",
    "    transform(CptFarePerson = :Fare ./ :CptFamSize )\n",
    "end"
   ]
  },
  {
   "cell_type": "code",
   "execution_count": 17,
   "metadata": {
    "collapsed": false
   },
   "outputs": [],
   "source": [
    "## Optimus Age group imputer transformer (to be replaced by a Regressor?)\n",
    "## Note ! Can fail during Cross validation because the filter by group by returns empty :/\n",
    "\n",
    "\n",
    "type PP_AgeGroupImputer <: ScikitLearnBase.BaseEstimator\n",
    "    df_AgeGroup::DataFrame\n",
    "    PP_AgeGroupImputer() = new()\n",
    "end\n",
    "\n",
    "@declare_hyperparameters(PP_AgeGroupImputer, Symbol[])\n",
    "\n",
    "function ScikitLearnBase.fit!(self::PP_AgeGroupImputer, X::DataFrame, y=nothing)\n",
    "    self.df_AgeGroup = by(X, [:Pclass,:Sex,:CptTitleCat], df -> mode(dropna(df[:CptAgeGroup])))\n",
    "    return self\n",
    "end\n",
    "\n",
    "function fillNA_AgeCat(AGI::PP_AgeGroupImputer,in_AgeGroup, in_Pclass, tx_Sex, in_Titlecat)\n",
    "    df = AGI.df_AgeGroup\n",
    "    ifelse(\n",
    "        isna(in_AgeGroup),\n",
    "        reshape(df[\n",
    "            (df[:Pclass].==in_Pclass)&\n",
    "            (df[:Sex].==tx_Sex)&\n",
    "            (df[:CptTitleCat].==in_Titlecat)\n",
    "        ,:x1])[1],\n",
    "    in_AgeGroup)\n",
    "end\n",
    "\n",
    "function ScikitLearnBase.transform(self::PP_AgeGroupImputer, X::DataFrame)\n",
    "    result = @byrow! X begin\n",
    "        :CptAgeGroup = fillNA_AgeCat(self,:CptAgeGroup,:Pclass,:Sex,:CptTitleCat)\n",
    "    end\n",
    "    return result\n",
    "end"
   ]
  },
  {
   "cell_type": "code",
   "execution_count": 18,
   "metadata": {
    "collapsed": false
   },
   "outputs": [
    {
     "data": {
      "text/plain": [
       "pp_MissingAge (generic function with 1 method)"
      ]
     },
     "execution_count": 18,
     "metadata": {},
     "output_type": "execute_result"
    }
   ],
   "source": [
    "## Optimus Age imputer transformer (to be replaced by a Regressor?)\n",
    "## Note ! Can fail during Cross validation because the filter by group by returns empy :/\n",
    "## For missing values, only infer from non-missing field\n",
    "## to avoid accumulate approx from actual data\n",
    "## ==> Don't use CptAgeGroup\n",
    "\n",
    "type PP_AgeTransformer <: ScikitLearnBase.BaseEstimator\n",
    "    df_Age::DataFrame\n",
    "    PP_AgeTransformer() = new()\n",
    "end\n",
    "\n",
    "@declare_hyperparameters(PP_AgeTransformer, Symbol[])\n",
    "\n",
    "function ScikitLearnBase.fit!(self::PP_AgeTransformer, X::DataFrame, y=nothing)\n",
    "    self.df_Age = by(X, [:Pclass,:Sex,:CptTitleCat], df -> median(dropna(df[:Age])))\n",
    "    return self\n",
    "end\n",
    "\n",
    "function fillNA_Age(AGI::PP_AgeTransformer,in_Age, in_Pclass, tx_Sex, in_Titlecat)\n",
    "    df = AGI.df_Age\n",
    "    ifelse(\n",
    "        isna(in_Age),\n",
    "        reshape(df[\n",
    "            (df[:Pclass].==in_Pclass)&\n",
    "            (df[:Sex].==tx_Sex)&\n",
    "            (df[:CptTitleCat].==in_Titlecat)\n",
    "        ,:x1])[1],\n",
    "    in_Age)\n",
    "end\n",
    "\n",
    "function ScikitLearnBase.transform(self::PP_AgeTransformer, X::DataFrame)\n",
    "    result = @byrow! X begin\n",
    "        @newcol CptAge::DataArray{Float64}\n",
    "        :CptAge = fillNA_Age(self,:Age,:Pclass,:Sex,:CptTitleCat)\n",
    "    end\n",
    "    return result\n",
    "end\n",
    "\n",
    "\n",
    "\n",
    "\n",
    "## For testing only. cannot automatically test data in a pipeline\n",
    "## because groupby will be different between train and test\n",
    "function pp_MissingAge(df::AbstractDataFrame)\n",
    "    @linq df |>\n",
    "    groupby([:Pclass,:Sex,:CptTitle]) |>\n",
    "          transform(CptAge = ifelse(isna(:Age),median(dropna(:Age)),:Age))\n",
    "end"
   ]
  },
  {
   "cell_type": "code",
   "execution_count": 19,
   "metadata": {
    "collapsed": false
   },
   "outputs": [
    {
     "data": {
      "text/html": [
       "<table class=\"data-frame\"><thead><tr><th></th><th>PassengerId</th><th>Survived</th><th>Pclass</th><th>Name</th><th>Sex</th><th>Age</th><th>SibSp</th><th>Parch</th><th>Ticket</th><th>Fare</th><th>Cabin</th><th>Embarked</th><th>CptTitle</th><th>CptTitleCat</th><th>CptDeck</th><th>CptNameFreq</th><th>CptFamSize</th><th>CptFareGroup</th><th>CptFarePerson</th><th>CptAgeGroup</th><th>CptTicketFreq</th><th>CptAge</th></tr></thead><tbody><tr><th>1</th><td>258</td><td>1</td><td>1</td><td>Cherry, Miss. Gladys</td><td>female</td><td>30.0</td><td>0</td><td>0</td><td>110152</td><td>86.5</td><td>B77</td><td>S</td><td>Miss.</td><td>1</td><td>B</td><td>1</td><td>1</td><td>9</td><td>86.5</td><td>4</td><td>3</td><td>30.0</td></tr><tr><th>2</th><td>505</td><td>1</td><td>1</td><td>Maioni, Miss. Roberta</td><td>female</td><td>16.0</td><td>0</td><td>0</td><td>110152</td><td>86.5</td><td>B79</td><td>S</td><td>Miss.</td><td>1</td><td>B</td><td>1</td><td>1</td><td>9</td><td>86.5</td><td>2</td><td>3</td><td>16.0</td></tr><tr><th>3</th><td>586</td><td>1</td><td>1</td><td>Taussig, Miss. Ruth</td><td>female</td><td>18.0</td><td>0</td><td>2</td><td>110413</td><td>79.65</td><td>E68</td><td>S</td><td>Miss.</td><td>1</td><td>E</td><td>3</td><td>3</td><td>8</td><td>26.55</td><td>3</td><td>3</td><td>18.0</td></tr><tr><th>4</th><td>330</td><td>1</td><td>1</td><td>Hippach, Miss. Jean Gertrude</td><td>female</td><td>16.0</td><td>0</td><td>1</td><td>111361</td><td>57.9792</td><td>B18</td><td>C</td><td>Miss.</td><td>1</td><td>B</td><td>2</td><td>2</td><td>6</td><td>28.9896</td><td>2</td><td>2</td><td>16.0</td></tr><tr><th>5</th><td>888</td><td>1</td><td>1</td><td>Graham, Miss. Margaret Edith</td><td>female</td><td>19.0</td><td>0</td><td>0</td><td>112053</td><td>30.0</td><td>B42</td><td>S</td><td>Miss.</td><td>1</td><td>B</td><td>3</td><td>1</td><td>3</td><td>30.0</td><td>3</td><td>1</td><td>19.0</td></tr><tr><th>6</th><td>357</td><td>1</td><td>1</td><td>Bowerman, Miss. Elsie Edith</td><td>female</td><td>22.0</td><td>0</td><td>1</td><td>113505</td><td>55.0</td><td>E33</td><td>S</td><td>Miss.</td><td>1</td><td>E</td><td>1</td><td>2</td><td>6</td><td>27.5</td><td>3</td><td>2</td><td>22.0</td></tr><tr><th>7</th><td>62</td><td>1</td><td>1</td><td>Icard, Miss. Amelie</td><td>female</td><td>38.0</td><td>0</td><td>0</td><td>113572</td><td>80.0</td><td>B28</td><td>NA</td><td>Miss.</td><td>1</td><td>B</td><td>1</td><td>1</td><td>8</td><td>80.0</td><td>4</td><td>2</td><td>38.0</td></tr><tr><th>8</th><td>436</td><td>1</td><td>1</td><td>Carter, Miss. Lucile Polk</td><td>female</td><td>14.0</td><td>1</td><td>2</td><td>113760</td><td>120.0</td><td>B96 B98</td><td>S</td><td>Miss.</td><td>1</td><td>B</td><td>6</td><td>4</td><td>11</td><td>30.0</td><td>2</td><td>4</td><td>14.0</td></tr><tr><th>9</th><td>298</td><td>0</td><td>1</td><td>Allison, Miss. Helen Loraine</td><td>female</td><td>2.0</td><td>1</td><td>2</td><td>113781</td><td>151.55</td><td>C22 C26</td><td>S</td><td>Miss.</td><td>1</td><td>C</td><td>3</td><td>4</td><td>11</td><td>37.8875</td><td>1</td><td>4</td><td>2.0</td></tr><tr><th>10</th><td>709</td><td>1</td><td>1</td><td>Cleaver, Miss. Alice</td><td>female</td><td>22.0</td><td>0</td><td>0</td><td>113781</td><td>151.55</td><td>NA</td><td>S</td><td>Miss.</td><td>1</td><td>Unknown</td><td>1</td><td>1</td><td>11</td><td>151.55</td><td>3</td><td>4</td><td>22.0</td></tr><tr><th>11</th><td>12</td><td>1</td><td>1</td><td>Bonnell, Miss. Elizabeth</td><td>female</td><td>58.0</td><td>0</td><td>0</td><td>113783</td><td>26.55</td><td>C103</td><td>S</td><td>Miss.</td><td>1</td><td>C</td><td>1</td><td>1</td><td>3</td><td>26.55</td><td>6</td><td>1</td><td>58.0</td></tr><tr><th>12</th><td>843</td><td>1</td><td>1</td><td>Serepeca, Miss. Augusta</td><td>female</td><td>30.0</td><td>0</td><td>0</td><td>113798</td><td>31.0</td><td>NA</td><td>C</td><td>Miss.</td><td>1</td><td>Unknown</td><td>1</td><td>1</td><td>4</td><td>31.0</td><td>4</td><td>2</td><td>30.0</td></tr><tr><th>13</th><td>137</td><td>1</td><td>1</td><td>Newsom, Miss. Helen Monypeny</td><td>female</td><td>19.0</td><td>0</td><td>2</td><td>11752</td><td>26.2833</td><td>D47</td><td>S</td><td>Miss.</td><td>1</td><td>D</td><td>1</td><td>3</td><td>3</td><td>8.7611</td><td>3</td><td>1</td><td>19.0</td></tr><tr><th>14</th><td>311</td><td>1</td><td>1</td><td>Hays, Miss. Margaret Bechstein</td><td>female</td><td>24.0</td><td>0</td><td>0</td><td>11767</td><td>83.1583</td><td>C54</td><td>C</td><td>Miss.</td><td>1</td><td>C</td><td>2</td><td>1</td><td>9</td><td>83.1583</td><td>3</td><td>2</td><td>24.0</td></tr><tr><th>15</th><td>219</td><td>1</td><td>1</td><td>Bazzani, Miss. Albina</td><td>female</td><td>32.0</td><td>0</td><td>0</td><td>11813</td><td>76.2917</td><td>D15</td><td>C</td><td>Miss.</td><td>1</td><td>D</td><td>1</td><td>1</td><td>8</td><td>76.2917</td><td>4</td><td>1</td><td>32.0</td></tr><tr><th>16</th><td>521</td><td>1</td><td>1</td><td>Perreault, Miss. Anne</td><td>female</td><td>30.0</td><td>0</td><td>0</td><td>12749</td><td>93.5</td><td>B73</td><td>S</td><td>Miss.</td><td>1</td><td>B</td><td>1</td><td>1</td><td>10</td><td>93.5</td><td>4</td><td>2</td><td>30.0</td></tr><tr><th>17</th><td>276</td><td>1</td><td>1</td><td>Andrews, Miss. Kornelia Theodosia</td><td>female</td><td>63.0</td><td>1</td><td>0</td><td>13502</td><td>77.9583</td><td>D7</td><td>S</td><td>Miss.</td><td>1</td><td>D</td><td>2</td><td>2</td><td>8</td><td>38.97915</td><td>6</td><td>3</td><td>63.0</td></tr><tr><th>18</th><td>628</td><td>1</td><td>1</td><td>Longley, Miss. Gretchen Fiske</td><td>female</td><td>21.0</td><td>0</td><td>0</td><td>13502</td><td>77.9583</td><td>D9</td><td>S</td><td>Miss.</td><td>1</td><td>D</td><td>1</td><td>1</td><td>8</td><td>77.9583</td><td>3</td><td>3</td><td>21.0</td></tr><tr><th>19</th><td>540</td><td>1</td><td>1</td><td>Frolicher, Miss. Hedwig Margaritha</td><td>female</td><td>22.0</td><td>0</td><td>2</td><td>13568</td><td>49.5</td><td>B39</td><td>C</td><td>Miss.</td><td>1</td><td>B</td><td>1</td><td>3</td><td>5</td><td>16.5</td><td>3</td><td>1</td><td>22.0</td></tr><tr><th>20</th><td>338</td><td>1</td><td>1</td><td>Burns, Miss. Elizabeth Margaret</td><td>female</td><td>41.0</td><td>0</td><td>0</td><td>16966</td><td>134.5</td><td>E40</td><td>C</td><td>Miss.</td><td>1</td><td>E</td><td>1</td><td>1</td><td>11</td><td>134.5</td><td>5</td><td>2</td><td>41.0</td></tr><tr><th>21</th><td>307</td><td>1</td><td>1</td><td>Fleming, Miss. Margaret</td><td>female</td><td>NA</td><td>0</td><td>0</td><td>17421</td><td>110.8833</td><td>NA</td><td>C</td><td>Miss.</td><td>1</td><td>Unknown</td><td>1</td><td>1</td><td>11</td><td>110.8833</td><td>NA</td><td>4</td><td>30.0</td></tr><tr><th>22</th><td>291</td><td>1</td><td>1</td><td>Barber, Miss. Ellen \"Nellie\"</td><td>female</td><td>26.0</td><td>0</td><td>0</td><td>19877</td><td>78.85</td><td>NA</td><td>S</td><td>Miss.</td><td>1</td><td>Unknown</td><td>1</td><td>1</td><td>8</td><td>78.85</td><td>3</td><td>2</td><td>26.0</td></tr><tr><th>23</th><td>413</td><td>1</td><td>1</td><td>Minahan, Miss. Daisy E</td><td>female</td><td>33.0</td><td>1</td><td>0</td><td>19928</td><td>90.0</td><td>C78</td><td>Q</td><td>Miss.</td><td>1</td><td>C</td><td>2</td><td>2</td><td>9</td><td>45.0</td><td>4</td><td>2</td><td>33.0</td></tr><tr><th>24</th><td>89</td><td>1</td><td>1</td><td>Fortune, Miss. Mabel Helen</td><td>female</td><td>23.0</td><td>3</td><td>2</td><td>19950</td><td>263.0</td><td>C23 C25 C27</td><td>S</td><td>Miss.</td><td>1</td><td>C</td><td>4</td><td>6</td><td>11</td><td>43.833333333333336</td><td>3</td><td>4</td><td>23.0</td></tr><tr><th>25</th><td>342</td><td>1</td><td>1</td><td>Fortune, Miss. Alice Elizabeth</td><td>female</td><td>24.0</td><td>3</td><td>2</td><td>19950</td><td>263.0</td><td>C23 C25 C27</td><td>S</td><td>Miss.</td><td>1</td><td>C</td><td>4</td><td>6</td><td>11</td><td>43.833333333333336</td><td>3</td><td>4</td><td>24.0</td></tr><tr><th>26</th><td>731</td><td>1</td><td>1</td><td>Allen, Miss. Elisabeth Walton</td><td>female</td><td>29.0</td><td>0</td><td>0</td><td>24160</td><td>211.3375</td><td>B5</td><td>S</td><td>Miss.</td><td>1</td><td>B</td><td>2</td><td>1</td><td>11</td><td>211.3375</td><td>4</td><td>3</td><td>29.0</td></tr><tr><th>27</th><td>690</td><td>1</td><td>1</td><td>Madill, Miss. Georgette Alexandra</td><td>female</td><td>15.0</td><td>0</td><td>1</td><td>24160</td><td>211.3375</td><td>B5</td><td>S</td><td>Miss.</td><td>1</td><td>B</td><td>1</td><td>2</td><td>11</td><td>105.66875</td><td>2</td><td>3</td><td>15.0</td></tr><tr><th>28</th><td>216</td><td>1</td><td>1</td><td>Newell, Miss. Madeleine</td><td>female</td><td>31.0</td><td>1</td><td>0</td><td>35273</td><td>113.275</td><td>D36</td><td>C</td><td>Miss.</td><td>1</td><td>D</td><td>3</td><td>2</td><td>11</td><td>56.6375</td><td>4</td><td>3</td><td>31.0</td></tr><tr><th>29</th><td>394</td><td>1</td><td>1</td><td>Newell, Miss. Marjorie</td><td>female</td><td>23.0</td><td>1</td><td>0</td><td>35273</td><td>113.275</td><td>D36</td><td>C</td><td>Miss.</td><td>1</td><td>D</td><td>3</td><td>2</td><td>11</td><td>56.6375</td><td>3</td><td>3</td><td>23.0</td></tr><tr><th>30</th><td>319</td><td>1</td><td>1</td><td>Wick, Miss. Mary Natalie</td><td>female</td><td>31.0</td><td>0</td><td>2</td><td>36928</td><td>164.8667</td><td>C7</td><td>S</td><td>Miss.</td><td>1</td><td>C</td><td>2</td><td>3</td><td>11</td><td>54.95556666666667</td><td>4</td><td>2</td><td>31.0</td></tr><tr><th>&vellip;</th><td>&vellip;</td><td>&vellip;</td><td>&vellip;</td><td>&vellip;</td><td>&vellip;</td><td>&vellip;</td><td>&vellip;</td><td>&vellip;</td><td>&vellip;</td><td>&vellip;</td><td>&vellip;</td><td>&vellip;</td><td>&vellip;</td><td>&vellip;</td><td>&vellip;</td><td>&vellip;</td><td>&vellip;</td><td>&vellip;</td><td>&vellip;</td><td>&vellip;</td><td>&vellip;</td><td>&vellip;</td></tr></tbody></table>"
      ],
      "text/plain": [
       "891×22 DataFrames.DataFrame\n",
       "│ Row │ PassengerId │ Survived │ Pclass │\n",
       "├─────┼─────────────┼──────────┼────────┤\n",
       "│ 1   │ 258         │ 1        │ 1      │\n",
       "│ 2   │ 505         │ 1        │ 1      │\n",
       "│ 3   │ 586         │ 1        │ 1      │\n",
       "│ 4   │ 330         │ 1        │ 1      │\n",
       "│ 5   │ 888         │ 1        │ 1      │\n",
       "│ 6   │ 357         │ 1        │ 1      │\n",
       "│ 7   │ 62          │ 1        │ 1      │\n",
       "│ 8   │ 436         │ 1        │ 1      │\n",
       "│ 9   │ 298         │ 0        │ 1      │\n",
       "│ 10  │ 709         │ 1        │ 1      │\n",
       "│ 11  │ 12          │ 1        │ 1      │\n",
       "⋮\n",
       "│ 880 │ 172         │ 0        │ 3      │\n",
       "│ 881 │ 279         │ 0        │ 3      │\n",
       "│ 882 │ 788         │ 0        │ 3      │\n",
       "│ 883 │ 752         │ 1        │ 3      │\n",
       "│ 884 │ 177         │ 0        │ 3      │\n",
       "│ 885 │ 789         │ 1        │ 3      │\n",
       "│ 886 │ 349         │ 1        │ 3      │\n",
       "│ 887 │ 490         │ 1        │ 3      │\n",
       "│ 888 │ 60          │ 0        │ 3      │\n",
       "│ 889 │ 387         │ 0        │ 3      │\n",
       "│ 890 │ 481         │ 0        │ 3      │\n",
       "│ 891 │ 160         │ 0        │ 3      │\n",
       "\n",
       "│ Row │ Name                                     │ Sex      │ Age  │ SibSp │\n",
       "├─────┼──────────────────────────────────────────┼──────────┼──────┼───────┤\n",
       "│ 1   │ \"Cherry, Miss. Gladys\"                   │ \"female\" │ 30.0 │ 0     │\n",
       "│ 2   │ \"Maioni, Miss. Roberta\"                  │ \"female\" │ 16.0 │ 0     │\n",
       "│ 3   │ \"Taussig, Miss. Ruth\"                    │ \"female\" │ 18.0 │ 0     │\n",
       "│ 4   │ \"Hippach, Miss. Jean Gertrude\"           │ \"female\" │ 16.0 │ 0     │\n",
       "│ 5   │ \"Graham, Miss. Margaret Edith\"           │ \"female\" │ 19.0 │ 0     │\n",
       "│ 6   │ \"Bowerman, Miss. Elsie Edith\"            │ \"female\" │ 22.0 │ 0     │\n",
       "│ 7   │ \"Icard, Miss. Amelie\"                    │ \"female\" │ 38.0 │ 0     │\n",
       "│ 8   │ \"Carter, Miss. Lucile Polk\"              │ \"female\" │ 14.0 │ 1     │\n",
       "│ 9   │ \"Allison, Miss. Helen Loraine\"           │ \"female\" │ 2.0  │ 1     │\n",
       "│ 10  │ \"Cleaver, Miss. Alice\"                   │ \"female\" │ 22.0 │ 0     │\n",
       "│ 11  │ \"Bonnell, Miss. Elizabeth\"               │ \"female\" │ 58.0 │ 0     │\n",
       "⋮\n",
       "│ 880 │ \"Rice, Master. Arthur\"                   │ \"male\"   │ 4.0  │ 4     │\n",
       "│ 881 │ \"Rice, Master. Eric\"                     │ \"male\"   │ 7.0  │ 4     │\n",
       "│ 882 │ \"Rice, Master. George Hugh\"              │ \"male\"   │ 8.0  │ 4     │\n",
       "│ 883 │ \"Moor, Master. Meier\"                    │ \"male\"   │ 6.0  │ 0     │\n",
       "│ 884 │ \"Lefebre, Master. Henry Forbes\"          │ \"male\"   │ NA   │ 3     │\n",
       "│ 885 │ \"Dean, Master. Bertram Vere\"             │ \"male\"   │ 1.0  │ 1     │\n",
       "│ 886 │ \"Coutts, Master. William Loch \\\"William\\\"\" │ \"male\"   │ 3.0  │ 1     │\n",
       "│ 887 │ \"Coutts, Master. Eden Leslie \\\"Neville\\\"\"  │ \"male\"   │ 9.0  │ 1     │\n",
       "│ 888 │ \"Goodwin, Master. William Frederick\"     │ \"male\"   │ 11.0 │ 5     │\n",
       "│ 889 │ \"Goodwin, Master. Sidney Leonard\"        │ \"male\"   │ 1.0  │ 5     │\n",
       "│ 890 │ \"Goodwin, Master. Harold Victor\"         │ \"male\"   │ 9.0  │ 5     │\n",
       "│ 891 │ \"Sage, Master. Thomas Henry\"             │ \"male\"   │ NA   │ 8     │\n",
       "\n",
       "│ Row │ Parch │ Ticket       │ Fare    │ Cabin     │ Embarked │ CptTitle  │\n",
       "├─────┼───────┼──────────────┼─────────┼───────────┼──────────┼───────────┤\n",
       "│ 1   │ 0     │ \"110152\"     │ 86.5    │ \"B77\"     │ \"S\"      │ \"Miss.\"   │\n",
       "│ 2   │ 0     │ \"110152\"     │ 86.5    │ \"B79\"     │ \"S\"      │ \"Miss.\"   │\n",
       "│ 3   │ 2     │ \"110413\"     │ 79.65   │ \"E68\"     │ \"S\"      │ \"Miss.\"   │\n",
       "│ 4   │ 1     │ \"111361\"     │ 57.9792 │ \"B18\"     │ \"C\"      │ \"Miss.\"   │\n",
       "│ 5   │ 0     │ \"112053\"     │ 30.0    │ \"B42\"     │ \"S\"      │ \"Miss.\"   │\n",
       "│ 6   │ 1     │ \"113505\"     │ 55.0    │ \"E33\"     │ \"S\"      │ \"Miss.\"   │\n",
       "│ 7   │ 0     │ \"113572\"     │ 80.0    │ \"B28\"     │ NA       │ \"Miss.\"   │\n",
       "│ 8   │ 2     │ \"113760\"     │ 120.0   │ \"B96 B98\" │ \"S\"      │ \"Miss.\"   │\n",
       "│ 9   │ 2     │ \"113781\"     │ 151.55  │ \"C22 C26\" │ \"S\"      │ \"Miss.\"   │\n",
       "│ 10  │ 0     │ \"113781\"     │ 151.55  │ NA        │ \"S\"      │ \"Miss.\"   │\n",
       "│ 11  │ 0     │ \"113783\"     │ 26.55   │ \"C103\"    │ \"S\"      │ \"Miss.\"   │\n",
       "⋮\n",
       "│ 880 │ 1     │ \"382652\"     │ 29.125  │ NA        │ \"Q\"      │ \"Master.\" │\n",
       "│ 881 │ 1     │ \"382652\"     │ 29.125  │ NA        │ \"Q\"      │ \"Master.\" │\n",
       "│ 882 │ 1     │ \"382652\"     │ 29.125  │ NA        │ \"Q\"      │ \"Master.\" │\n",
       "│ 883 │ 1     │ \"392096\"     │ 12.475  │ \"E121\"    │ \"S\"      │ \"Master.\" │\n",
       "│ 884 │ 1     │ \"4133\"       │ 25.4667 │ NA        │ \"S\"      │ \"Master.\" │\n",
       "│ 885 │ 2     │ \"C.A. 2315\"  │ 20.575  │ NA        │ \"S\"      │ \"Master.\" │\n",
       "│ 886 │ 1     │ \"C.A. 37671\" │ 15.9    │ NA        │ \"S\"      │ \"Master.\" │\n",
       "│ 887 │ 1     │ \"C.A. 37671\" │ 15.9    │ NA        │ \"S\"      │ \"Master.\" │\n",
       "│ 888 │ 2     │ \"CA 2144\"    │ 46.9    │ NA        │ \"S\"      │ \"Master.\" │\n",
       "│ 889 │ 2     │ \"CA 2144\"    │ 46.9    │ NA        │ \"S\"      │ \"Master.\" │\n",
       "│ 890 │ 2     │ \"CA 2144\"    │ 46.9    │ NA        │ \"S\"      │ \"Master.\" │\n",
       "│ 891 │ 2     │ \"CA. 2343\"   │ 69.55   │ NA        │ \"S\"      │ \"Master.\" │\n",
       "\n",
       "│ Row │ CptTitleCat │ CptDeck   │ CptNameFreq │ CptFamSize │ CptFareGroup │\n",
       "├─────┼─────────────┼───────────┼─────────────┼────────────┼──────────────┤\n",
       "│ 1   │ 1           │ \"B\"       │ 1           │ 1          │ 9            │\n",
       "│ 2   │ 1           │ \"B\"       │ 1           │ 1          │ 9            │\n",
       "│ 3   │ 1           │ \"E\"       │ 3           │ 3          │ 8            │\n",
       "│ 4   │ 1           │ \"B\"       │ 2           │ 2          │ 6            │\n",
       "│ 5   │ 1           │ \"B\"       │ 3           │ 1          │ 3            │\n",
       "│ 6   │ 1           │ \"E\"       │ 1           │ 2          │ 6            │\n",
       "│ 7   │ 1           │ \"B\"       │ 1           │ 1          │ 8            │\n",
       "│ 8   │ 1           │ \"B\"       │ 6           │ 4          │ 11           │\n",
       "│ 9   │ 1           │ \"C\"       │ 3           │ 4          │ 11           │\n",
       "│ 10  │ 1           │ \"Unknown\" │ 1           │ 1          │ 11           │\n",
       "│ 11  │ 1           │ \"C\"       │ 1           │ 1          │ 3            │\n",
       "⋮\n",
       "│ 880 │ 0           │ \"Unknown\" │ 5           │ 6          │ 3            │\n",
       "│ 881 │ 0           │ \"Unknown\" │ 5           │ 6          │ 3            │\n",
       "│ 882 │ 0           │ \"Unknown\" │ 5           │ 6          │ 3            │\n",
       "│ 883 │ 0           │ \"E\"       │ 2           │ 2          │ 2            │\n",
       "│ 884 │ 0           │ \"Unknown\" │ 4           │ 5          │ 3            │\n",
       "│ 885 │ 0           │ \"Unknown\" │ 2           │ 4          │ 3            │\n",
       "│ 886 │ 0           │ \"Unknown\" │ 2           │ 3          │ 2            │\n",
       "│ 887 │ 0           │ \"Unknown\" │ 2           │ 3          │ 2            │\n",
       "│ 888 │ 0           │ \"Unknown\" │ 6           │ 8          │ 5            │\n",
       "│ 889 │ 0           │ \"Unknown\" │ 6           │ 8          │ 5            │\n",
       "│ 890 │ 0           │ \"Unknown\" │ 6           │ 8          │ 5            │\n",
       "│ 891 │ 0           │ \"Unknown\" │ 7           │ 11         │ 7            │\n",
       "\n",
       "│ Row │ CptFarePerson │ CptAgeGroup │ CptTicketFreq │ CptAge │\n",
       "├─────┼───────────────┼─────────────┼───────────────┼────────┤\n",
       "│ 1   │ 86.5          │ 4           │ 3             │ 30.0   │\n",
       "│ 2   │ 86.5          │ 2           │ 3             │ 16.0   │\n",
       "│ 3   │ 26.55         │ 3           │ 3             │ 18.0   │\n",
       "│ 4   │ 28.9896       │ 2           │ 2             │ 16.0   │\n",
       "│ 5   │ 30.0          │ 3           │ 1             │ 19.0   │\n",
       "│ 6   │ 27.5          │ 3           │ 2             │ 22.0   │\n",
       "│ 7   │ 80.0          │ 4           │ 2             │ 38.0   │\n",
       "│ 8   │ 30.0          │ 2           │ 4             │ 14.0   │\n",
       "│ 9   │ 37.8875       │ 1           │ 4             │ 2.0    │\n",
       "│ 10  │ 151.55        │ 3           │ 4             │ 22.0   │\n",
       "│ 11  │ 26.55         │ 6           │ 1             │ 58.0   │\n",
       "⋮\n",
       "│ 880 │ 4.85417       │ 1           │ 5             │ 4.0    │\n",
       "│ 881 │ 4.85417       │ 2           │ 5             │ 7.0    │\n",
       "│ 882 │ 4.85417       │ 2           │ 5             │ 8.0    │\n",
       "│ 883 │ 6.2375        │ 2           │ 2             │ 6.0    │\n",
       "│ 884 │ 5.09334       │ NA          │ 4             │ 4.0    │\n",
       "│ 885 │ 5.14375       │ 1           │ 2             │ 1.0    │\n",
       "│ 886 │ 5.3           │ 1           │ 2             │ 3.0    │\n",
       "│ 887 │ 5.3           │ 2           │ 2             │ 9.0    │\n",
       "│ 888 │ 5.8625        │ 2           │ 6             │ 11.0   │\n",
       "│ 889 │ 5.8625        │ 1           │ 6             │ 1.0    │\n",
       "│ 890 │ 5.8625        │ 2           │ 6             │ 9.0    │\n",
       "│ 891 │ 6.32273       │ NA          │ 7             │ 4.0    │"
      ]
     },
     "execution_count": 19,
     "metadata": {},
     "output_type": "execute_result"
    }
   ],
   "source": [
    "# Check Pipeline before NA prediction steps\n",
    "Z = @linq train |> pp_title |> pp_titlecat |> pp_deck |>\n",
    "pp_namefreq |> pp_familysize |> pp_FareGroup |> pp_fareperson |> pp_AgeGroup |>\n",
    "pp_ticketfreq |> pp_MissingAge"
   ]
  },
  {
   "cell_type": "code",
   "execution_count": 20,
   "metadata": {
    "collapsed": false
   },
   "outputs": [],
   "source": [
    "## Optimus Debug\n",
    "type InspectTransformer <: ScikitLearnBase.BaseEstimator\n",
    "end\n",
    "\n",
    "@declare_hyperparameters(InspectTransformer, Symbol[])\n",
    "\n",
    "ScikitLearnBase.fit!(self::InspectTransformer, X::DataFrame, y=nothing) = return self\n",
    "\n",
    "function ScikitLearnBase.transform(self::InspectTransformer, X::DataFrame)\n",
    "    writetable(\"debug.csv\",X)\n",
    "    return X\n",
    "end"
   ]
  },
  {
   "cell_type": "code",
   "execution_count": 21,
   "metadata": {
    "collapsed": false
   },
   "outputs": [],
   "source": [
    "# Create model\n",
    "mapper = DataFrameMapper([\n",
    "    ([:Pclass], Binarizer()),\n",
    "    ([:CptAge], RobustScaler()),\n",
    "    (:CptTitle, LabelBinarizer()),\n",
    "    (:Sex, LabelBinarizer()),\n",
    "    ([:SibSp], RobustScaler()),\n",
    "    ([:Parch], RobustScaler()),\n",
    "    ([:Fare], RobustScaler()),\n",
    "    (:CptEmbarked, LabelBinarizer()),\n",
    "    (:CptDeck, LabelBinarizer()),\n",
    "    ([:CptTitleCat], Binarizer()),\n",
    "    ([:CptNameFreq], StandardScaler()), #lots of extremes\n",
    "    ([:CptFamSize], Binarizer()), #lots of extremes\n",
    "    ([:CptFareGroup], Binarizer()), #lots of extremes\n",
    "    ([:CptAgeGroup], Binarizer()),\n",
    "    ([:CptFarePerson], StandardScaler()),\n",
    "    ([:CptTicketFreq], StandardScaler())\n",
    "    \n",
    "    ]);"
   ]
  },
  {
   "cell_type": "code",
   "execution_count": 22,
   "metadata": {
    "collapsed": false
   },
   "outputs": [
    {
     "data": {
      "text/plain": [
       "ScikitLearn.Skcore.Pipeline(Tuple{Any,Any}[(\"extract_deck\",PP_DeckTransformer()),(\"extract_title\",PP_TitleTransformer()),(\"extract_titlecat\",PP_TitleCatTransformer()),(\"extract_namefreq\",PP_FamNameFreqTransformer()),(\"extract_famsize\",PP_FamSizeTransformer()),(\"extract_faregroup\",PP_FareGroupTransformer()),(\"extract_fareperson\",PP_FarePersonTransformer()),(\"extract_AgeGroup\",PP_AgeGroupTransformer()),(\"fillNA_AgeGroup\",PP_AgeGroupImputer(#undef)),(\"fillNA_Age\",PP_AgeTransformer(#undef)),(\"fillNA_Embarked\",PP_EmbarkedImputer(#undef)),(\"extract_ticketfreq\",PP_TicketFreqTransformer()),(\"DEBUG\",InspectTransformer()),(\"featurize\",ScikitLearn.DataFrameMapper(Tuple[(Symbol[:Pclass],PyObject Binarizer(copy=True, threshold=0.0)),(Symbol[:CptAge],PyObject RobustScaler(copy=True, quantile_range=(25.0, 75.0), with_centering=True,\n",
       "       with_scaling=True)),(:CptTitle,PyObject LabelBinarizer(neg_label=0, pos_label=1, sparse_output=False)),(:Sex,PyObject LabelBinarizer(neg_label=0, pos_label=1, sparse_output=False)),(Symbol[:SibSp],PyObject RobustScaler(copy=True, quantile_range=(25.0, 75.0), with_centering=True,\n",
       "       with_scaling=True)),(Symbol[:Parch],PyObject RobustScaler(copy=True, quantile_range=(25.0, 75.0), with_centering=True,\n",
       "       with_scaling=True)),(Symbol[:Fare],PyObject RobustScaler(copy=True, quantile_range=(25.0, 75.0), with_centering=True,\n",
       "       with_scaling=True)),(:CptEmbarked,PyObject LabelBinarizer(neg_label=0, pos_label=1, sparse_output=False)),(:CptDeck,PyObject LabelBinarizer(neg_label=0, pos_label=1, sparse_output=False)),(Symbol[:CptTitleCat],PyObject Binarizer(copy=True, threshold=0.0)),(Symbol[:CptNameFreq],PyObject StandardScaler(copy=True, with_mean=True, with_std=True)),(Symbol[:CptFamSize],PyObject Binarizer(copy=True, threshold=0.0)),(Symbol[:CptFareGroup],PyObject Binarizer(copy=True, threshold=0.0)),(Symbol[:CptAgeGroup],PyObject Binarizer(copy=True, threshold=0.0)),(Symbol[:CptFarePerson],PyObject StandardScaler(copy=True, with_mean=True, with_std=True)),(Symbol[:CptTicketFreq],PyObject StandardScaler(copy=True, with_mean=True, with_std=True))],false,false,Array{Float64,2})),(\"forest\",DecisionTree.RandomForestClassifier(0,100,0.7,-1,MersenneTwister(UInt32[0x1e6fc57f,0x9ac63db1,0xfb335d48,0x1e912beb],Base.dSFMT.DSFMT_state(Int32[981873202,1072821520,-970443576,1073583046,1054331161,1073382930,-1480953183,1073018554,1865598744,1073132850  …  -258042581,1073177985,-1214060789,1073592352,1076647741,-59035251,-1806334603,1167818672,382,0]),[1.12233,1.84858,1.65773,1.31024,1.41924,1.02362,1.8391,1.18099,1.90456,1.93199  …  1.33285,1.97581,1.45336,1.60735,1.19351,1.77706,1.59295,1.28127,1.46228,1.85745],16),#undef,#undef))],Any[PP_DeckTransformer(),PP_TitleTransformer(),PP_TitleCatTransformer(),PP_FamNameFreqTransformer(),PP_FamSizeTransformer(),PP_FareGroupTransformer(),PP_FarePersonTransformer(),PP_AgeGroupTransformer(),PP_AgeGroupImputer(#undef),PP_AgeTransformer(#undef),PP_EmbarkedImputer(#undef),PP_TicketFreqTransformer(),InspectTransformer(),ScikitLearn.DataFrameMapper(Tuple[(Symbol[:Pclass],PyObject Binarizer(copy=True, threshold=0.0)),(Symbol[:CptAge],PyObject RobustScaler(copy=True, quantile_range=(25.0, 75.0), with_centering=True,\n",
       "       with_scaling=True)),(:CptTitle,PyObject LabelBinarizer(neg_label=0, pos_label=1, sparse_output=False)),(:Sex,PyObject LabelBinarizer(neg_label=0, pos_label=1, sparse_output=False)),(Symbol[:SibSp],PyObject RobustScaler(copy=True, quantile_range=(25.0, 75.0), with_centering=True,\n",
       "       with_scaling=True)),(Symbol[:Parch],PyObject RobustScaler(copy=True, quantile_range=(25.0, 75.0), with_centering=True,\n",
       "       with_scaling=True)),(Symbol[:Fare],PyObject RobustScaler(copy=True, quantile_range=(25.0, 75.0), with_centering=True,\n",
       "       with_scaling=True)),(:CptEmbarked,PyObject LabelBinarizer(neg_label=0, pos_label=1, sparse_output=False)),(:CptDeck,PyObject LabelBinarizer(neg_label=0, pos_label=1, sparse_output=False)),(Symbol[:CptTitleCat],PyObject Binarizer(copy=True, threshold=0.0)),(Symbol[:CptNameFreq],PyObject StandardScaler(copy=True, with_mean=True, with_std=True)),(Symbol[:CptFamSize],PyObject Binarizer(copy=True, threshold=0.0)),(Symbol[:CptFareGroup],PyObject Binarizer(copy=True, threshold=0.0)),(Symbol[:CptAgeGroup],PyObject Binarizer(copy=True, threshold=0.0)),(Symbol[:CptFarePerson],PyObject StandardScaler(copy=True, with_mean=True, with_std=True)),(Symbol[:CptTicketFreq],PyObject StandardScaler(copy=True, with_mean=True, with_std=True))],false,false,Array{Float64,2}),DecisionTree.RandomForestClassifier(0,100,0.7,-1,MersenneTwister(UInt32[0x1e6fc57f,0x9ac63db1,0xfb335d48,0x1e912beb],Base.dSFMT.DSFMT_state(Int32[981873202,1072821520,-970443576,1073583046,1054331161,1073382930,-1480953183,1073018554,1865598744,1073132850  …  -258042581,1073177985,-1214060789,1073592352,1076647741,-59035251,-1806334603,1167818672,382,0]),[1.12233,1.84858,1.65773,1.31024,1.41924,1.02362,1.8391,1.18099,1.90456,1.93199  …  1.33285,1.97581,1.45336,1.60735,1.19351,1.77706,1.59295,1.28127,1.46228,1.85745],16),#undef,#undef)])"
      ]
     },
     "execution_count": 22,
     "metadata": {},
     "output_type": "execute_result"
    }
   ],
   "source": [
    "pipe = Pipelines.Pipeline([\n",
    "    (\"extract_deck\",PP_DeckTransformer()),\n",
    "    (\"extract_title\", PP_TitleTransformer()),\n",
    "    (\"extract_titlecat\",PP_TitleCatTransformer()),\n",
    "    (\"extract_namefreq\",PP_FamNameFreqTransformer()),\n",
    "    (\"extract_famsize\",PP_FamSizeTransformer()),\n",
    "    (\"extract_faregroup\",PP_FareGroupTransformer()),\n",
    "    (\"extract_fareperson\",PP_FarePersonTransformer()),\n",
    "    (\"extract_AgeGroup\",PP_AgeGroupTransformer()),\n",
    "    (\"fillNA_AgeGroup\",PP_AgeGroupImputer()),\n",
    "    (\"fillNA_Age\",PP_AgeTransformer()),\n",
    "    (\"fillNA_Embarked\",PP_EmbarkedImputer()),\n",
    "    (\"extract_ticketfreq\",PP_TicketFreqTransformer()),\n",
    "    (\"DEBUG\",InspectTransformer()),\n",
    "     (\"featurize\", mapper),\n",
    "    (\"forest\", RandomForestClassifier(ntrees=100))\n",
    "    ])"
   ]
  },
  {
   "cell_type": "code",
   "execution_count": 23,
   "metadata": {
    "collapsed": false
   },
   "outputs": [
    {
     "data": {
      "text/plain": [
       "891-element Array{Int64,1}:\n",
       " 0\n",
       " 1\n",
       " 1\n",
       " 1\n",
       " 0\n",
       " 0\n",
       " 0\n",
       " 0\n",
       " 1\n",
       " 1\n",
       " 1\n",
       " 1\n",
       " 0\n",
       " ⋮\n",
       " 1\n",
       " 1\n",
       " 0\n",
       " 0\n",
       " 0\n",
       " 0\n",
       " 0\n",
       " 0\n",
       " 1\n",
       " 0\n",
       " 1\n",
       " 0"
      ]
     },
     "execution_count": 23,
     "metadata": {},
     "output_type": "execute_result"
    }
   ],
   "source": [
    "X_train = train\n",
    "Y_train = convert(Array, train[:Survived])\n"
   ]
  },
  {
   "cell_type": "code",
   "execution_count": 24,
   "metadata": {
    "collapsed": false,
    "scrolled": true
   },
   "outputs": [
    {
     "ename": "LoadError",
     "evalue": "LoadError: MethodError: no method matching transform(::PP_EmbarkedImputer, ::DataFrames.DataFrame)\nClosest candidates are:\n  transform(!Matched::ScikitLearn.DataFrameMapper, ::DataFrames.DataFrame) at /Users/tesuji/.julia/v0.5/ScikitLearn/src/dataframes.jl:143\n  transform(!Matched::ScikitLearn.Skcore.FitBit, ::Any...; kwargs...) at /Users/tesuji/.julia/v0.5/ScikitLearn/src/sk_utils.jl:73\n  transform(!Matched::PyCall.PyObject, ::Any...; kwargs...) at /Users/tesuji/.julia/v0.5/ScikitLearn/src/Skcore.jl:95\n  ...\nwhile loading In[24], in expression starting on line 2",
     "output_type": "error",
     "traceback": [
      "LoadError: MethodError: no method matching transform(::PP_EmbarkedImputer, ::DataFrames.DataFrame)\nClosest candidates are:\n  transform(!Matched::ScikitLearn.DataFrameMapper, ::DataFrames.DataFrame) at /Users/tesuji/.julia/v0.5/ScikitLearn/src/dataframes.jl:143\n  transform(!Matched::ScikitLearn.Skcore.FitBit, ::Any...; kwargs...) at /Users/tesuji/.julia/v0.5/ScikitLearn/src/sk_utils.jl:73\n  transform(!Matched::PyCall.PyObject, ::Any...; kwargs...) at /Users/tesuji/.julia/v0.5/ScikitLearn/src/Skcore.jl:95\n  ...\nwhile loading In[24], in expression starting on line 2",
      "",
      " in #fit_transform!#14(::Array{Any,1}, ::Function, ::PP_EmbarkedImputer, ::DataFrames.DataFrame, ::Array{Int64,1}) at /Users/tesuji/.julia/v0.5/ScikitLearnBase/src/ScikitLearnBase.jl:150",
      " in fit_transform!(::PP_EmbarkedImputer, ::DataFrames.DataFrame, ::Array{Int64,1}) at /Users/tesuji/.julia/v0.5/ScikitLearnBase/src/ScikitLearnBase.jl:150",
      " in fit!(::ScikitLearn.Skcore.Pipeline, ::DataFrames.DataFrame, ::Array{Int64,1}) at /Users/tesuji/.julia/v0.5/ScikitLearn/src/pipeline.jl:67",
      " in #_fit_and_score#92(::Bool, ::Bool, ::String, ::Function, ::ScikitLearn.Skcore.Pipeline, ::DataFrames.DataFrame, ::Array{Int64,1}, ::Function, ::Array{Int64,1}, ::Array{Int64,1}, ::Int64, ::Void, ::Void) at /Users/tesuji/.julia/v0.5/ScikitLearn/src/cross_validation.jl:571",
      " in (::ScikitLearn.Skcore.##80#81{Int64,Void,ScikitLearn.Skcore.Pipeline,DataFrames.DataFrame,Array{Int64,1}})(::Tuple{Array{Int64,1},Array{Int64,1}}) at ./<missing>:0",
      " in copy!(::Array{Float64,1}, ::Base.Generator{Array{Tuple{Array{Int64,1},Array{Int64,1}},1},ScikitLearn.Skcore.##80#81{Int64,Void,ScikitLearn.Skcore.Pipeline,DataFrames.DataFrame,Array{Int64,1}}}) at ./abstractarray.jl:477",
      " in _collect(::Type{Float64}, ::Base.Generator{Array{Tuple{Array{Int64,1},Array{Int64,1}},1},ScikitLearn.Skcore.##80#81{Int64,Void,ScikitLearn.Skcore.Pipeline,DataFrames.DataFrame,Array{Int64,1}}}, ::Base.HasShape) at ./array.jl:251",
      " in #cross_val_score#79(::Void, ::Int64, ::Int64, ::Int64, ::Void, ::Function, ::ScikitLearn.Skcore.Pipeline, ::DataFrames.DataFrame, ::Array{Int64,1}) at /Users/tesuji/.julia/v0.5/ScikitLearn/src/cross_validation.jl:279",
      " in (::ScikitLearn.Skcore.#kw##cross_val_score)(::Array{Any,1}, ::ScikitLearn.Skcore.#cross_val_score, ::ScikitLearn.Skcore.Pipeline, ::DataFrames.DataFrame, ::Array{Int64,1}) at ./<missing>:0"
     ]
    }
   ],
   "source": [
    "#Cross Validation - check model accuracy\n",
    "round(cross_val_score(pipe, X_train, Y_train, cv =10), 2)"
   ]
  },
  {
   "cell_type": "code",
   "execution_count": null,
   "metadata": {
    "collapsed": false
   },
   "outputs": [],
   "source": [
    "model = fit!(pipe, X_train, Y_train)"
   ]
  },
  {
   "cell_type": "code",
   "execution_count": null,
   "metadata": {
    "collapsed": false
   },
   "outputs": [],
   "source": [
    "result=DataFrame()\n",
    "result[:PassengerId] = test[:PassengerId]\n",
    "result[:Survived] = @data predict(model,final_test)"
   ]
  },
  {
   "cell_type": "code",
   "execution_count": null,
   "metadata": {
    "collapsed": false
   },
   "outputs": [],
   "source": [
    "result"
   ]
  },
  {
   "cell_type": "code",
   "execution_count": null,
   "metadata": {
    "collapsed": true
   },
   "outputs": [],
   "source": [
    "writetable(\"julia-magicalforests.csv\",result)"
   ]
  }
 ],
 "metadata": {
  "kernelspec": {
   "display_name": "Julia 0.5.0",
   "language": "julia",
   "name": "julia-0.5"
  },
  "language_info": {
   "file_extension": ".jl",
   "mimetype": "application/julia",
   "name": "julia",
   "version": "0.5.0"
  }
 },
 "nbformat": 4,
 "nbformat_minor": 1
}
