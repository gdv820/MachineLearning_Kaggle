{
 "cells": [
  {
   "cell_type": "code",
   "execution_count": 1,
   "metadata": {
    "collapsed": false
   },
   "outputs": [
    {
     "name": "stderr",
     "output_type": "stream",
     "text": [
      "WARNING: Method definition nrow(DataFramesMeta.AbstractCompositeDataFrame) in module DataFramesMeta at /Users/tesuji/.julia/v0.5/DataFramesMeta/src/compositedataframe.jl:108 overwritten at /Users/tesuji/.julia/v0.5/DataFramesMeta/src/compositedataframe.jl:109.\n",
      "WARNING: Method definition require(Symbol) in module Base at loading.jl:345 overwritten in module Main at /Users/tesuji/.julia/v0.5/Requires/src/require.jl:12.\n"
     ]
    }
   ],
   "source": [
    "using DecisionTree\n",
    "using DataFrames\n",
    "using DataFramesMeta\n",
    "using DataArrays\n",
    "using Gadfly\n",
    "using ScikitLearn: DataFrameMapper, @sk_import, Pipelines, fit!, predict\n",
    "using ScikitLearn.CrossValidation\n",
    "using ScikitLearnBase: @declare_hyperparameters, BaseEstimator\n",
    "import ScikitLearnBase.simple_get_params\n",
    "\n",
    "# @sk_import linear_model: LogisticRegression\n",
    "@sk_import preprocessing: (LabelBinarizer, RobustScaler, Binarizer, StandardScaler)"
   ]
  },
  {
   "cell_type": "code",
   "execution_count": 2,
   "metadata": {
    "collapsed": true
   },
   "outputs": [],
   "source": [
    "# Note for debugging, changing samething inside a function require kernel reloading :/"
   ]
  },
  {
   "cell_type": "code",
   "execution_count": 3,
   "metadata": {
    "collapsed": false
   },
   "outputs": [
    {
     "data": {
      "text/html": [
       "<table class=\"data-frame\"><thead><tr><th></th><th>PassengerId</th><th>Survived</th><th>Pclass</th><th>Name</th><th>Sex</th><th>Age</th><th>SibSp</th><th>Parch</th><th>Ticket</th><th>Fare</th><th>Cabin</th><th>Embarked</th></tr></thead><tbody><tr><th>1</th><td>1</td><td>0</td><td>3</td><td>Braund, Mr. Owen Harris</td><td>male</td><td>22.0</td><td>1</td><td>0</td><td>A/5 21171</td><td>7.25</td><td>NA</td><td>S</td></tr><tr><th>2</th><td>2</td><td>1</td><td>1</td><td>Cumings, Mrs. John Bradley (Florence Briggs Thayer)</td><td>female</td><td>38.0</td><td>1</td><td>0</td><td>PC 17599</td><td>71.2833</td><td>C85</td><td>C</td></tr><tr><th>3</th><td>3</td><td>1</td><td>3</td><td>Heikkinen, Miss. Laina</td><td>female</td><td>26.0</td><td>0</td><td>0</td><td>STON/O2. 3101282</td><td>7.925</td><td>NA</td><td>S</td></tr><tr><th>4</th><td>4</td><td>1</td><td>1</td><td>Futrelle, Mrs. Jacques Heath (Lily May Peel)</td><td>female</td><td>35.0</td><td>1</td><td>0</td><td>113803</td><td>53.1</td><td>C123</td><td>S</td></tr><tr><th>5</th><td>5</td><td>0</td><td>3</td><td>Allen, Mr. William Henry</td><td>male</td><td>35.0</td><td>0</td><td>0</td><td>373450</td><td>8.05</td><td>NA</td><td>S</td></tr><tr><th>6</th><td>6</td><td>0</td><td>3</td><td>Moran, Mr. James</td><td>male</td><td>NA</td><td>0</td><td>0</td><td>330877</td><td>8.4583</td><td>NA</td><td>Q</td></tr></tbody></table>"
      ],
      "text/plain": [
       "6×12 DataFrames.DataFrame\n",
       "│ Row │ PassengerId │ Survived │ Pclass │\n",
       "├─────┼─────────────┼──────────┼────────┤\n",
       "│ 1   │ 1           │ 0        │ 3      │\n",
       "│ 2   │ 2           │ 1        │ 1      │\n",
       "│ 3   │ 3           │ 1        │ 3      │\n",
       "│ 4   │ 4           │ 1        │ 1      │\n",
       "│ 5   │ 5           │ 0        │ 3      │\n",
       "│ 6   │ 6           │ 0        │ 3      │\n",
       "\n",
       "│ Row │ Name                                                  │ Sex      │\n",
       "├─────┼───────────────────────────────────────────────────────┼──────────┤\n",
       "│ 1   │ \"Braund, Mr. Owen Harris\"                             │ \"male\"   │\n",
       "│ 2   │ \"Cumings, Mrs. John Bradley (Florence Briggs Thayer)\" │ \"female\" │\n",
       "│ 3   │ \"Heikkinen, Miss. Laina\"                              │ \"female\" │\n",
       "│ 4   │ \"Futrelle, Mrs. Jacques Heath (Lily May Peel)\"        │ \"female\" │\n",
       "│ 5   │ \"Allen, Mr. William Henry\"                            │ \"male\"   │\n",
       "│ 6   │ \"Moran, Mr. James\"                                    │ \"male\"   │\n",
       "\n",
       "│ Row │ Age  │ SibSp │ Parch │ Ticket             │ Fare    │ Cabin  │\n",
       "├─────┼──────┼───────┼───────┼────────────────────┼─────────┼────────┤\n",
       "│ 1   │ 22.0 │ 1     │ 0     │ \"A/5 21171\"        │ 7.25    │ NA     │\n",
       "│ 2   │ 38.0 │ 1     │ 0     │ \"PC 17599\"         │ 71.2833 │ \"C85\"  │\n",
       "│ 3   │ 26.0 │ 0     │ 0     │ \"STON/O2. 3101282\" │ 7.925   │ NA     │\n",
       "│ 4   │ 35.0 │ 1     │ 0     │ \"113803\"           │ 53.1    │ \"C123\" │\n",
       "│ 5   │ 35.0 │ 0     │ 0     │ \"373450\"           │ 8.05    │ NA     │\n",
       "│ 6   │ NA   │ 0     │ 0     │ \"330877\"           │ 8.4583  │ NA     │\n",
       "\n",
       "│ Row │ Embarked │\n",
       "├─────┼──────────┤\n",
       "│ 1   │ \"S\"      │\n",
       "│ 2   │ \"C\"      │\n",
       "│ 3   │ \"S\"      │\n",
       "│ 4   │ \"S\"      │\n",
       "│ 5   │ \"S\"      │\n",
       "│ 6   │ \"Q\"      │"
      ]
     },
     "execution_count": 3,
     "metadata": {},
     "output_type": "execute_result"
    }
   ],
   "source": [
    "train = readtable(\"train.csv\")\n",
    "test = readtable(\"test.csv\")\n",
    "head(train)"
   ]
  },
  {
   "cell_type": "code",
   "execution_count": 4,
   "metadata": {
    "collapsed": false
   },
   "outputs": [],
   "source": [
    "####### Exploration phase #######\n",
    "\n",
    "# describe(train)"
   ]
  },
  {
   "cell_type": "code",
   "execution_count": 5,
   "metadata": {
    "collapsed": false
   },
   "outputs": [],
   "source": [
    "# Somehow adding the color visualization generate an error about int not defined in Gadfly\n",
    "# Need to edit source code and replace int by Int\n",
    "# plot(train, x=\"Sex\", y=\"Survived\", color=\"Survived\", Geom.histogram(position=:stack), Scale.color_discrete_manual(\"red\",\"green\"))"
   ]
  },
  {
   "cell_type": "code",
   "execution_count": 6,
   "metadata": {
    "collapsed": false
   },
   "outputs": [],
   "source": [
    "# plot(train, x=:Age, y=:Survived, color=:Survived, Geom.histogram(bincount=15,position=:dodge), Scale.color_discrete_manual(\"orange\",\"green\"))"
   ]
  },
  {
   "cell_type": "markdown",
   "metadata": {},
   "source": [
    "# Feature Engineering\n",
    "\n",
    "Use end to end Pipelines. (questions how to use data from train set in the test set if using pipelines ?)\n",
    "\n",
    "- Extract Title from Name\n",
    "- Extract family Name from Name and count occurences (similar to family size but may have people that share a name)\n",
    "- Count occurences of ticket (might detected nannies and friends)\n",
    "- Extract Deck from Cabin\n",
    "- Categorize titles per social rank\n",
    "- Combine Siblings + Spouse + Parents + 1 to have family size\n",
    "- Bin Fare. Have a category 0 for VIP that were invited\n",
    "- Normalize Fare/Family size if someone paid for all\n",
    "\n",
    "####Missing values :\n",
    "- Compute Missing Age (or predict it via a simple Regression)\n",
    "- Bin Age into Age group (and predict that instead)\n",
    "- Drop NA in Embarked (or predict it via a simple Regression)\n",
    "\n",
    "- Predict FareGroup for test data\n",
    "\n",
    "To keep the algorithm as general as possible and not overfit onedge cases I didn't use Names, Ticket ID, Cabin Number as is. What if the data is split between train and test data, what if it doesn't appear at all ?\n"
   ]
  },
  {
   "cell_type": "code",
   "execution_count": 7,
   "metadata": {
    "collapsed": false
   },
   "outputs": [
    {
     "data": {
      "text/plain": [
       "pp_title (generic function with 1 method)"
      ]
     },
     "execution_count": 7,
     "metadata": {},
     "output_type": "execute_result"
    }
   ],
   "source": [
    "## Optimus Title, the transformer that gets title from the name field\n",
    "type PP_TitleTransformer <: ScikitLearnBase.BaseEstimator\n",
    "end\n",
    "\n",
    "@declare_hyperparameters(PP_TitleTransformer, Symbol[]) ##Symbol is a temp mesure while waiting for new release of ScikitLearn\n",
    "\n",
    "ScikitLearnBase.fit!(self::PP_TitleTransformer, X::DataFrame, y=nothing) = return self\n",
    "\n",
    "function ScikitLearnBase.transform(self::PP_TitleTransformer, X::DataFrame)\n",
    "    @linq X |>\n",
    "    transform(CptTitle = map(s->match(r\"(?<=, ).*?\\.\", s).match, :Name))\n",
    "end\n",
    "\n",
    "function pp_title(df::DataFrame) ##For debugging the transformation\n",
    "    @linq df |>\n",
    "    transform(CptTitle = map(s->match(r\"(?<=, ).*?\\.\", s).match, :Name))\n",
    "end"
   ]
  },
  {
   "cell_type": "code",
   "execution_count": 8,
   "metadata": {
    "collapsed": false
   },
   "outputs": [
    {
     "data": {
      "text/plain": [
       "pp_deck (generic function with 1 method)"
      ]
     },
     "execution_count": 8,
     "metadata": {},
     "output_type": "execute_result"
    }
   ],
   "source": [
    "## Optimus Deck, the transformer that gets deck from the Cabin field\n",
    "type PP_DeckTransformer <: ScikitLearnBase.BaseEstimator\n",
    "end\n",
    "\n",
    "@declare_hyperparameters(PP_DeckTransformer, Symbol[])\n",
    "\n",
    "ScikitLearnBase.fit!(self::PP_DeckTransformer, X::DataFrame, y=nothing) = return self\n",
    "\n",
    "function ScikitLearnBase.transform(self::PP_DeckTransformer, X::DataFrame)\n",
    "    @linq X |>\n",
    "        transform(CptCabin = map(s->ifelse(isna(s),\"Unknown\",s), :Cabin)) |>\n",
    "        ## Need two step otherwise Julia complains about no index method for NAtypes, pesky Julia\n",
    "        transform(CptCabin = map(s->ifelse(s==\"Unknown\",s,s[1:1]), :CptCabin))\n",
    "end\n",
    "\n",
    "function pp_deck(df::DataFrame) ##For debugging the transformation\n",
    "    @linq df |>\n",
    "        transform(CptCabin = map(s->ifelse(isna(s),\"Unknown\",s), :Cabin)) |>\n",
    "        ## Need two step otherwise Julia complains about no index method for NAtypes, pesky Julia\n",
    "        transform(CptCabin = map(s->ifelse(s==\"Unknown\",s,s[1:1]), :CptCabin))\n",
    "end"
   ]
  },
  {
   "cell_type": "code",
   "execution_count": 9,
   "metadata": {
    "collapsed": false
   },
   "outputs": [
    {
     "data": {
      "text/plain": [
       "pp_titlecat (generic function with 1 method)"
      ]
     },
     "execution_count": 9,
     "metadata": {},
     "output_type": "execute_result"
    }
   ],
   "source": [
    "#Dictionary for socio-prof categories\n",
    "#Dictionary for consistent referencing (transform input to lower case for insensitive use)\n",
    "#Master. --> children 0\n",
    "#Miss. Mlle --> unmarried 1\n",
    "#Mr. Mrs. Ms. --> normal 2\n",
    "#Honorifics --> rich people\n",
    "dicoRef = Dict(\n",
    "            \"Mr.\" => 2,\n",
    "            \"Mrs.\"=> 2,\n",
    "            \"Miss.\" => 1,\n",
    "            \"Master.\" => 0,\n",
    "            \"Don.\"=> 3,\n",
    "            \"Rev.\"=>3,\n",
    "            \"Dr.\"=>3,\n",
    "            \"Mme.\"=>2,\n",
    "            \"Ms.\"=>2,\n",
    "            \"Major.\"=>3,\n",
    "            \"Lady.\"=>3,\n",
    "            \"Sir.\"=>3,\n",
    "            \"Mlle.\"=>1,\n",
    "            \"Col.\"=>3,\n",
    "            \"Capt.\"=>3,\n",
    "            \"the Countess.\"=>3,\n",
    "            \"Jonkheer.\"=>3,\n",
    "            \"Dona.\"=>3\n",
    "    )\n",
    "\n",
    "## Optimus Title Social Category, the transformer that gets the social standing\n",
    "## from the CptTitle field\n",
    "type PP_TitleCatTransformer <: ScikitLearnBase.BaseEstimator\n",
    "end\n",
    "\n",
    "@declare_hyperparameters(PP_TitleCatTransformer, Symbol[])\n",
    "\n",
    "ScikitLearnBase.fit!(self::PP_TitleCatTransformer, X::DataFrame, y=nothing) = return self\n",
    "\n",
    "function ScikitLearnBase.transform(self::PP_TitleCatTransformer, X::DataFrame)\n",
    "    @linq X |>\n",
    "    transform(CptTitleCat = map(s->dicoRef[s], :CptTitle))\n",
    "end\n",
    "\n",
    "function pp_titlecat(df::AbstractDataFrame) ## For debugging the transformation\n",
    "    @linq df |> transform(CptTitleCat = map(s->dicoRef[s], :CptTitle))\n",
    "end"
   ]
  },
  {
   "cell_type": "code",
   "execution_count": 10,
   "metadata": {
    "collapsed": false
   },
   "outputs": [
    {
     "data": {
      "text/plain": [
       "pp_namefreq (generic function with 1 method)"
      ]
     },
     "execution_count": 10,
     "metadata": {},
     "output_type": "execute_result"
    }
   ],
   "source": [
    "## Optimus Family Name frequency, the transformer that gets the family name frequency\n",
    "## potential issue, if family are split between training and test data?\n",
    "## \n",
    "## There might be cousins/uncles relationship that are not captured in sibsp or Parch\n",
    "type PP_FamNameFreqTransformer <: ScikitLearnBase.BaseEstimator\n",
    "end\n",
    "\n",
    "@declare_hyperparameters(PP_FamNameFreqTransformer, Symbol[])\n",
    "\n",
    "ScikitLearnBase.fit!(self::PP_FamNameFreqTransformer, X::DataFrame, y=nothing) = return self\n",
    "\n",
    "function ScikitLearnBase.transform(self::PP_FamNameFreqTransformer, X::DataFrame)\n",
    "    @linq X |>\n",
    "        transform(CptNameFreq = map(s->match(r\"^.*?,\", s).match, :Name))|>\n",
    "        groupby(:CptNameFreq)|>\n",
    "        transform(CptNameFreq = length(:CptNameFreq))\n",
    "end\n",
    "\n",
    "function pp_namefreq(df::AbstractDataFrame) ## For debugging the transformation\n",
    "    @linq df |>\n",
    "        transform(CptNameFreq = map(s->match(r\"^.*?,\", s).match, :Name))|>\n",
    "        groupby(:CptNameFreq)|>\n",
    "        transform(CptNameFreq = length(:CptNameFreq)) ## TODO : is length really a count equivalent ?\n",
    "end"
   ]
  },
  {
   "cell_type": "code",
   "execution_count": 11,
   "metadata": {
    "collapsed": false
   },
   "outputs": [
    {
     "data": {
      "text/plain": [
       "pp_familysize (generic function with 1 method)"
      ]
     },
     "execution_count": 11,
     "metadata": {},
     "output_type": "execute_result"
    }
   ],
   "source": [
    "## Optimus Family Size\n",
    "type PP_FamSizeTransformer <: ScikitLearnBase.BaseEstimator\n",
    "end\n",
    "\n",
    "@declare_hyperparameters(PP_FamSizeTransformer, Symbol[])\n",
    "\n",
    "ScikitLearnBase.fit!(self::PP_FamSizeTransformer, X::DataFrame, y=nothing) = return self\n",
    "\n",
    "function ScikitLearnBase.transform(self::PP_FamSizeTransformer, X::DataFrame)\n",
    "    @linq X |>\n",
    "    transform(CptFamSize = :SibSp + :Parch + 1 )\n",
    "end\n",
    "\n",
    "function pp_familysize(df::AbstractDataFrame) ## For debugging the transformation\n",
    "    @linq df |>\n",
    "    transform(CptFamSize = :SibSp + :Parch + 1 )\n",
    "end"
   ]
  },
  {
   "cell_type": "code",
   "execution_count": 12,
   "metadata": {
    "collapsed": false
   },
   "outputs": [
    {
     "data": {
      "text/plain": [
       "pp_FareGroup (generic function with 1 method)"
      ]
     },
     "execution_count": 12,
     "metadata": {},
     "output_type": "execute_result"
    }
   ],
   "source": [
    "## Optimus Fare bucket transformer, the transformer that bins Fares\n",
    "## This transformer would not have seen the light without the magical searchsortedfirst.\n",
    "## (DataFrames.jl needs a cut function)\n",
    "type PP_FareGroupTransformer <: ScikitLearnBase.BaseEstimator\n",
    "end\n",
    "\n",
    "@declare_hyperparameters(PP_FareGroupTransformer, Symbol[])\n",
    "\n",
    "ScikitLearnBase.fit!(self::PP_FareGroupTransformer, X::DataFrame, y=nothing) = return self\n",
    "\n",
    "function ScikitLearnBase.transform(self::PP_FareGroupTransformer, X::DataFrame)\n",
    "    @linq X |>\n",
    "    transform(FareGroup = map(s->\n",
    "    if isna(s) return s\n",
    "    else ifelse(s==0,0,\n",
    "        searchsortedfirst(10.0:10.0:100.0,s)\n",
    "        ) end,:Age)\n",
    "    )\n",
    "end\n",
    "\n",
    "\n",
    "# Magical searchsortedfirst for binning bucketing. (DataFrames.jl needs a cut function)\n",
    "# However if s==0 is poisoned by NAtype\n",
    "function pp_FareGroup(df::AbstractDataFrame) ## For debugging the transformation\n",
    "    @linq df |> transform(FareGroup = map(s->\n",
    "    if isna(s) return s\n",
    "    else ifelse(s==0,0,\n",
    "        searchsortedfirst(10.0:10.0:100.0,s)\n",
    "        ) end,:Age)\n",
    "    )\n",
    "end"
   ]
  },
  {
   "cell_type": "code",
   "execution_count": 13,
   "metadata": {
    "collapsed": false
   },
   "outputs": [
    {
     "ename": "LoadError",
     "evalue": "LoadError: UndefVarError: pp_ticketfreq not defined\nwhile loading In[13], in expression starting on line 2",
     "output_type": "error",
     "traceback": [
      "LoadError: UndefVarError: pp_ticketfreq not defined\nwhile loading In[13], in expression starting on line 2",
      ""
     ]
    }
   ],
   "source": [
    "# Check Pipeline before NA prediction steps\n",
    "@linq train |> pp_title |> pp_titlecat |> pp_deck |>\n",
    "pp_namefreq |> pp_familysize |>  pp_ticketfreq |> pp_FareGroup |> pp_fareperson"
   ]
  },
  {
   "cell_type": "code",
   "execution_count": 14,
   "metadata": {
    "collapsed": false
   },
   "outputs": [
    {
     "data": {
      "text/plain": [
       "pp_dropNAembarked (generic function with 1 method)"
      ]
     },
     "execution_count": 14,
     "metadata": {},
     "output_type": "execute_result"
    }
   ],
   "source": [
    "# drop NA in Embarked column\n",
    "# Alternative predict the mot likely value\n",
    "function pp_dropNAembarked(df::AbstractDataFrame)\n",
    "    df[~isna(df[:,:Embarked]),:]\n",
    "end"
   ]
  },
  {
   "cell_type": "code",
   "execution_count": 15,
   "metadata": {
    "collapsed": false
   },
   "outputs": [
    {
     "data": {
      "text/plain": [
       "pp_AgeGroup (generic function with 1 method)"
      ]
     },
     "execution_count": 15,
     "metadata": {},
     "output_type": "execute_result"
    }
   ],
   "source": [
    "## Optimus Age bucket transformer, the transformer that bins Age\n",
    "## This transformer would not have seen the light without the magical searchsortedfirst.\n",
    "## (DataFrames.jl needs a cut function)\n",
    "type PP_AgeGroupTransformer <: ScikitLearnBase.BaseEstimator\n",
    "end\n",
    "\n",
    "@declare_hyperparameters(PP_AgeGroupTransformer, Symbol[])\n",
    "\n",
    "ScikitLearnBase.fit!(self::PP_AgeGroupTransformer, X::DataFrame, y=nothing) = return self\n",
    "\n",
    "function ScikitLearnBase.transform(self::PP_AgeGroupTransformer, X::DataFrame)\n",
    "    @linq X |> transform(CptAgeGroup = map(s->\n",
    "    ifelse(~isna(s),searchsortedfirst(4.0:12.0:64.0,s),s),:Age))\n",
    "end\n",
    "\n",
    "\n",
    "# Magical searchsortedfirst for binning bucketing. (DataFrames.jl needs a cut function)\n",
    "function pp_AgeGroup(df::AbstractDataFrame) ## For debugging the transformation\n",
    "    @linq df |> transform(CptAgeGroup = map(s->\n",
    "    ifelse(~isna(s),searchsortedfirst(4.0:12.0:64.0,s),s),:Age))\n",
    "end\n",
    "\n"
   ]
  },
  {
   "cell_type": "code",
   "execution_count": 16,
   "metadata": {
    "collapsed": false
   },
   "outputs": [
    {
     "data": {
      "text/plain": [
       "pp_fareperson (generic function with 1 method)"
      ]
     },
     "execution_count": 16,
     "metadata": {},
     "output_type": "execute_result"
    }
   ],
   "source": [
    "## Optimus Fare per person\n",
    "type PP_FarePersonTransformer <: ScikitLearnBase.BaseEstimator\n",
    "end\n",
    "\n",
    "@declare_hyperparameters(PP_FarePersonTransformer, Symbol[])\n",
    "\n",
    "ScikitLearnBase.fit!(self::PP_FarePersonTransformer, X::DataFrame, y=nothing) = return self\n",
    "\n",
    "function ScikitLearnBase.transform(self::PP_FarePersonTransformer, X::DataFrame)\n",
    "    @linq X |>\n",
    "    transform(CptFareperson = :Fare ./ :CptFamSize )\n",
    "end\n",
    "\n",
    "function pp_fareperson(df::AbstractDataFrame) ## For debugging the transformation\n",
    "    @linq df |>\n",
    "    transform(CptFareperson = :Fare ./ :CptFamSize )\n",
    "end"
   ]
  },
  {
   "cell_type": "code",
   "execution_count": 17,
   "metadata": {
    "collapsed": false
   },
   "outputs": [],
   "source": [
    "# Create model\n",
    "mapper = DataFrameMapper([\n",
    "    ([:Pclass], Binarizer()),\n",
    "    (:CptTitle, LabelBinarizer()),\n",
    "    (:Sex, LabelBinarizer()),\n",
    "#    ([:CptAge], StandardScaler()),\n",
    "    ([:SibSp], RobustScaler()),\n",
    "    ([:Parch], RobustScaler()),\n",
    "#    ([:Fare], RobustScaler()),\n",
    "#    (:Embarked, LabelBinarizer()),\n",
    "    (:CptCabin, LabelBinarizer())\n",
    "    ]);"
   ]
  },
  {
   "cell_type": "code",
   "execution_count": 18,
   "metadata": {
    "collapsed": false
   },
   "outputs": [
    {
     "ename": "LoadError",
     "evalue": "LoadError: syntax: missing separator in array expression\nwhile loading In[18], in expression starting on line 22",
     "output_type": "error",
     "traceback": [
      "LoadError: syntax: missing separator in array expression\nwhile loading In[18], in expression starting on line 22",
      ""
     ]
    }
   ],
   "source": [
    "## Optimus Age group imputer transformer (to be replaced by a Regressor?)\n",
    "type PP_AgeGroupImputer <: ScikitLearnBase.BaseEstimator\n",
    "    df_AgeGroup::DataFrame\n",
    "    PP_AgeGroupImputer() = new()\n",
    "end\n",
    "\n",
    "@declare_hyperparameters(PP_AgeGroupImputer, Symbol[])\n",
    "\n",
    "function ScikitLearnBase.fit!(self::PP_AgeGroupImputer, X::DataFrame, y=nothing)\n",
    "    self.df_AgeGroup = by(X, [:Pclass,:Sex,:CptTitleCat], df -> mode(dropna(df[:CptAgeGroup])))\n",
    "    print(self.df_AgeGroup)\n",
    "    return self\n",
    "end\n",
    "\n",
    "function ScikitLearnBase.transform(self::PP_AgeGroupImputer, X::DataFrame)\n",
    "#    @byrow! X begin\n",
    "#        :CptAgeGroup = \n",
    "#        if isna(:CptAgeGroup)\n",
    "#            reshape(df_AgeGroup[(df_Agegroup[:Pclass].==:Pclass)&\n",
    "#            (df_AgeGroup[:Sex].==:Sex)&\n",
    "            (df_AgeGroup[:CptTitle].==:CptTitleCat)\n",
    "                ,df_AgeGroup[:x1], 1)[1] #Magical :x1 is the name of the column created by \"by\"\n",
    "        end\n",
    "    end\n",
    "    return X\n",
    "end\n",
    "\n",
    "\n",
    "\n",
    "\n",
    "## For testing only. cannot automatically test data in a pipeline\n",
    "## because groupby will be different between train and test\n",
    "function pp_MissingAge(df::AbstractDataFrame)\n",
    "    @linq df |>\n",
    "    groupby([:Pclass,:Sex,:CptTitle]) |>\n",
    "          transform(CptAge = ifelse(isna(:Age),median(dropna(:Age)),:Age))\n",
    "end"
   ]
  },
  {
   "cell_type": "code",
   "execution_count": 19,
   "metadata": {
    "collapsed": false,
    "scrolled": true
   },
   "outputs": [
    {
     "data": {
      "text/plain": [
       "ScikitLearn.Skcore.Pipeline(Tuple{Any,Any}[(\"extract_deck\",PP_DeckTransformer()),(\"extract_title\",PP_TitleTransformer()),(\"extract_titlecat\",PP_TitleCatTransformer()),(\"extract_namefreq\",PP_FamNameFreqTransformer()),(\"extract_famsize\",PP_FamSizeTransformer()),(\"extract_faregroup\",PP_FareGroupTransformer()),(\"extract_fareperson\",PP_FarePersonTransformer()),(\"extract_AgeGroup\",PP_AgeGroupTransformer()),(\"fillNA_AgeGroup\",PP_AgeGroupImputer(#undef)),(\"featurize\",ScikitLearn.DataFrameMapper(Tuple[(Symbol[:Pclass],PyObject Binarizer(copy=True, threshold=0.0)),(:CptTitle,PyObject LabelBinarizer(neg_label=0, pos_label=1, sparse_output=False)),(:Sex,PyObject LabelBinarizer(neg_label=0, pos_label=1, sparse_output=False)),(Symbol[:SibSp],PyObject RobustScaler(copy=True, quantile_range=(25.0, 75.0), with_centering=True,\n",
       "       with_scaling=True)),(Symbol[:Parch],PyObject RobustScaler(copy=True, quantile_range=(25.0, 75.0), with_centering=True,\n",
       "       with_scaling=True)),(:CptCabin,PyObject LabelBinarizer(neg_label=0, pos_label=1, sparse_output=False))],false,false,Array{Float64,2})),(\"forest\",DecisionTree.RandomForestClassifier(0,200,0.7,-1,MersenneTwister(UInt32[0xe6424b32,0xda908122,0x2c1bcc41,0x5e41455b],Base.dSFMT.DSFMT_state(Int32[1586396378,1073213004,302891363,1072705513,250355547,1073075036,-98648365,1073485030,-1862293149,1072766107  …  -565358145,1073188714,94186837,1073095454,1518848117,-1218466099,1221980379,-1504227869,382,0]),[1.49568,1.0117,1.3641,1.7551,1.06948,1.21885,1.38523,1.54382,1.84281,1.06058  …  1.53903,1.07459,1.49877,1.40874,1.061,1.27917,1.33309,1.92331,1.47251,1.38357],16),#undef,#undef))],Any[PP_DeckTransformer(),PP_TitleTransformer(),PP_TitleCatTransformer(),PP_FamNameFreqTransformer(),PP_FamSizeTransformer(),PP_FareGroupTransformer(),PP_FarePersonTransformer(),PP_AgeGroupTransformer(),PP_AgeGroupImputer(#undef),ScikitLearn.DataFrameMapper(Tuple[(Symbol[:Pclass],PyObject Binarizer(copy=True, threshold=0.0)),(:CptTitle,PyObject LabelBinarizer(neg_label=0, pos_label=1, sparse_output=False)),(:Sex,PyObject LabelBinarizer(neg_label=0, pos_label=1, sparse_output=False)),(Symbol[:SibSp],PyObject RobustScaler(copy=True, quantile_range=(25.0, 75.0), with_centering=True,\n",
       "       with_scaling=True)),(Symbol[:Parch],PyObject RobustScaler(copy=True, quantile_range=(25.0, 75.0), with_centering=True,\n",
       "       with_scaling=True)),(:CptCabin,PyObject LabelBinarizer(neg_label=0, pos_label=1, sparse_output=False))],false,false,Array{Float64,2}),DecisionTree.RandomForestClassifier(0,200,0.7,-1,MersenneTwister(UInt32[0xe6424b32,0xda908122,0x2c1bcc41,0x5e41455b],Base.dSFMT.DSFMT_state(Int32[1586396378,1073213004,302891363,1072705513,250355547,1073075036,-98648365,1073485030,-1862293149,1072766107  …  -565358145,1073188714,94186837,1073095454,1518848117,-1218466099,1221980379,-1504227869,382,0]),[1.49568,1.0117,1.3641,1.7551,1.06948,1.21885,1.38523,1.54382,1.84281,1.06058  …  1.53903,1.07459,1.49877,1.40874,1.061,1.27917,1.33309,1.92331,1.47251,1.38357],16),#undef,#undef)])"
      ]
     },
     "execution_count": 19,
     "metadata": {},
     "output_type": "execute_result"
    }
   ],
   "source": [
    "pipe = Pipelines.Pipeline([\n",
    "    (\"extract_deck\",PP_DeckTransformer()),\n",
    "    (\"extract_title\", PP_TitleTransformer()),\n",
    "    (\"extract_titlecat\",PP_TitleCatTransformer()),\n",
    "    (\"extract_namefreq\",PP_FamNameFreqTransformer()),\n",
    "    (\"extract_famsize\",PP_FamSizeTransformer()),\n",
    "    (\"extract_faregroup\",PP_FareGroupTransformer()),\n",
    "    (\"extract_fareperson\",PP_FarePersonTransformer()),\n",
    "    (\"extract_AgeGroup\",PP_AgeGroupTransformer()),\n",
    "    (\"fillNA_AgeGroup\",PP_AgeGroupImputer()),\n",
    "     (\"featurize\", mapper),\n",
    "    (\"forest\", RandomForestClassifier(ntrees=200))\n",
    "    ])"
   ]
  },
  {
   "cell_type": "code",
   "execution_count": 20,
   "metadata": {
    "collapsed": false
   },
   "outputs": [
    {
     "data": {
      "text/html": [
       "<table class=\"data-frame\"><thead><tr><th></th><th>PassengerId</th><th>Survived</th><th>Pclass</th><th>Name</th><th>Sex</th><th>Age</th><th>SibSp</th><th>Parch</th><th>Ticket</th><th>Fare</th><th>Cabin</th><th>Embarked</th></tr></thead><tbody><tr><th>1</th><td>1</td><td>0</td><td>3</td><td>Braund, Mr. Owen Harris</td><td>male</td><td>22.0</td><td>1</td><td>0</td><td>A/5 21171</td><td>7.25</td><td>NA</td><td>S</td></tr><tr><th>2</th><td>2</td><td>1</td><td>1</td><td>Cumings, Mrs. John Bradley (Florence Briggs Thayer)</td><td>female</td><td>38.0</td><td>1</td><td>0</td><td>PC 17599</td><td>71.2833</td><td>C85</td><td>C</td></tr><tr><th>3</th><td>3</td><td>1</td><td>3</td><td>Heikkinen, Miss. Laina</td><td>female</td><td>26.0</td><td>0</td><td>0</td><td>STON/O2. 3101282</td><td>7.925</td><td>NA</td><td>S</td></tr><tr><th>4</th><td>4</td><td>1</td><td>1</td><td>Futrelle, Mrs. Jacques Heath (Lily May Peel)</td><td>female</td><td>35.0</td><td>1</td><td>0</td><td>113803</td><td>53.1</td><td>C123</td><td>S</td></tr><tr><th>5</th><td>5</td><td>0</td><td>3</td><td>Allen, Mr. William Henry</td><td>male</td><td>35.0</td><td>0</td><td>0</td><td>373450</td><td>8.05</td><td>NA</td><td>S</td></tr><tr><th>6</th><td>6</td><td>0</td><td>3</td><td>Moran, Mr. James</td><td>male</td><td>NA</td><td>0</td><td>0</td><td>330877</td><td>8.4583</td><td>NA</td><td>Q</td></tr><tr><th>7</th><td>7</td><td>0</td><td>1</td><td>McCarthy, Mr. Timothy J</td><td>male</td><td>54.0</td><td>0</td><td>0</td><td>17463</td><td>51.8625</td><td>E46</td><td>S</td></tr><tr><th>8</th><td>8</td><td>0</td><td>3</td><td>Palsson, Master. Gosta Leonard</td><td>male</td><td>2.0</td><td>3</td><td>1</td><td>349909</td><td>21.075</td><td>NA</td><td>S</td></tr><tr><th>9</th><td>9</td><td>1</td><td>3</td><td>Johnson, Mrs. Oscar W (Elisabeth Vilhelmina Berg)</td><td>female</td><td>27.0</td><td>0</td><td>2</td><td>347742</td><td>11.1333</td><td>NA</td><td>S</td></tr><tr><th>10</th><td>10</td><td>1</td><td>2</td><td>Nasser, Mrs. Nicholas (Adele Achem)</td><td>female</td><td>14.0</td><td>1</td><td>0</td><td>237736</td><td>30.0708</td><td>NA</td><td>C</td></tr><tr><th>11</th><td>11</td><td>1</td><td>3</td><td>Sandstrom, Miss. Marguerite Rut</td><td>female</td><td>4.0</td><td>1</td><td>1</td><td>PP 9549</td><td>16.7</td><td>G6</td><td>S</td></tr><tr><th>12</th><td>12</td><td>1</td><td>1</td><td>Bonnell, Miss. Elizabeth</td><td>female</td><td>58.0</td><td>0</td><td>0</td><td>113783</td><td>26.55</td><td>C103</td><td>S</td></tr><tr><th>13</th><td>13</td><td>0</td><td>3</td><td>Saundercock, Mr. William Henry</td><td>male</td><td>20.0</td><td>0</td><td>0</td><td>A/5. 2151</td><td>8.05</td><td>NA</td><td>S</td></tr><tr><th>14</th><td>14</td><td>0</td><td>3</td><td>Andersson, Mr. Anders Johan</td><td>male</td><td>39.0</td><td>1</td><td>5</td><td>347082</td><td>31.275</td><td>NA</td><td>S</td></tr><tr><th>15</th><td>15</td><td>0</td><td>3</td><td>Vestrom, Miss. Hulda Amanda Adolfina</td><td>female</td><td>14.0</td><td>0</td><td>0</td><td>350406</td><td>7.8542</td><td>NA</td><td>S</td></tr><tr><th>16</th><td>16</td><td>1</td><td>2</td><td>Hewlett, Mrs. (Mary D Kingcome) </td><td>female</td><td>55.0</td><td>0</td><td>0</td><td>248706</td><td>16.0</td><td>NA</td><td>S</td></tr><tr><th>17</th><td>17</td><td>0</td><td>3</td><td>Rice, Master. Eugene</td><td>male</td><td>2.0</td><td>4</td><td>1</td><td>382652</td><td>29.125</td><td>NA</td><td>Q</td></tr><tr><th>18</th><td>18</td><td>1</td><td>2</td><td>Williams, Mr. Charles Eugene</td><td>male</td><td>NA</td><td>0</td><td>0</td><td>244373</td><td>13.0</td><td>NA</td><td>S</td></tr><tr><th>19</th><td>19</td><td>0</td><td>3</td><td>Vander Planke, Mrs. Julius (Emelia Maria Vandemoortele)</td><td>female</td><td>31.0</td><td>1</td><td>0</td><td>345763</td><td>18.0</td><td>NA</td><td>S</td></tr><tr><th>20</th><td>20</td><td>1</td><td>3</td><td>Masselmani, Mrs. Fatima</td><td>female</td><td>NA</td><td>0</td><td>0</td><td>2649</td><td>7.225</td><td>NA</td><td>C</td></tr><tr><th>21</th><td>21</td><td>0</td><td>2</td><td>Fynney, Mr. Joseph J</td><td>male</td><td>35.0</td><td>0</td><td>0</td><td>239865</td><td>26.0</td><td>NA</td><td>S</td></tr><tr><th>22</th><td>22</td><td>1</td><td>2</td><td>Beesley, Mr. Lawrence</td><td>male</td><td>34.0</td><td>0</td><td>0</td><td>248698</td><td>13.0</td><td>D56</td><td>S</td></tr><tr><th>23</th><td>23</td><td>1</td><td>3</td><td>McGowan, Miss. Anna \"Annie\"</td><td>female</td><td>15.0</td><td>0</td><td>0</td><td>330923</td><td>8.0292</td><td>NA</td><td>Q</td></tr><tr><th>24</th><td>24</td><td>1</td><td>1</td><td>Sloper, Mr. William Thompson</td><td>male</td><td>28.0</td><td>0</td><td>0</td><td>113788</td><td>35.5</td><td>A6</td><td>S</td></tr><tr><th>25</th><td>25</td><td>0</td><td>3</td><td>Palsson, Miss. Torborg Danira</td><td>female</td><td>8.0</td><td>3</td><td>1</td><td>349909</td><td>21.075</td><td>NA</td><td>S</td></tr><tr><th>26</th><td>26</td><td>1</td><td>3</td><td>Asplund, Mrs. Carl Oscar (Selma Augusta Emilia Johansson)</td><td>female</td><td>38.0</td><td>1</td><td>5</td><td>347077</td><td>31.3875</td><td>NA</td><td>S</td></tr><tr><th>27</th><td>27</td><td>0</td><td>3</td><td>Emir, Mr. Farred Chehab</td><td>male</td><td>NA</td><td>0</td><td>0</td><td>2631</td><td>7.225</td><td>NA</td><td>C</td></tr><tr><th>28</th><td>28</td><td>0</td><td>1</td><td>Fortune, Mr. Charles Alexander</td><td>male</td><td>19.0</td><td>3</td><td>2</td><td>19950</td><td>263.0</td><td>C23 C25 C27</td><td>S</td></tr><tr><th>29</th><td>29</td><td>1</td><td>3</td><td>O'Dwyer, Miss. Ellen \"Nellie\"</td><td>female</td><td>NA</td><td>0</td><td>0</td><td>330959</td><td>7.8792</td><td>NA</td><td>Q</td></tr><tr><th>30</th><td>30</td><td>0</td><td>3</td><td>Todoroff, Mr. Lalio</td><td>male</td><td>NA</td><td>0</td><td>0</td><td>349216</td><td>7.8958</td><td>NA</td><td>S</td></tr><tr><th>&vellip;</th><td>&vellip;</td><td>&vellip;</td><td>&vellip;</td><td>&vellip;</td><td>&vellip;</td><td>&vellip;</td><td>&vellip;</td><td>&vellip;</td><td>&vellip;</td><td>&vellip;</td><td>&vellip;</td><td>&vellip;</td></tr></tbody></table>"
      ],
      "text/plain": [
       "891×12 DataFrames.DataFrame\n",
       "│ Row │ PassengerId │ Survived │ Pclass │\n",
       "├─────┼─────────────┼──────────┼────────┤\n",
       "│ 1   │ 1           │ 0        │ 3      │\n",
       "│ 2   │ 2           │ 1        │ 1      │\n",
       "│ 3   │ 3           │ 1        │ 3      │\n",
       "│ 4   │ 4           │ 1        │ 1      │\n",
       "│ 5   │ 5           │ 0        │ 3      │\n",
       "│ 6   │ 6           │ 0        │ 3      │\n",
       "│ 7   │ 7           │ 0        │ 1      │\n",
       "│ 8   │ 8           │ 0        │ 3      │\n",
       "│ 9   │ 9           │ 1        │ 3      │\n",
       "│ 10  │ 10          │ 1        │ 2      │\n",
       "│ 11  │ 11          │ 1        │ 3      │\n",
       "⋮\n",
       "│ 880 │ 880         │ 1        │ 1      │\n",
       "│ 881 │ 881         │ 1        │ 2      │\n",
       "│ 882 │ 882         │ 0        │ 3      │\n",
       "│ 883 │ 883         │ 0        │ 3      │\n",
       "│ 884 │ 884         │ 0        │ 2      │\n",
       "│ 885 │ 885         │ 0        │ 3      │\n",
       "│ 886 │ 886         │ 0        │ 3      │\n",
       "│ 887 │ 887         │ 0        │ 2      │\n",
       "│ 888 │ 888         │ 1        │ 1      │\n",
       "│ 889 │ 889         │ 0        │ 3      │\n",
       "│ 890 │ 890         │ 1        │ 1      │\n",
       "│ 891 │ 891         │ 0        │ 3      │\n",
       "\n",
       "│ Row │ Name                                                  │ Sex      │\n",
       "├─────┼───────────────────────────────────────────────────────┼──────────┤\n",
       "│ 1   │ \"Braund, Mr. Owen Harris\"                             │ \"male\"   │\n",
       "│ 2   │ \"Cumings, Mrs. John Bradley (Florence Briggs Thayer)\" │ \"female\" │\n",
       "│ 3   │ \"Heikkinen, Miss. Laina\"                              │ \"female\" │\n",
       "│ 4   │ \"Futrelle, Mrs. Jacques Heath (Lily May Peel)\"        │ \"female\" │\n",
       "│ 5   │ \"Allen, Mr. William Henry\"                            │ \"male\"   │\n",
       "│ 6   │ \"Moran, Mr. James\"                                    │ \"male\"   │\n",
       "│ 7   │ \"McCarthy, Mr. Timothy J\"                             │ \"male\"   │\n",
       "│ 8   │ \"Palsson, Master. Gosta Leonard\"                      │ \"male\"   │\n",
       "│ 9   │ \"Johnson, Mrs. Oscar W (Elisabeth Vilhelmina Berg)\"   │ \"female\" │\n",
       "│ 10  │ \"Nasser, Mrs. Nicholas (Adele Achem)\"                 │ \"female\" │\n",
       "│ 11  │ \"Sandstrom, Miss. Marguerite Rut\"                     │ \"female\" │\n",
       "⋮\n",
       "│ 880 │ \"Potter, Mrs. Thomas Jr (Lily Alexenia Wilson)\"       │ \"female\" │\n",
       "│ 881 │ \"Shelley, Mrs. William (Imanita Parrish Hall)\"        │ \"female\" │\n",
       "│ 882 │ \"Markun, Mr. Johann\"                                  │ \"male\"   │\n",
       "│ 883 │ \"Dahlberg, Miss. Gerda Ulrika\"                        │ \"female\" │\n",
       "│ 884 │ \"Banfield, Mr. Frederick James\"                       │ \"male\"   │\n",
       "│ 885 │ \"Sutehall, Mr. Henry Jr\"                              │ \"male\"   │\n",
       "│ 886 │ \"Rice, Mrs. William (Margaret Norton)\"                │ \"female\" │\n",
       "│ 887 │ \"Montvila, Rev. Juozas\"                               │ \"male\"   │\n",
       "│ 888 │ \"Graham, Miss. Margaret Edith\"                        │ \"female\" │\n",
       "│ 889 │ \"Johnston, Miss. Catherine Helen \\\"Carrie\\\"\"            │ \"female\" │\n",
       "│ 890 │ \"Behr, Mr. Karl Howell\"                               │ \"male\"   │\n",
       "│ 891 │ \"Dooley, Mr. Patrick\"                                 │ \"male\"   │\n",
       "\n",
       "│ Row │ Age  │ SibSp │ Parch │ Ticket             │ Fare    │ Cabin  │\n",
       "├─────┼──────┼───────┼───────┼────────────────────┼─────────┼────────┤\n",
       "│ 1   │ 22.0 │ 1     │ 0     │ \"A/5 21171\"        │ 7.25    │ NA     │\n",
       "│ 2   │ 38.0 │ 1     │ 0     │ \"PC 17599\"         │ 71.2833 │ \"C85\"  │\n",
       "│ 3   │ 26.0 │ 0     │ 0     │ \"STON/O2. 3101282\" │ 7.925   │ NA     │\n",
       "│ 4   │ 35.0 │ 1     │ 0     │ \"113803\"           │ 53.1    │ \"C123\" │\n",
       "│ 5   │ 35.0 │ 0     │ 0     │ \"373450\"           │ 8.05    │ NA     │\n",
       "│ 6   │ NA   │ 0     │ 0     │ \"330877\"           │ 8.4583  │ NA     │\n",
       "│ 7   │ 54.0 │ 0     │ 0     │ \"17463\"            │ 51.8625 │ \"E46\"  │\n",
       "│ 8   │ 2.0  │ 3     │ 1     │ \"349909\"           │ 21.075  │ NA     │\n",
       "│ 9   │ 27.0 │ 0     │ 2     │ \"347742\"           │ 11.1333 │ NA     │\n",
       "│ 10  │ 14.0 │ 1     │ 0     │ \"237736\"           │ 30.0708 │ NA     │\n",
       "│ 11  │ 4.0  │ 1     │ 1     │ \"PP 9549\"          │ 16.7    │ \"G6\"   │\n",
       "⋮\n",
       "│ 880 │ 56.0 │ 0     │ 1     │ \"11767\"            │ 83.1583 │ \"C50\"  │\n",
       "│ 881 │ 25.0 │ 0     │ 1     │ \"230433\"           │ 26.0    │ NA     │\n",
       "│ 882 │ 33.0 │ 0     │ 0     │ \"349257\"           │ 7.8958  │ NA     │\n",
       "│ 883 │ 22.0 │ 0     │ 0     │ \"7552\"             │ 10.5167 │ NA     │\n",
       "│ 884 │ 28.0 │ 0     │ 0     │ \"C.A./SOTON 34068\" │ 10.5    │ NA     │\n",
       "│ 885 │ 25.0 │ 0     │ 0     │ \"SOTON/OQ 392076\"  │ 7.05    │ NA     │\n",
       "│ 886 │ 39.0 │ 0     │ 5     │ \"382652\"           │ 29.125  │ NA     │\n",
       "│ 887 │ 27.0 │ 0     │ 0     │ \"211536\"           │ 13.0    │ NA     │\n",
       "│ 888 │ 19.0 │ 0     │ 0     │ \"112053\"           │ 30.0    │ \"B42\"  │\n",
       "│ 889 │ NA   │ 1     │ 2     │ \"W./C. 6607\"       │ 23.45   │ NA     │\n",
       "│ 890 │ 26.0 │ 0     │ 0     │ \"111369\"           │ 30.0    │ \"C148\" │\n",
       "│ 891 │ 32.0 │ 0     │ 0     │ \"370376\"           │ 7.75    │ NA     │\n",
       "\n",
       "│ Row │ Embarked │\n",
       "├─────┼──────────┤\n",
       "│ 1   │ \"S\"      │\n",
       "│ 2   │ \"C\"      │\n",
       "│ 3   │ \"S\"      │\n",
       "│ 4   │ \"S\"      │\n",
       "│ 5   │ \"S\"      │\n",
       "│ 6   │ \"Q\"      │\n",
       "│ 7   │ \"S\"      │\n",
       "│ 8   │ \"S\"      │\n",
       "│ 9   │ \"S\"      │\n",
       "│ 10  │ \"C\"      │\n",
       "│ 11  │ \"S\"      │\n",
       "⋮\n",
       "│ 880 │ \"C\"      │\n",
       "│ 881 │ \"S\"      │\n",
       "│ 882 │ \"S\"      │\n",
       "│ 883 │ \"S\"      │\n",
       "│ 884 │ \"S\"      │\n",
       "│ 885 │ \"S\"      │\n",
       "│ 886 │ \"Q\"      │\n",
       "│ 887 │ \"S\"      │\n",
       "│ 888 │ \"S\"      │\n",
       "│ 889 │ \"S\"      │\n",
       "│ 890 │ \"C\"      │\n",
       "│ 891 │ \"Q\"      │"
      ]
     },
     "execution_count": 20,
     "metadata": {},
     "output_type": "execute_result"
    }
   ],
   "source": [
    "Y_train = convert(Array, train[:Survived])\n",
    "X_train = train"
   ]
  },
  {
   "cell_type": "code",
   "execution_count": 21,
   "metadata": {
    "collapsed": false
   },
   "outputs": [
    {
     "name": "stdout",
     "output_type": "stream",
     "text": [
      "15×4 DataFrames.DataFrame\n",
      "│ Row │ Pclass │ Sex      │ CptTitleCat │ x1 │\n",
      "├─────┼────────┼──────────┼─────────────┼────┤\n",
      "│ 1   │ 1      │ \"female\" │ 2           │ 5  │\n",
      "│ 2   │ 1      │ \"female\" │ 1           │ 4  │\n",
      "│ 3   │ 1      │ \"female\" │ 3           │ 5  │\n",
      "│ 4   │ 1      │ \"male\"   │ 2           │ 4  │\n",
      "│ 5   │ 1      │ \"male\"   │ 0           │ 1  │\n",
      "│ 6   │ 1      │ \"male\"   │ 3           │ 5  │\n",
      "│ 7   │ 2      │ \"female\" │ 2           │ 4  │\n",
      "│ 8   │ 2      │ \"female\" │ 1           │ 3  │\n",
      "│ 9   │ 2      │ \"male\"   │ 2           │ 3  │\n",
      "│ 10  │ 2      │ \"male\"   │ 0           │ 1  │\n",
      "│ 11  │ 2      │ \"male\"   │ 3           │ 3  │\n",
      "│ 12  │ 3      │ \"female\" │ 2           │ 4  │\n",
      "│ 13  │ 3      │ \"female\" │ 1           │ 3  │\n",
      "│ 14  │ 3      │ \"male\"   │ 2           │ 3  │\n",
      "│ 15  │ 3      │ \"male\"   │ 0           │ 2  │"
     ]
    },
    {
     "ename": "LoadError",
     "evalue": "LoadError: MethodError: no method matching transform(::PP_AgeGroupImputer, ::DataFrames.DataFrame)\nClosest candidates are:\n  transform(!Matched::ScikitLearn.DataFrameMapper, ::DataFrames.DataFrame) at /Users/tesuji/.julia/v0.5/ScikitLearn/src/dataframes.jl:143\n  transform(!Matched::ScikitLearn.Skcore.FitBit, ::Any...; kwargs...) at /Users/tesuji/.julia/v0.5/ScikitLearn/src/sk_utils.jl:73\n  transform(!Matched::PyCall.PyObject, ::Any...; kwargs...) at /Users/tesuji/.julia/v0.5/ScikitLearn/src/Skcore.jl:95\n  ...\nwhile loading In[21], in expression starting on line 5",
     "output_type": "error",
     "traceback": [
      "LoadError: MethodError: no method matching transform(::PP_AgeGroupImputer, ::DataFrames.DataFrame)\nClosest candidates are:\n  transform(!Matched::ScikitLearn.DataFrameMapper, ::DataFrames.DataFrame) at /Users/tesuji/.julia/v0.5/ScikitLearn/src/dataframes.jl:143\n  transform(!Matched::ScikitLearn.Skcore.FitBit, ::Any...; kwargs...) at /Users/tesuji/.julia/v0.5/ScikitLearn/src/sk_utils.jl:73\n  transform(!Matched::PyCall.PyObject, ::Any...; kwargs...) at /Users/tesuji/.julia/v0.5/ScikitLearn/src/Skcore.jl:95\n  ...\nwhile loading In[21], in expression starting on line 5",
      "",
      " in #fit_transform!#14(::Array{Any,1}, ::Function, ::PP_AgeGroupImputer, ::DataFrames.DataFrame, ::Array{Int64,1}) at /Users/tesuji/.julia/v0.5/ScikitLearnBase/src/ScikitLearnBase.jl:150",
      " in fit_transform!(::PP_AgeGroupImputer, ::DataFrames.DataFrame, ::Array{Int64,1}) at /Users/tesuji/.julia/v0.5/ScikitLearnBase/src/ScikitLearnBase.jl:150",
      " in fit!(::ScikitLearn.Skcore.Pipeline, ::DataFrames.DataFrame, ::Array{Int64,1}) at /Users/tesuji/.julia/v0.5/ScikitLearn/src/pipeline.jl:67",
      " in #_fit_and_score#92(::Bool, ::Bool, ::String, ::Function, ::ScikitLearn.Skcore.Pipeline, ::DataFrames.DataFrame, ::Array{Int64,1}, ::Function, ::Array{Int64,1}, ::Array{Int64,1}, ::Int64, ::Void, ::Void) at /Users/tesuji/.julia/v0.5/ScikitLearn/src/cross_validation.jl:571",
      " in (::ScikitLearn.Skcore.##80#81{Int64,Void,ScikitLearn.Skcore.Pipeline,DataFrames.DataFrame,Array{Int64,1}})(::Tuple{Array{Int64,1},Array{Int64,1}}) at ./<missing>:0",
      " in copy!(::Array{Float64,1}, ::Base.Generator{Array{Tuple{Array{Int64,1},Array{Int64,1}},1},ScikitLearn.Skcore.##80#81{Int64,Void,ScikitLearn.Skcore.Pipeline,DataFrames.DataFrame,Array{Int64,1}}}) at ./abstractarray.jl:477",
      " in _collect(::Type{Float64}, ::Base.Generator{Array{Tuple{Array{Int64,1},Array{Int64,1}},1},ScikitLearn.Skcore.##80#81{Int64,Void,ScikitLearn.Skcore.Pipeline,DataFrames.DataFrame,Array{Int64,1}}}, ::Base.HasShape) at ./array.jl:251",
      " in #cross_val_score#79(::Void, ::Int64, ::Int64, ::Int64, ::Void, ::Function, ::ScikitLearn.Skcore.Pipeline, ::DataFrames.DataFrame, ::Array{Int64,1}) at /Users/tesuji/.julia/v0.5/ScikitLearn/src/cross_validation.jl:279",
      " in (::ScikitLearn.Skcore.#kw##cross_val_score)(::Array{Any,1}, ::ScikitLearn.Skcore.#cross_val_score, ::ScikitLearn.Skcore.Pipeline, ::DataFrames.DataFrame, ::Array{Int64,1}) at ./<missing>:0"
     ]
    }
   ],
   "source": [
    "\n",
    "\n",
    "\n",
    "#Cross Validation - check model accuracy\n",
    "round(cross_val_score(pipe, X_train, Y_train, cv =2), 2)"
   ]
  },
  {
   "cell_type": "code",
   "execution_count": null,
   "metadata": {
    "collapsed": false
   },
   "outputs": [],
   "source": [
    "model = fit!(pipe, X_train, Y_train)"
   ]
  },
  {
   "cell_type": "code",
   "execution_count": null,
   "metadata": {
    "collapsed": false
   },
   "outputs": [],
   "source": [
    "result=DataFrame()\n",
    "result[:PassengerId] = test[:PassengerId]\n",
    "result[:Survived] = @data predict(model,final_test)"
   ]
  },
  {
   "cell_type": "code",
   "execution_count": null,
   "metadata": {
    "collapsed": false
   },
   "outputs": [],
   "source": [
    "result"
   ]
  },
  {
   "cell_type": "code",
   "execution_count": null,
   "metadata": {
    "collapsed": true
   },
   "outputs": [],
   "source": [
    "writetable(\"julia-magicalforests.csv\",result)"
   ]
  }
 ],
 "metadata": {
  "kernelspec": {
   "display_name": "Julia 0.5.0",
   "language": "julia",
   "name": "julia-0.5"
  },
  "language_info": {
   "file_extension": ".jl",
   "mimetype": "application/julia",
   "name": "julia",
   "version": "0.5.0"
  }
 },
 "nbformat": 4,
 "nbformat_minor": 1
}
