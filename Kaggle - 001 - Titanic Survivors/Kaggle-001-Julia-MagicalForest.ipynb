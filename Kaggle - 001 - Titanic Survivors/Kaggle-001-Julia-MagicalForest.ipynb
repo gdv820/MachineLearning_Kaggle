{
 "cells": [
  {
   "cell_type": "code",
   "execution_count": 1,
   "metadata": {
    "collapsed": false
   },
   "outputs": [
    {
     "name": "stderr",
     "output_type": "stream",
     "text": [
      "WARNING: Method definition nrow(DataFramesMeta.AbstractCompositeDataFrame) in module DataFramesMeta at /Users/tesuji/.julia/v0.5/DataFramesMeta/src/compositedataframe.jl:108 overwritten at /Users/tesuji/.julia/v0.5/DataFramesMeta/src/compositedataframe.jl:109.\n",
      "WARNING: Method definition require(Symbol) in module Base at loading.jl:345 overwritten in module Main at /Users/tesuji/.julia/v0.5/Requires/src/require.jl:12.\n"
     ]
    }
   ],
   "source": [
    "using DecisionTree\n",
    "using DataFrames\n",
    "using DataFramesMeta\n",
    "using DataArrays\n",
    "using Gadfly\n",
    "using ScikitLearn: DataFrameMapper, @sk_import, fit_transform!, Pipelines, fit!, predict\n",
    "using ScikitLearn.CrossValidation\n",
    "# @sk_import linear_model: LogisticRegression\n",
    "@sk_import preprocessing: (LabelBinarizer, RobustScaler, Binarizer, StandardScaler, FunctionTransformer)"
   ]
  },
  {
   "cell_type": "code",
   "execution_count": 2,
   "metadata": {
    "collapsed": true
   },
   "outputs": [],
   "source": [
    "# Note for debugging, changing samething inside a function require kernel reloading :/"
   ]
  },
  {
   "cell_type": "code",
   "execution_count": 3,
   "metadata": {
    "collapsed": false
   },
   "outputs": [
    {
     "data": {
      "text/html": [
       "<table class=\"data-frame\"><thead><tr><th></th><th>PassengerId</th><th>Survived</th><th>Pclass</th><th>Name</th><th>Sex</th><th>Age</th><th>SibSp</th><th>Parch</th><th>Ticket</th><th>Fare</th><th>Cabin</th><th>Embarked</th></tr></thead><tbody><tr><th>1</th><td>1</td><td>0</td><td>3</td><td>Braund, Mr. Owen Harris</td><td>male</td><td>22.0</td><td>1</td><td>0</td><td>A/5 21171</td><td>7.25</td><td>NA</td><td>S</td></tr><tr><th>2</th><td>2</td><td>1</td><td>1</td><td>Cumings, Mrs. John Bradley (Florence Briggs Thayer)</td><td>female</td><td>38.0</td><td>1</td><td>0</td><td>PC 17599</td><td>71.2833</td><td>C85</td><td>C</td></tr><tr><th>3</th><td>3</td><td>1</td><td>3</td><td>Heikkinen, Miss. Laina</td><td>female</td><td>26.0</td><td>0</td><td>0</td><td>STON/O2. 3101282</td><td>7.925</td><td>NA</td><td>S</td></tr><tr><th>4</th><td>4</td><td>1</td><td>1</td><td>Futrelle, Mrs. Jacques Heath (Lily May Peel)</td><td>female</td><td>35.0</td><td>1</td><td>0</td><td>113803</td><td>53.1</td><td>C123</td><td>S</td></tr><tr><th>5</th><td>5</td><td>0</td><td>3</td><td>Allen, Mr. William Henry</td><td>male</td><td>35.0</td><td>0</td><td>0</td><td>373450</td><td>8.05</td><td>NA</td><td>S</td></tr><tr><th>6</th><td>6</td><td>0</td><td>3</td><td>Moran, Mr. James</td><td>male</td><td>NA</td><td>0</td><td>0</td><td>330877</td><td>8.4583</td><td>NA</td><td>Q</td></tr></tbody></table>"
      ],
      "text/plain": [
       "6×12 DataFrames.DataFrame\n",
       "│ Row │ PassengerId │ Survived │ Pclass │\n",
       "├─────┼─────────────┼──────────┼────────┤\n",
       "│ 1   │ 1           │ 0        │ 3      │\n",
       "│ 2   │ 2           │ 1        │ 1      │\n",
       "│ 3   │ 3           │ 1        │ 3      │\n",
       "│ 4   │ 4           │ 1        │ 1      │\n",
       "│ 5   │ 5           │ 0        │ 3      │\n",
       "│ 6   │ 6           │ 0        │ 3      │\n",
       "\n",
       "│ Row │ Name                                                  │ Sex      │\n",
       "├─────┼───────────────────────────────────────────────────────┼──────────┤\n",
       "│ 1   │ \"Braund, Mr. Owen Harris\"                             │ \"male\"   │\n",
       "│ 2   │ \"Cumings, Mrs. John Bradley (Florence Briggs Thayer)\" │ \"female\" │\n",
       "│ 3   │ \"Heikkinen, Miss. Laina\"                              │ \"female\" │\n",
       "│ 4   │ \"Futrelle, Mrs. Jacques Heath (Lily May Peel)\"        │ \"female\" │\n",
       "│ 5   │ \"Allen, Mr. William Henry\"                            │ \"male\"   │\n",
       "│ 6   │ \"Moran, Mr. James\"                                    │ \"male\"   │\n",
       "\n",
       "│ Row │ Age  │ SibSp │ Parch │ Ticket             │ Fare    │ Cabin  │\n",
       "├─────┼──────┼───────┼───────┼────────────────────┼─────────┼────────┤\n",
       "│ 1   │ 22.0 │ 1     │ 0     │ \"A/5 21171\"        │ 7.25    │ NA     │\n",
       "│ 2   │ 38.0 │ 1     │ 0     │ \"PC 17599\"         │ 71.2833 │ \"C85\"  │\n",
       "│ 3   │ 26.0 │ 0     │ 0     │ \"STON/O2. 3101282\" │ 7.925   │ NA     │\n",
       "│ 4   │ 35.0 │ 1     │ 0     │ \"113803\"           │ 53.1    │ \"C123\" │\n",
       "│ 5   │ 35.0 │ 0     │ 0     │ \"373450\"           │ 8.05    │ NA     │\n",
       "│ 6   │ NA   │ 0     │ 0     │ \"330877\"           │ 8.4583  │ NA     │\n",
       "\n",
       "│ Row │ Embarked │\n",
       "├─────┼──────────┤\n",
       "│ 1   │ \"S\"      │\n",
       "│ 2   │ \"C\"      │\n",
       "│ 3   │ \"S\"      │\n",
       "│ 4   │ \"S\"      │\n",
       "│ 5   │ \"S\"      │\n",
       "│ 6   │ \"Q\"      │"
      ]
     },
     "execution_count": 3,
     "metadata": {},
     "output_type": "execute_result"
    }
   ],
   "source": [
    "train = readtable(\"train.csv\")\n",
    "test = readtable(\"test.csv\")\n",
    "head(train)"
   ]
  },
  {
   "cell_type": "code",
   "execution_count": 4,
   "metadata": {
    "collapsed": false
   },
   "outputs": [
    {
     "name": "stdout",
     "output_type": "stream",
     "text": [
      "PassengerId\n",
      "Min      1.0\n",
      "1st Qu.  223.5\n",
      "Median   446.0\n",
      "Mean     446.0\n",
      "3rd Qu.  668.5\n",
      "Max      891.0\n",
      "NAs      0\n",
      "NA%      0.0%\n",
      "\n",
      "Survived\n",
      "Min      0.0\n",
      "1st Qu.  0.0\n",
      "Median   0.0\n",
      "Mean     0.3838383838383838\n",
      "3rd Qu.  1.0\n",
      "Max      1.0\n",
      "NAs      0\n",
      "NA%      0.0%\n",
      "\n",
      "Pclass\n",
      "Min      1.0\n",
      "1st Qu.  2.0\n",
      "Median   3.0\n",
      "Mean     2.308641975308642\n",
      "3rd Qu.  3.0\n",
      "Max      3.0\n",
      "NAs      0\n",
      "NA%      0.0%\n",
      "\n",
      "Name\n",
      "Length  891\n",
      "Type    String\n",
      "NAs     0\n",
      "NA%     0.0%\n",
      "Unique  891\n",
      "\n",
      "Sex\n",
      "Length  891\n",
      "Type    String\n",
      "NAs     0\n",
      "NA%     0.0%\n",
      "Unique  2\n",
      "\n",
      "Age\n",
      "Min      0.42\n",
      "1st Qu.  20.125\n",
      "Median   28.0\n",
      "Mean     29.69911764705882\n",
      "3rd Qu.  38.0\n",
      "Max      80.0\n",
      "NAs      177\n",
      "NA%      19.87%\n",
      "\n",
      "SibSp\n",
      "Min      0.0\n",
      "1st Qu.  0.0\n",
      "Median   0.0\n",
      "Mean     0.5230078563411896\n",
      "3rd Qu.  1.0\n",
      "Max      8.0\n",
      "NAs      0\n",
      "NA%      0.0%\n",
      "\n",
      "Parch\n",
      "Min      0.0\n",
      "1st Qu.  0.0\n",
      "Median   0.0\n",
      "Mean     0.38159371492704824\n",
      "3rd Qu.  0.0\n",
      "Max      6.0\n",
      "NAs      0\n",
      "NA%      0.0%\n",
      "\n",
      "Ticket\n",
      "Length  891\n",
      "Type    String\n",
      "NAs     0\n",
      "NA%     0.0%\n",
      "Unique  681\n",
      "\n",
      "Fare\n",
      "Min      0.0\n",
      "1st Qu.  7.9104\n",
      "Median   14.4542\n",
      "Mean     32.204207968574636\n",
      "3rd Qu.  31.0\n",
      "Max      512.3292\n",
      "NAs      0\n",
      "NA%      0.0%\n",
      "\n",
      "Cabin\n",
      "Length  891\n",
      "Type    String\n",
      "NAs     687\n",
      "NA%     77.1%\n",
      "Unique  148\n",
      "\n",
      "Embarked\n",
      "Length  891\n",
      "Type    String\n",
      "NAs     2\n",
      "NA%     0.22%\n",
      "Unique  4\n",
      "\n"
     ]
    },
    {
     "data": {
      "text/plain": [
       "(nothing,2)"
      ]
     },
     "execution_count": 4,
     "metadata": {},
     "output_type": "execute_result"
    }
   ],
   "source": [
    "####### Exploration phase #######\n",
    "\n",
    "describe(train),2"
   ]
  },
  {
   "cell_type": "code",
   "execution_count": 5,
   "metadata": {
    "collapsed": false
   },
   "outputs": [],
   "source": [
    "# Somehow adding the color visualization generate an error about int not defined in Gadfly\n",
    "# Need to edit source code and replace int by Int\n",
    "# plot(train, x=\"Sex\", y=\"Survived\", color=\"Survived\", Geom.histogram(position=:stack), Scale.color_discrete_manual(\"red\",\"green\"))"
   ]
  },
  {
   "cell_type": "code",
   "execution_count": 6,
   "metadata": {
    "collapsed": false
   },
   "outputs": [],
   "source": [
    "# plot(train, x=:Age, y=:Survived, color=:Survived, Geom.histogram(bincount=15,position=:dodge), Scale.color_discrete_manual(\"orange\",\"green\"))"
   ]
  },
  {
   "cell_type": "markdown",
   "metadata": {},
   "source": [
    "# Feature Engineering\n",
    "\n",
    "Use end to end Pipelines. (questions how to use data from train set in the test set if using pipelines ?)\n",
    "- Compute Missing Age (or predict it via a simple Regression)\n",
    "- Bin Age into Age group (and predict that instead)\n",
    "- Drop NA in Embarked (or predict it via a simple Regression)\n",
    "- Extract Title from Name\n",
    "- Extract family Name from Name and count occurences (similar to family size but may have people that share a name)\n",
    "-? Extract family name (what if a family is split between train and test, or is irrelevant in the other set ??)\n",
    "- Extract Deck from Cabin\n",
    "- Categorize titles per social rank\n",
    "- Combine Siblings + Spouse + Parents + 1 to have family size\n",
    "-? Be inventive with tickets ?\n",
    "- Predict Fare for test data\n",
    "- Bin Fare. Have a category 0 for VIP that were invited\n",
    "- Normalize Fare/Family Size if someone paid for all\n"
   ]
  },
  {
   "cell_type": "code",
   "execution_count": 7,
   "metadata": {
    "collapsed": false
   },
   "outputs": [
    {
     "data": {
      "text/plain": [
       "pp_MissingAge (generic function with 1 method)"
      ]
     },
     "execution_count": 7,
     "metadata": {},
     "output_type": "execute_result"
    }
   ],
   "source": [
    "# Compute a new Age column with missing values filled with median\n",
    "# Other possibility do a regression and predict the age\n",
    "\n",
    "## Important : the test data computation for missing age should use train data info\n",
    "## How to do that cleanly ?\n",
    "function pp_MissingAge(df::AbstractDataFrame)\n",
    "    @linq df |>\n",
    "    groupby([:Pclass,:Sex,:CptTitle]) |>\n",
    "          transform(CptAge = ifelse(isna(:Age),median(dropna(:Age)),:Age))\n",
    "end"
   ]
  },
  {
   "cell_type": "code",
   "execution_count": 8,
   "metadata": {
    "collapsed": false
   },
   "outputs": [
    {
     "data": {
      "text/plain": [
       "pp_dropNAembarked (generic function with 1 method)"
      ]
     },
     "execution_count": 8,
     "metadata": {},
     "output_type": "execute_result"
    }
   ],
   "source": [
    "# drop NA in Embarked column\n",
    "# Alternative predict the mot likely value\n",
    "function pp_dropNAembarked(df::AbstractDataFrame)\n",
    "    df[~isna(df[:,:Embarked]),:]\n",
    "end"
   ]
  },
  {
   "cell_type": "code",
   "execution_count": 9,
   "metadata": {
    "collapsed": false
   },
   "outputs": [
    {
     "data": {
      "text/plain": [
       "pp_Title (generic function with 1 method)"
      ]
     },
     "execution_count": 9,
     "metadata": {},
     "output_type": "execute_result"
    }
   ],
   "source": [
    "function pp_Title(df::AbstractDataFrame)\n",
    "    @linq df |>\n",
    "        transform(\n",
    "            CptTitle = map(s->match(r\"(?<=, ).*?\\.\", s).match, :Name)\n",
    "        )\n",
    "end"
   ]
  },
  {
   "cell_type": "code",
   "execution_count": 10,
   "metadata": {
    "collapsed": false
   },
   "outputs": [
    {
     "data": {
      "text/plain": [
       "pp_deck (generic function with 1 method)"
      ]
     },
     "execution_count": 10,
     "metadata": {},
     "output_type": "execute_result"
    }
   ],
   "source": [
    "# Extract Deck from Cabin\n",
    "function pp_deck(df::AbstractDataFrame)\n",
    "    @linq df |>\n",
    "        transform(\n",
    "    CptCabin = map(s->ifelse(isna(s),\"Unknown\",s), :Cabin)\n",
    "            )|>\n",
    "    ## Need two step otherwise complains about no index method for NAtypes\n",
    "        transform(\n",
    "            CptCabin = map(s->ifelse(s==\"Unknown\",s,s[1:1]), :CptCabin)\n",
    "        )\n",
    "end"
   ]
  },
  {
   "cell_type": "code",
   "execution_count": 11,
   "metadata": {
    "collapsed": false
   },
   "outputs": [
    {
     "data": {
      "text/plain": [
       "pp_titlecat (generic function with 1 method)"
      ]
     },
     "execution_count": 11,
     "metadata": {},
     "output_type": "execute_result"
    }
   ],
   "source": [
    "#Dictionary for socio-prof categories\n",
    "#Dictionary for consistent referencing (transform input to lower case for insensitive use)\n",
    "#Master. --> children 0\n",
    "#Miss. Mlle --> unmarried 1\n",
    "#Mr. Mrs. Ms. --> normal 2\n",
    "#Honorifics --> rich people\n",
    "dicoRef = Dict(\n",
    "            \"Mr.\" => 2,\n",
    "            \"Mrs.\"=> 2,\n",
    "            \"Miss.\" => 1,\n",
    "            \"Master.\" => 0,\n",
    "            \"Don.\"=> 3,\n",
    "            \"Rev.\"=>3,\n",
    "            \"Dr.\"=>3,\n",
    "            \"Mme.\"=>2,\n",
    "            \"Ms.\"=>2,\n",
    "            \"Major.\"=>3,\n",
    "            \"Lady.\"=>3,\n",
    "            \"Sir.\"=>3,\n",
    "            \"Mlle.\"=>1,\n",
    "            \"Col.\"=>3,\n",
    "            \"Capt.\"=>3,\n",
    "            \"the Countess.\"=>3,\n",
    "            \"Jonkheer.\"=>3,\n",
    "            \"Dona.\"=>3\n",
    "    )\n",
    "\n",
    "function pp_titlecat(df::AbstractDataFrame)\n",
    "    @linq df |> transform(CptTitleCat = map(s->dicoRef[s], :CptTitle))\n",
    "end"
   ]
  },
  {
   "cell_type": "code",
   "execution_count": 12,
   "metadata": {
    "collapsed": false
   },
   "outputs": [
    {
     "data": {
      "text/plain": [
       "pp_namefreq (generic function with 1 method)"
      ]
     },
     "execution_count": 12,
     "metadata": {},
     "output_type": "execute_result"
    }
   ],
   "source": [
    "# Occurences of family name\n",
    "## potential issue, if family are split between training and test data?\n",
    "function pp_namefreq(df::AbstractDataFrame)\n",
    "    @linq df |>\n",
    "        transform(\n",
    "            CptNameFreq = map(s->match(r\"^.*?,\", s).match, :Name)\n",
    "            )|>\n",
    "        groupby(:CptNameFreq)|>\n",
    "        transform(\n",
    "            CptNameFreq = length(:CptNameFreq) ## TODO : is there a count equivalent ?\n",
    "        )\n",
    "end"
   ]
  },
  {
   "cell_type": "code",
   "execution_count": 13,
   "metadata": {
    "collapsed": false,
    "scrolled": true
   },
   "outputs": [
    {
     "data": {
      "text/html": [
       "<table class=\"data-frame\"><thead><tr><th></th><th>PassengerId</th><th>Survived</th><th>Pclass</th><th>Name</th><th>Sex</th><th>Age</th><th>SibSp</th><th>Parch</th><th>Ticket</th><th>Fare</th><th>Cabin</th><th>Embarked</th><th>CptTitle</th><th>CptTitleCat</th><th>CptAge</th><th>CptCabin</th><th>CptNameFreq</th></tr></thead><tbody><tr><th>1</th><td>2</td><td>1</td><td>1</td><td>Cumings, Mrs. John Bradley (Florence Briggs Thayer)</td><td>female</td><td>38.0</td><td>1</td><td>0</td><td>PC 17599</td><td>71.2833</td><td>C85</td><td>C</td><td>Mrs.</td><td>2</td><td>38.0</td><td>C</td><td>1</td></tr><tr><th>2</th><td>4</td><td>1</td><td>1</td><td>Futrelle, Mrs. Jacques Heath (Lily May Peel)</td><td>female</td><td>35.0</td><td>1</td><td>0</td><td>113803</td><td>53.1</td><td>C123</td><td>S</td><td>Mrs.</td><td>2</td><td>35.0</td><td>C</td><td>2</td></tr><tr><th>3</th><td>138</td><td>0</td><td>1</td><td>Futrelle, Mr. Jacques Heath</td><td>male</td><td>37.0</td><td>1</td><td>0</td><td>113803</td><td>53.1</td><td>C123</td><td>S</td><td>Mr.</td><td>2</td><td>37.0</td><td>C</td><td>2</td></tr><tr><th>4</th><td>32</td><td>1</td><td>1</td><td>Spencer, Mrs. William Augustus (Marie Eugenie)</td><td>female</td><td>NA</td><td>1</td><td>0</td><td>PC 17569</td><td>146.5208</td><td>B78</td><td>C</td><td>Mrs.</td><td>2</td><td>41.5</td><td>B</td><td>1</td></tr><tr><th>5</th><td>53</td><td>1</td><td>1</td><td>Harper, Mrs. Henry Sleeper (Myna Haxtun)</td><td>female</td><td>49.0</td><td>1</td><td>0</td><td>PC 17572</td><td>76.7292</td><td>D33</td><td>C</td><td>Mrs.</td><td>2</td><td>49.0</td><td>D</td><td>4</td></tr><tr><th>6</th><td>646</td><td>1</td><td>1</td><td>Harper, Mr. Henry Sleeper</td><td>male</td><td>48.0</td><td>1</td><td>0</td><td>PC 17572</td><td>76.7292</td><td>D33</td><td>C</td><td>Mr.</td><td>2</td><td>48.0</td><td>D</td><td>4</td></tr><tr><th>7</th><td>721</td><td>1</td><td>2</td><td>Harper, Miss. Annie Jessie \"Nina\"</td><td>female</td><td>6.0</td><td>0</td><td>1</td><td>248727</td><td>33.0</td><td>NA</td><td>S</td><td>Miss.</td><td>1</td><td>6.0</td><td>Unknown</td><td>4</td></tr><tr><th>8</th><td>849</td><td>0</td><td>2</td><td>Harper, Rev. John</td><td>male</td><td>28.0</td><td>0</td><td>1</td><td>248727</td><td>33.0</td><td>NA</td><td>S</td><td>Rev.</td><td>3</td><td>28.0</td><td>Unknown</td><td>4</td></tr><tr><th>9</th><td>152</td><td>1</td><td>1</td><td>Pears, Mrs. Thomas (Edith Wearne)</td><td>female</td><td>22.0</td><td>1</td><td>0</td><td>113776</td><td>66.6</td><td>C2</td><td>S</td><td>Mrs.</td><td>2</td><td>22.0</td><td>C</td><td>2</td></tr><tr><th>10</th><td>337</td><td>0</td><td>1</td><td>Pears, Mr. Thomas Clinton</td><td>male</td><td>29.0</td><td>1</td><td>0</td><td>113776</td><td>66.6</td><td>C2</td><td>S</td><td>Mr.</td><td>2</td><td>29.0</td><td>C</td><td>2</td></tr><tr><th>11</th><td>167</td><td>1</td><td>1</td><td>Chibnall, Mrs. (Edith Martha Bowerman)</td><td>female</td><td>NA</td><td>0</td><td>1</td><td>113505</td><td>55.0</td><td>E33</td><td>S</td><td>Mrs.</td><td>2</td><td>41.5</td><td>E</td><td>1</td></tr><tr><th>12</th><td>195</td><td>1</td><td>1</td><td>Brown, Mrs. James Joseph (Margaret Tobin)</td><td>female</td><td>44.0</td><td>0</td><td>0</td><td>PC 17610</td><td>27.7208</td><td>B4</td><td>C</td><td>Mrs.</td><td>2</td><td>44.0</td><td>B</td><td>4</td></tr><tr><th>13</th><td>671</td><td>1</td><td>2</td><td>Brown, Mrs. Thomas William Solomon (Elizabeth Catherine Ford)</td><td>female</td><td>40.0</td><td>1</td><td>1</td><td>29750</td><td>39.0</td><td>NA</td><td>S</td><td>Mrs.</td><td>2</td><td>40.0</td><td>Unknown</td><td>4</td></tr><tr><th>14</th><td>346</td><td>1</td><td>2</td><td>Brown, Miss. Amelia \"Mildred\"</td><td>female</td><td>24.0</td><td>0</td><td>0</td><td>248733</td><td>13.0</td><td>F33</td><td>S</td><td>Miss.</td><td>1</td><td>24.0</td><td>F</td><td>4</td></tr><tr><th>15</th><td>685</td><td>0</td><td>2</td><td>Brown, Mr. Thomas William Solomon</td><td>male</td><td>60.0</td><td>1</td><td>1</td><td>29750</td><td>39.0</td><td>NA</td><td>S</td><td>Mr.</td><td>2</td><td>60.0</td><td>Unknown</td><td>4</td></tr><tr><th>16</th><td>231</td><td>1</td><td>1</td><td>Harris, Mrs. Henry Birkhardt (Irene Wallach)</td><td>female</td><td>35.0</td><td>1</td><td>0</td><td>36973</td><td>83.475</td><td>C83</td><td>S</td><td>Mrs.</td><td>2</td><td>35.0</td><td>C</td><td>4</td></tr><tr><th>17</th><td>63</td><td>0</td><td>1</td><td>Harris, Mr. Henry Birkhardt</td><td>male</td><td>45.0</td><td>1</td><td>0</td><td>36973</td><td>83.475</td><td>C83</td><td>S</td><td>Mr.</td><td>2</td><td>45.0</td><td>C</td><td>4</td></tr><tr><th>18</th><td>220</td><td>0</td><td>2</td><td>Harris, Mr. Walter</td><td>male</td><td>30.0</td><td>0</td><td>0</td><td>W/C 14208</td><td>10.5</td><td>NA</td><td>S</td><td>Mr.</td><td>2</td><td>30.0</td><td>Unknown</td><td>4</td></tr><tr><th>19</th><td>571</td><td>1</td><td>2</td><td>Harris, Mr. George</td><td>male</td><td>62.0</td><td>0</td><td>0</td><td>S.W./PP 752</td><td>10.5</td><td>NA</td><td>S</td><td>Mr.</td><td>2</td><td>62.0</td><td>Unknown</td><td>4</td></tr><tr><th>20</th><td>257</td><td>1</td><td>1</td><td>Thorne, Mrs. Gertrude Maybelle</td><td>female</td><td>NA</td><td>0</td><td>0</td><td>PC 17585</td><td>79.2</td><td>NA</td><td>C</td><td>Mrs.</td><td>2</td><td>41.5</td><td>Unknown</td><td>1</td></tr><tr><th>21</th><td>269</td><td>1</td><td>1</td><td>Graham, Mrs. William Thompson (Edith Junkins)</td><td>female</td><td>58.0</td><td>0</td><td>1</td><td>PC 17582</td><td>153.4625</td><td>C125</td><td>S</td><td>Mrs.</td><td>2</td><td>58.0</td><td>C</td><td>3</td></tr><tr><th>22</th><td>888</td><td>1</td><td>1</td><td>Graham, Miss. Margaret Edith</td><td>female</td><td>19.0</td><td>0</td><td>0</td><td>112053</td><td>30.0</td><td>B42</td><td>S</td><td>Miss.</td><td>1</td><td>19.0</td><td>B</td><td>3</td></tr><tr><th>23</th><td>333</td><td>0</td><td>1</td><td>Graham, Mr. George Edward</td><td>male</td><td>38.0</td><td>0</td><td>1</td><td>PC 17582</td><td>153.4625</td><td>C91</td><td>S</td><td>Mr.</td><td>2</td><td>38.0</td><td>C</td><td>3</td></tr><tr><th>24</th><td>292</td><td>1</td><td>1</td><td>Bishop, Mrs. Dickinson H (Helen Walton)</td><td>female</td><td>19.0</td><td>1</td><td>0</td><td>11967</td><td>91.0792</td><td>B49</td><td>C</td><td>Mrs.</td><td>2</td><td>19.0</td><td>B</td><td>2</td></tr><tr><th>25</th><td>485</td><td>1</td><td>1</td><td>Bishop, Mr. Dickinson H</td><td>male</td><td>25.0</td><td>1</td><td>0</td><td>11967</td><td>91.0792</td><td>B49</td><td>C</td><td>Mr.</td><td>2</td><td>25.0</td><td>B</td><td>2</td></tr><tr><th>26</th><td>300</td><td>1</td><td>1</td><td>Baxter, Mrs. James (Helene DeLaudeniere Chaput)</td><td>female</td><td>50.0</td><td>0</td><td>1</td><td>PC 17558</td><td>247.5208</td><td>B58 B60</td><td>C</td><td>Mrs.</td><td>2</td><td>50.0</td><td>B</td><td>2</td></tr><tr><th>27</th><td>119</td><td>0</td><td>1</td><td>Baxter, Mr. Quigg Edmond</td><td>male</td><td>24.0</td><td>0</td><td>1</td><td>PC 17558</td><td>247.5208</td><td>B58 B60</td><td>C</td><td>Mr.</td><td>2</td><td>24.0</td><td>B</td><td>2</td></tr><tr><th>28</th><td>308</td><td>1</td><td>1</td><td>Penasco y Castellana, Mrs. Victor de Satode (Maria Josefa Perez de Soto y Vallejo)</td><td>female</td><td>17.0</td><td>1</td><td>0</td><td>PC 17758</td><td>108.9</td><td>C65</td><td>C</td><td>Mrs.</td><td>2</td><td>17.0</td><td>C</td><td>2</td></tr><tr><th>29</th><td>506</td><td>0</td><td>1</td><td>Penasco y Castellana, Mr. Victor de Satode</td><td>male</td><td>18.0</td><td>1</td><td>0</td><td>PC 17758</td><td>108.9</td><td>C65</td><td>C</td><td>Mr.</td><td>2</td><td>18.0</td><td>C</td><td>2</td></tr><tr><th>30</th><td>320</td><td>1</td><td>1</td><td>Spedden, Mrs. Frederic Oakley (Margaretta Corning Stone)</td><td>female</td><td>40.0</td><td>1</td><td>1</td><td>16966</td><td>134.5</td><td>E34</td><td>C</td><td>Mrs.</td><td>2</td><td>40.0</td><td>E</td><td>1</td></tr><tr><th>&vellip;</th><td>&vellip;</td><td>&vellip;</td><td>&vellip;</td><td>&vellip;</td><td>&vellip;</td><td>&vellip;</td><td>&vellip;</td><td>&vellip;</td><td>&vellip;</td><td>&vellip;</td><td>&vellip;</td><td>&vellip;</td><td>&vellip;</td><td>&vellip;</td><td>&vellip;</td><td>&vellip;</td><td>&vellip;</td></tr></tbody></table>"
      ],
      "text/plain": [
       "891×17 DataFrames.DataFrame\n",
       "│ Row │ PassengerId │ Survived │ Pclass │\n",
       "├─────┼─────────────┼──────────┼────────┤\n",
       "│ 1   │ 2           │ 1        │ 1      │\n",
       "│ 2   │ 4           │ 1        │ 1      │\n",
       "│ 3   │ 138         │ 0        │ 1      │\n",
       "│ 4   │ 32          │ 1        │ 1      │\n",
       "│ 5   │ 53          │ 1        │ 1      │\n",
       "│ 6   │ 646         │ 1        │ 1      │\n",
       "│ 7   │ 721         │ 1        │ 2      │\n",
       "│ 8   │ 849         │ 0        │ 2      │\n",
       "│ 9   │ 152         │ 1        │ 1      │\n",
       "│ 10  │ 337         │ 0        │ 1      │\n",
       "│ 11  │ 167         │ 1        │ 1      │\n",
       "⋮\n",
       "│ 880 │ 869         │ 0        │ 3      │\n",
       "│ 881 │ 871         │ 0        │ 3      │\n",
       "│ 882 │ 874         │ 0        │ 3      │\n",
       "│ 883 │ 879         │ 0        │ 3      │\n",
       "│ 884 │ 882         │ 0        │ 3      │\n",
       "│ 885 │ 885         │ 0        │ 3      │\n",
       "│ 886 │ 891         │ 0        │ 3      │\n",
       "│ 887 │ 66          │ 1        │ 3      │\n",
       "│ 888 │ 710         │ 1        │ 3      │\n",
       "│ 889 │ 349         │ 1        │ 3      │\n",
       "│ 890 │ 490         │ 1        │ 3      │\n",
       "│ 891 │ 804         │ 1        │ 3      │\n",
       "\n",
       "│ Row │ Name                                                  │ Sex      │\n",
       "├─────┼───────────────────────────────────────────────────────┼──────────┤\n",
       "│ 1   │ \"Cumings, Mrs. John Bradley (Florence Briggs Thayer)\" │ \"female\" │\n",
       "│ 2   │ \"Futrelle, Mrs. Jacques Heath (Lily May Peel)\"        │ \"female\" │\n",
       "│ 3   │ \"Futrelle, Mr. Jacques Heath\"                         │ \"male\"   │\n",
       "│ 4   │ \"Spencer, Mrs. William Augustus (Marie Eugenie)\"      │ \"female\" │\n",
       "│ 5   │ \"Harper, Mrs. Henry Sleeper (Myna Haxtun)\"            │ \"female\" │\n",
       "│ 6   │ \"Harper, Mr. Henry Sleeper\"                           │ \"male\"   │\n",
       "│ 7   │ \"Harper, Miss. Annie Jessie \\\"Nina\\\"\"                   │ \"female\" │\n",
       "│ 8   │ \"Harper, Rev. John\"                                   │ \"male\"   │\n",
       "│ 9   │ \"Pears, Mrs. Thomas (Edith Wearne)\"                   │ \"female\" │\n",
       "│ 10  │ \"Pears, Mr. Thomas Clinton\"                           │ \"male\"   │\n",
       "│ 11  │ \"Chibnall, Mrs. (Edith Martha Bowerman)\"              │ \"female\" │\n",
       "⋮\n",
       "│ 880 │ \"van Melkebeke, Mr. Philemon\"                         │ \"male\"   │\n",
       "│ 881 │ \"Balkic, Mr. Cerin\"                                   │ \"male\"   │\n",
       "│ 882 │ \"Vander Cruyssen, Mr. Victor\"                         │ \"male\"   │\n",
       "│ 883 │ \"Laleff, Mr. Kristo\"                                  │ \"male\"   │\n",
       "│ 884 │ \"Markun, Mr. Johann\"                                  │ \"male\"   │\n",
       "│ 885 │ \"Sutehall, Mr. Henry Jr\"                              │ \"male\"   │\n",
       "│ 886 │ \"Dooley, Mr. Patrick\"                                 │ \"male\"   │\n",
       "│ 887 │ \"Moubarek, Master. Gerios\"                            │ \"male\"   │\n",
       "│ 888 │ \"Moubarek, Master. Halim Gonios (\\\"William George\\\")\"   │ \"male\"   │\n",
       "│ 889 │ \"Coutts, Master. William Loch \\\"William\\\"\"              │ \"male\"   │\n",
       "│ 890 │ \"Coutts, Master. Eden Leslie \\\"Neville\\\"\"               │ \"male\"   │\n",
       "│ 891 │ \"Thomas, Master. Assad Alexander\"                     │ \"male\"   │\n",
       "\n",
       "│ Row │ Age  │ SibSp │ Parch │ Ticket            │ Fare    │ Cabin  │ Embarked │\n",
       "├─────┼──────┼───────┼───────┼───────────────────┼─────────┼────────┼──────────┤\n",
       "│ 1   │ 38.0 │ 1     │ 0     │ \"PC 17599\"        │ 71.2833 │ \"C85\"  │ \"C\"      │\n",
       "│ 2   │ 35.0 │ 1     │ 0     │ \"113803\"          │ 53.1    │ \"C123\" │ \"S\"      │\n",
       "│ 3   │ 37.0 │ 1     │ 0     │ \"113803\"          │ 53.1    │ \"C123\" │ \"S\"      │\n",
       "│ 4   │ NA   │ 1     │ 0     │ \"PC 17569\"        │ 146.521 │ \"B78\"  │ \"C\"      │\n",
       "│ 5   │ 49.0 │ 1     │ 0     │ \"PC 17572\"        │ 76.7292 │ \"D33\"  │ \"C\"      │\n",
       "│ 6   │ 48.0 │ 1     │ 0     │ \"PC 17572\"        │ 76.7292 │ \"D33\"  │ \"C\"      │\n",
       "│ 7   │ 6.0  │ 0     │ 1     │ \"248727\"          │ 33.0    │ NA     │ \"S\"      │\n",
       "│ 8   │ 28.0 │ 0     │ 1     │ \"248727\"          │ 33.0    │ NA     │ \"S\"      │\n",
       "│ 9   │ 22.0 │ 1     │ 0     │ \"113776\"          │ 66.6    │ \"C2\"   │ \"S\"      │\n",
       "│ 10  │ 29.0 │ 1     │ 0     │ \"113776\"          │ 66.6    │ \"C2\"   │ \"S\"      │\n",
       "│ 11  │ NA   │ 0     │ 1     │ \"113505\"          │ 55.0    │ \"E33\"  │ \"S\"      │\n",
       "⋮\n",
       "│ 880 │ NA   │ 0     │ 0     │ \"345777\"          │ 9.5     │ NA     │ \"S\"      │\n",
       "│ 881 │ 26.0 │ 0     │ 0     │ \"349248\"          │ 7.8958  │ NA     │ \"S\"      │\n",
       "│ 882 │ 47.0 │ 0     │ 0     │ \"345765\"          │ 9.0     │ NA     │ \"S\"      │\n",
       "│ 883 │ NA   │ 0     │ 0     │ \"349217\"          │ 7.8958  │ NA     │ \"S\"      │\n",
       "│ 884 │ 33.0 │ 0     │ 0     │ \"349257\"          │ 7.8958  │ NA     │ \"S\"      │\n",
       "│ 885 │ 25.0 │ 0     │ 0     │ \"SOTON/OQ 392076\" │ 7.05    │ NA     │ \"S\"      │\n",
       "│ 886 │ 32.0 │ 0     │ 0     │ \"370376\"          │ 7.75    │ NA     │ \"Q\"      │\n",
       "│ 887 │ NA   │ 1     │ 1     │ \"2661\"            │ 15.2458 │ NA     │ \"C\"      │\n",
       "│ 888 │ NA   │ 1     │ 1     │ \"2661\"            │ 15.2458 │ NA     │ \"C\"      │\n",
       "│ 889 │ 3.0  │ 1     │ 1     │ \"C.A. 37671\"      │ 15.9    │ NA     │ \"S\"      │\n",
       "│ 890 │ 9.0  │ 1     │ 1     │ \"C.A. 37671\"      │ 15.9    │ NA     │ \"S\"      │\n",
       "│ 891 │ 0.42 │ 0     │ 1     │ \"2625\"            │ 8.5167  │ NA     │ \"C\"      │\n",
       "\n",
       "│ Row │ CptTitle  │ CptTitleCat │ CptAge │ CptCabin  │ CptNameFreq │\n",
       "├─────┼───────────┼─────────────┼────────┼───────────┼─────────────┤\n",
       "│ 1   │ \"Mrs.\"    │ 2           │ 38.0   │ \"C\"       │ 1           │\n",
       "│ 2   │ \"Mrs.\"    │ 2           │ 35.0   │ \"C\"       │ 2           │\n",
       "│ 3   │ \"Mr.\"     │ 2           │ 37.0   │ \"C\"       │ 2           │\n",
       "│ 4   │ \"Mrs.\"    │ 2           │ 41.5   │ \"B\"       │ 1           │\n",
       "│ 5   │ \"Mrs.\"    │ 2           │ 49.0   │ \"D\"       │ 4           │\n",
       "│ 6   │ \"Mr.\"     │ 2           │ 48.0   │ \"D\"       │ 4           │\n",
       "│ 7   │ \"Miss.\"   │ 1           │ 6.0    │ \"Unknown\" │ 4           │\n",
       "│ 8   │ \"Rev.\"    │ 3           │ 28.0   │ \"Unknown\" │ 4           │\n",
       "│ 9   │ \"Mrs.\"    │ 2           │ 22.0   │ \"C\"       │ 2           │\n",
       "│ 10  │ \"Mr.\"     │ 2           │ 29.0   │ \"C\"       │ 2           │\n",
       "│ 11  │ \"Mrs.\"    │ 2           │ 41.5   │ \"E\"       │ 1           │\n",
       "⋮\n",
       "│ 880 │ \"Mr.\"     │ 2           │ 26.0   │ \"Unknown\" │ 1           │\n",
       "│ 881 │ \"Mr.\"     │ 2           │ 26.0   │ \"Unknown\" │ 1           │\n",
       "│ 882 │ \"Mr.\"     │ 2           │ 47.0   │ \"Unknown\" │ 1           │\n",
       "│ 883 │ \"Mr.\"     │ 2           │ 26.0   │ \"Unknown\" │ 1           │\n",
       "│ 884 │ \"Mr.\"     │ 2           │ 33.0   │ \"Unknown\" │ 1           │\n",
       "│ 885 │ \"Mr.\"     │ 2           │ 25.0   │ \"Unknown\" │ 1           │\n",
       "│ 886 │ \"Mr.\"     │ 2           │ 32.0   │ \"Unknown\" │ 1           │\n",
       "│ 887 │ \"Master.\" │ 0           │ 4.0    │ \"Unknown\" │ 2           │\n",
       "│ 888 │ \"Master.\" │ 0           │ 4.0    │ \"Unknown\" │ 2           │\n",
       "│ 889 │ \"Master.\" │ 0           │ 3.0    │ \"Unknown\" │ 2           │\n",
       "│ 890 │ \"Master.\" │ 0           │ 9.0    │ \"Unknown\" │ 2           │\n",
       "│ 891 │ \"Master.\" │ 0           │ 0.42   │ \"Unknown\" │ 1           │"
      ]
     },
     "execution_count": 13,
     "metadata": {},
     "output_type": "execute_result"
    }
   ],
   "source": [
    "@linq train |> pp_Title |> pp_titlecat |> pp_MissingAge |> pp_deck |> pp_namefreq"
   ]
  },
  {
   "cell_type": "code",
   "execution_count": null,
   "metadata": {
    "collapsed": true
   },
   "outputs": [],
   "source": [
    "final_trainset = train_004[[:Pclass,:CptTitle,:Sex,:CptAge,:SibSp,:Parch,:Fare,:Embarked,:CptCabin,:Survived]]\n",
    "full_train = train_004 #used to compute data combined with the test set\n",
    "head(final_trainset)"
   ]
  },
  {
   "cell_type": "code",
   "execution_count": null,
   "metadata": {
    "collapsed": false,
    "scrolled": true
   },
   "outputs": [],
   "source": [
    "# plot(final_trainset, x=\"CptCabin\", y=\"Survived\", color=\"Survived\", Geom.histogram(position=:stack), Scale.color_discrete_manual(\"red\",\"green\"))"
   ]
  },
  {
   "cell_type": "code",
   "execution_count": null,
   "metadata": {
    "collapsed": false
   },
   "outputs": [],
   "source": [
    "# Create model\n",
    "mapper = DataFrameMapper([\n",
    "    ([:Pclass], Binarizer()),\n",
    "    (:CptTitle, LabelBinarizer()),\n",
    "    (:Sex, LabelBinarizer()),\n",
    "    ([:CptAge], StandardScaler()),\n",
    "    ([:SibSp], RobustScaler()),\n",
    "    ([:Parch], RobustScaler()),\n",
    "    ([:Fare], RobustScaler()),\n",
    "    (:Embarked, LabelBinarizer()),\n",
    "    (:CptCabin, LabelBinarizer())\n",
    "    ]);"
   ]
  },
  {
   "cell_type": "code",
   "execution_count": null,
   "metadata": {
    "collapsed": false
   },
   "outputs": [],
   "source": [
    "pipe = Pipelines.Pipeline([\n",
    "     (\"featurize\", mapper),\n",
    "    (\"forest\", RandomForestClassifier(ntrees=200))\n",
    "    ])"
   ]
  },
  {
   "cell_type": "code",
   "execution_count": null,
   "metadata": {
    "collapsed": false
   },
   "outputs": [],
   "source": [
    "Y_train = convert(Array, final_trainset[:Survived])\n",
    "X_train = final_trainset\n",
    "\n",
    "\n",
    "#Cross Validation - check model accuracy\n",
    "round(cross_val_score(pipe, X_train, Y_train, cv =3), 2)"
   ]
  },
  {
   "cell_type": "code",
   "execution_count": null,
   "metadata": {
    "collapsed": false
   },
   "outputs": [],
   "source": [
    "model = fit!(pipe, X_train, Y_train)"
   ]
  },
  {
   "cell_type": "code",
   "execution_count": null,
   "metadata": {
    "collapsed": false
   },
   "outputs": [],
   "source": [
    "##########################\n",
    "# TEST DATA\n",
    "\n",
    "# describe test data\n",
    "describe(test)\n",
    "\n",
    "##########################\n",
    "# Extract Title from Name\n",
    "test_001 = @transform(test,\n",
    "    CptTitle = map(s->match(r\"(?<=, ).*?\\.\", s).match, :Name)\n",
    "    )\n",
    "\n",
    "\n",
    "#Compute the median age depending of class, sex, title\n",
    "v = vcat(full_train,test_001)\n",
    "# describe(v)\n",
    "\n",
    "# Seems like there is a particular :Sex, :CptTitle combination with no matching Age\n",
    "# writetable(\"age.csv\",v)\n",
    "#Dona. is not matched to anything, assume Lady\n",
    "v[v[:CptTitle].==\"Dona.\",:Age] = v[v[:CptTitle].==\"Lady.\",:Age]\n",
    "#Ms. on Pclass3 assume = to Pclass2\n",
    "v[(v[:CptTitle].==\"Ms.\")&(v[:Pclass].==3),:Age] = v[(v[:CptTitle].==\"Ms.\")&(v[:Pclass].==2),:Age]\n",
    "\n",
    "\n",
    "# Estimate age\n",
    "test_002 = @byrow! test_001 begin\n",
    "    @newcol CptAge::DataArray{Float64}\n",
    "    :CptAge = groupby_Age(v,:Age,:Pclass,:Sex,:CptTitle)\n",
    "end\n",
    "\n",
    "# Map Cabin\n",
    "test_003 = @transform(\n",
    "                @transform(test_002,\n",
    "                CptCabin = map(s->ifelse(isna(s),\"Unknown\",s), :Cabin)\n",
    "                    ),\n",
    "                CptCabin = map(s->ifelse(s==\"Unknown\",s,s[1:1]), :CptCabin)\n",
    "    )\n",
    "head(test_003)\n",
    "\n",
    "\n",
    "# view NA in Fare\n",
    "print(test[isna(test[:,:Fare]),:])\n",
    "print(\"\\n\\n\\n\")\n",
    "# View median that may fill this NA\n",
    "print(median(dropna(v[(v[:CptTitle].==\"Mr.\")&(v[:Pclass].==3),:Fare])))\n",
    "\n",
    "test_004 = test_003\n",
    "test_004[isna(test_003[:,:Fare]),:Fare] = median(dropna(v[(v[:CptTitle].==\"Mr.\")&(v[:Pclass].==3),:Fare]))"
   ]
  },
  {
   "cell_type": "code",
   "execution_count": null,
   "metadata": {
    "collapsed": false
   },
   "outputs": [],
   "source": [
    "final_test = test_004[[:Pclass,:CptTitle,:Sex,:CptAge,:SibSp,:Parch,:Fare,:Embarked,:CptCabin]]\n",
    "head(final_test)"
   ]
  },
  {
   "cell_type": "code",
   "execution_count": null,
   "metadata": {
    "collapsed": false
   },
   "outputs": [],
   "source": [
    "result=DataFrame()\n",
    "result[:PassengerId] = test[:PassengerId]\n",
    "result[:Survived] = @data predict(model,final_test)"
   ]
  },
  {
   "cell_type": "code",
   "execution_count": null,
   "metadata": {
    "collapsed": false
   },
   "outputs": [],
   "source": [
    "result"
   ]
  },
  {
   "cell_type": "code",
   "execution_count": null,
   "metadata": {
    "collapsed": true
   },
   "outputs": [],
   "source": [
    "writetable(\"julia-magicalforests.csv\",result)"
   ]
  }
 ],
 "metadata": {
  "kernelspec": {
   "display_name": "Julia 0.5.0",
   "language": "julia",
   "name": "julia-0.5"
  },
  "language_info": {
   "file_extension": ".jl",
   "mimetype": "application/julia",
   "name": "julia",
   "version": "0.5.0"
  }
 },
 "nbformat": 4,
 "nbformat_minor": 1
}
