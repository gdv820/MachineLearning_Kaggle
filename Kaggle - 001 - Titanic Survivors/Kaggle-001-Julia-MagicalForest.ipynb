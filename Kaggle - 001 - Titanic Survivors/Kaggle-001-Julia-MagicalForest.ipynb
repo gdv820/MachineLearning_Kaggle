{
 "cells": [
  {
   "cell_type": "code",
   "execution_count": 1,
   "metadata": {
    "collapsed": false
   },
   "outputs": [
    {
     "name": "stderr",
     "output_type": "stream",
     "text": [
      "WARNING: Method definition nrow(DataFramesMeta.AbstractCompositeDataFrame) in module DataFramesMeta at /Users/tesuji/.julia/v0.5/DataFramesMeta/src/compositedataframe.jl:108 overwritten at /Users/tesuji/.julia/v0.5/DataFramesMeta/src/compositedataframe.jl:109.\n",
      "WARNING: Method definition require(Symbol) in module Base at loading.jl:345 overwritten in module Main at /Users/tesuji/.julia/v0.5/Requires/src/require.jl:12.\n"
     ]
    }
   ],
   "source": [
    "using DecisionTree\n",
    "using DataFrames\n",
    "using DataFramesMeta\n",
    "using DataArrays\n",
    "using Gadfly\n",
    "using ScikitLearn: DataFrameMapper, @sk_import, Pipelines, fit!, predict\n",
    "using ScikitLearn.CrossValidation\n",
    "using ScikitLearnBase: @declare_hyperparameters, BaseEstimator\n",
    "import ScikitLearnBase.simple_get_params\n",
    "\n",
    "# @sk_import linear_model: LogisticRegression\n",
    "@sk_import preprocessing: (LabelBinarizer, RobustScaler, Binarizer, StandardScaler)"
   ]
  },
  {
   "cell_type": "code",
   "execution_count": null,
   "metadata": {
    "collapsed": true
   },
   "outputs": [],
   "source": [
    "# Note for debugging, changing samething inside a function require kernel reloading :/"
   ]
  },
  {
   "cell_type": "code",
   "execution_count": 2,
   "metadata": {
    "collapsed": false
   },
   "outputs": [
    {
     "data": {
      "text/html": [
       "<table class=\"data-frame\"><thead><tr><th></th><th>PassengerId</th><th>Survived</th><th>Pclass</th><th>Name</th><th>Sex</th><th>Age</th><th>SibSp</th><th>Parch</th><th>Ticket</th><th>Fare</th><th>Cabin</th><th>Embarked</th></tr></thead><tbody><tr><th>1</th><td>1</td><td>0</td><td>3</td><td>Braund, Mr. Owen Harris</td><td>male</td><td>22.0</td><td>1</td><td>0</td><td>A/5 21171</td><td>7.25</td><td>NA</td><td>S</td></tr><tr><th>2</th><td>2</td><td>1</td><td>1</td><td>Cumings, Mrs. John Bradley (Florence Briggs Thayer)</td><td>female</td><td>38.0</td><td>1</td><td>0</td><td>PC 17599</td><td>71.2833</td><td>C85</td><td>C</td></tr><tr><th>3</th><td>3</td><td>1</td><td>3</td><td>Heikkinen, Miss. Laina</td><td>female</td><td>26.0</td><td>0</td><td>0</td><td>STON/O2. 3101282</td><td>7.925</td><td>NA</td><td>S</td></tr><tr><th>4</th><td>4</td><td>1</td><td>1</td><td>Futrelle, Mrs. Jacques Heath (Lily May Peel)</td><td>female</td><td>35.0</td><td>1</td><td>0</td><td>113803</td><td>53.1</td><td>C123</td><td>S</td></tr><tr><th>5</th><td>5</td><td>0</td><td>3</td><td>Allen, Mr. William Henry</td><td>male</td><td>35.0</td><td>0</td><td>0</td><td>373450</td><td>8.05</td><td>NA</td><td>S</td></tr><tr><th>6</th><td>6</td><td>0</td><td>3</td><td>Moran, Mr. James</td><td>male</td><td>NA</td><td>0</td><td>0</td><td>330877</td><td>8.4583</td><td>NA</td><td>Q</td></tr></tbody></table>"
      ],
      "text/plain": [
       "6×12 DataFrames.DataFrame\n",
       "│ Row │ PassengerId │ Survived │ Pclass │\n",
       "├─────┼─────────────┼──────────┼────────┤\n",
       "│ 1   │ 1           │ 0        │ 3      │\n",
       "│ 2   │ 2           │ 1        │ 1      │\n",
       "│ 3   │ 3           │ 1        │ 3      │\n",
       "│ 4   │ 4           │ 1        │ 1      │\n",
       "│ 5   │ 5           │ 0        │ 3      │\n",
       "│ 6   │ 6           │ 0        │ 3      │\n",
       "\n",
       "│ Row │ Name                                                  │ Sex      │\n",
       "├─────┼───────────────────────────────────────────────────────┼──────────┤\n",
       "│ 1   │ \"Braund, Mr. Owen Harris\"                             │ \"male\"   │\n",
       "│ 2   │ \"Cumings, Mrs. John Bradley (Florence Briggs Thayer)\" │ \"female\" │\n",
       "│ 3   │ \"Heikkinen, Miss. Laina\"                              │ \"female\" │\n",
       "│ 4   │ \"Futrelle, Mrs. Jacques Heath (Lily May Peel)\"        │ \"female\" │\n",
       "│ 5   │ \"Allen, Mr. William Henry\"                            │ \"male\"   │\n",
       "│ 6   │ \"Moran, Mr. James\"                                    │ \"male\"   │\n",
       "\n",
       "│ Row │ Age  │ SibSp │ Parch │ Ticket             │ Fare    │ Cabin  │\n",
       "├─────┼──────┼───────┼───────┼────────────────────┼─────────┼────────┤\n",
       "│ 1   │ 22.0 │ 1     │ 0     │ \"A/5 21171\"        │ 7.25    │ NA     │\n",
       "│ 2   │ 38.0 │ 1     │ 0     │ \"PC 17599\"         │ 71.2833 │ \"C85\"  │\n",
       "│ 3   │ 26.0 │ 0     │ 0     │ \"STON/O2. 3101282\" │ 7.925   │ NA     │\n",
       "│ 4   │ 35.0 │ 1     │ 0     │ \"113803\"           │ 53.1    │ \"C123\" │\n",
       "│ 5   │ 35.0 │ 0     │ 0     │ \"373450\"           │ 8.05    │ NA     │\n",
       "│ 6   │ NA   │ 0     │ 0     │ \"330877\"           │ 8.4583  │ NA     │\n",
       "\n",
       "│ Row │ Embarked │\n",
       "├─────┼──────────┤\n",
       "│ 1   │ \"S\"      │\n",
       "│ 2   │ \"C\"      │\n",
       "│ 3   │ \"S\"      │\n",
       "│ 4   │ \"S\"      │\n",
       "│ 5   │ \"S\"      │\n",
       "│ 6   │ \"Q\"      │"
      ]
     },
     "execution_count": 2,
     "metadata": {},
     "output_type": "execute_result"
    }
   ],
   "source": [
    "train = readtable(\"train.csv\")\n",
    "test = readtable(\"test.csv\")\n",
    "head(train)"
   ]
  },
  {
   "cell_type": "code",
   "execution_count": null,
   "metadata": {
    "collapsed": false
   },
   "outputs": [],
   "source": [
    "####### Exploration phase #######\n",
    "\n",
    "describe(train)"
   ]
  },
  {
   "cell_type": "code",
   "execution_count": null,
   "metadata": {
    "collapsed": false
   },
   "outputs": [],
   "source": [
    "# Somehow adding the color visualization generate an error about int not defined in Gadfly\n",
    "# Need to edit source code and replace int by Int\n",
    "# plot(train, x=\"Sex\", y=\"Survived\", color=\"Survived\", Geom.histogram(position=:stack), Scale.color_discrete_manual(\"red\",\"green\"))"
   ]
  },
  {
   "cell_type": "code",
   "execution_count": null,
   "metadata": {
    "collapsed": false
   },
   "outputs": [],
   "source": [
    "# plot(train, x=:Age, y=:Survived, color=:Survived, Geom.histogram(bincount=15,position=:dodge), Scale.color_discrete_manual(\"orange\",\"green\"))"
   ]
  },
  {
   "cell_type": "markdown",
   "metadata": {},
   "source": [
    "# Feature Engineering\n",
    "\n",
    "Use end to end Pipelines. (questions how to use data from train set in the test set if using pipelines ?)\n",
    "- Compute Missing Age (or predict it via a simple Regression)\n",
    "- Bin Age into Age group (and predict that instead)\n",
    "- Drop NA in Embarked (or predict it via a simple Regression)\n",
    "- Extract Title from Name\n",
    "- Extract family Name from Name and count occurences (similar to family size but may have people that share a name)\n",
    "-? Extract family name (what if a family is split between train and test, or is irrelevant in the other set ??)\n",
    "- Extract Deck from Cabin\n",
    "- Categorize titles per social rank\n",
    "- Combine Siblings + Spouse + Parents + 1 to have family size\n",
    "-? Be inventive with tickets ?\n",
    "- Predict Fare for test data\n",
    "- Bin Fare. Have a category 0 for VIP that were invited\n",
    "- Normalize Fare/Family Size if someone paid for all\n"
   ]
  },
  {
   "cell_type": "code",
   "execution_count": null,
   "metadata": {
    "collapsed": false
   },
   "outputs": [],
   "source": [
    "## Optimus Title, the transformer that gets title from the name field\n",
    "type PP_TitleTransformer <: ScikitLearnBase.BaseEstimator\n",
    "end\n",
    "\n",
    "@declare_hyperparameters(PP_TitleTransformer, Symbol[]) ##Symbol is a temp mesure while waiting for new release of ScikitLearn\n",
    "\n",
    "ScikitLearnBase.fit!(self::PP_TitleTransformer, X::DataFrame, y=nothing) = return self\n",
    "\n",
    "function ScikitLearnBase.transform(self::PP_TitleTransformer, X::DataFrame)\n",
    "    @linq X |>\n",
    "    transform(CptTitle = map(s->match(r\"(?<=, ).*?\\.\", s).match, :Name))\n",
    "end\n",
    "\n",
    "function pp_title(df::DataFrame) ##For debugging the transformation\n",
    "    @linq df |>\n",
    "    transform(CptTitle = map(s->match(r\"(?<=, ).*?\\.\", s).match, :Name))\n",
    "end"
   ]
  },
  {
   "cell_type": "code",
   "execution_count": null,
   "metadata": {
    "collapsed": false
   },
   "outputs": [],
   "source": [
    "## Optimus Deck, the transformer that gets deck from the Cabin field\n",
    "type PP_DeckTransformer <: ScikitLearnBase.BaseEstimator\n",
    "end\n",
    "\n",
    "@declare_hyperparameters(PP_DeckTransformer, Symbol[])\n",
    "\n",
    "ScikitLearnBase.fit!(self::PP_DeckTransformer, X::DataFrame, y=nothing) = return self\n",
    "\n",
    "function ScikitLearnBase.transform(self::PP_DeckTransformer, X::DataFrame)\n",
    "    @linq X |>\n",
    "        transform(CptCabin = map(s->ifelse(isna(s),\"Unknown\",s), :Cabin)) |>\n",
    "        ## Need two step otherwise Julia complains about no index method for NAtypes, pesky Julia\n",
    "        transform(CptCabin = map(s->ifelse(s==\"Unknown\",s,s[1:1]), :CptCabin))\n",
    "end\n",
    "\n",
    "function pp_deck(df::DataFrame) ##For debugging the transformation\n",
    "    @linq df |>\n",
    "        transform(CptCabin = map(s->ifelse(isna(s),\"Unknown\",s), :Cabin)) |>\n",
    "        ## Need two step otherwise Julia complains about no index method for NAtypes, pesky Julia\n",
    "        transform(CptCabin = map(s->ifelse(s==\"Unknown\",s,s[1:1]), :CptCabin))\n",
    "end"
   ]
  },
  {
   "cell_type": "code",
   "execution_count": null,
   "metadata": {
    "collapsed": false
   },
   "outputs": [],
   "source": [
    "#Dictionary for socio-prof categories\n",
    "#Dictionary for consistent referencing (transform input to lower case for insensitive use)\n",
    "#Master. --> children 0\n",
    "#Miss. Mlle --> unmarried 1\n",
    "#Mr. Mrs. Ms. --> normal 2\n",
    "#Honorifics --> rich people\n",
    "dicoRef = Dict(\n",
    "            \"Mr.\" => 2,\n",
    "            \"Mrs.\"=> 2,\n",
    "            \"Miss.\" => 1,\n",
    "            \"Master.\" => 0,\n",
    "            \"Don.\"=> 3,\n",
    "            \"Rev.\"=>3,\n",
    "            \"Dr.\"=>3,\n",
    "            \"Mme.\"=>2,\n",
    "            \"Ms.\"=>2,\n",
    "            \"Major.\"=>3,\n",
    "            \"Lady.\"=>3,\n",
    "            \"Sir.\"=>3,\n",
    "            \"Mlle.\"=>1,\n",
    "            \"Col.\"=>3,\n",
    "            \"Capt.\"=>3,\n",
    "            \"the Countess.\"=>3,\n",
    "            \"Jonkheer.\"=>3,\n",
    "            \"Dona.\"=>3\n",
    "    )\n",
    "\n",
    "## Optimus Title Social Category, the transformer that gets the social standing\n",
    "## from the CptTitle field\n",
    "type PP_TitleCatTransformer <: ScikitLearnBase.BaseEstimator\n",
    "end\n",
    "\n",
    "@declare_hyperparameters(PP_TitleCatTransformer, [])\n",
    "\n",
    "ScikitLearnBase.fit!(self::PP_TitleCatTransformer, X::DataFrame, y=nothing) = return self\n",
    "\n",
    "function ScikitLearnBase.transform(self::PP_TitleCatTransformer, X::DataFrame)\n",
    "    @linq X |>\n",
    "    transform(CptTitleCat = map(s->dicoRef[s], :CptTitle))\n",
    "end\n",
    "\n",
    "function pp_titlecat(df::AbstractDataFrame) ## For debugging the transformation\n",
    "    @linq df |> transform(CptTitleCat = map(s->dicoRef[s], :CptTitle))\n",
    "end"
   ]
  },
  {
   "cell_type": "code",
   "execution_count": null,
   "metadata": {
    "collapsed": false
   },
   "outputs": [],
   "source": [
    "## Optimus Family Name frequency, the transformer that gets the family name frequency\n",
    "## potential issue, if family are split between training and test data?\n",
    "## \n",
    "## There might be cousins/uncles relationship that are not captured in sibsp or Parch\n",
    "type PP_FamNameFreqTransformer <: ScikitLearnBase.BaseEstimator\n",
    "end\n",
    "\n",
    "@declare_hyperparameters(PP_FamNameFreqTransformer, Symbol[])\n",
    "\n",
    "ScikitLearnBase.fit!(self::PP_FamNameFreqTransformer, X::DataFrame, y=nothing) = return self\n",
    "\n",
    "function ScikitLearnBase.transform(self::PP_FamNameFreqTransformer, X::DataFrame)\n",
    "    @linq X |>\n",
    "        transform(CptNameFreq = map(s->match(r\"^.*?,\", s).match, :Name))|>\n",
    "        groupby(:CptNameFreq)|>\n",
    "        transform(CptNameFreq = length(:CptNameFreq))\n",
    "end\n",
    "\n",
    "function pp_namefreq(df::AbstractDataFrame) ## For debugging the transformation\n",
    "    @linq df |>\n",
    "        transform(CptNameFreq = map(s->match(r\"^.*?,\", s).match, :Name))|>\n",
    "        groupby(:CptNameFreq)|>\n",
    "        transform(CptNameFreq = length(:CptNameFreq)) ## TODO : is length really a count equivalent ?\n",
    "end"
   ]
  },
  {
   "cell_type": "code",
   "execution_count": null,
   "metadata": {
    "collapsed": false
   },
   "outputs": [],
   "source": [
    "\n",
    "\n",
    "\n",
    "\n",
    "## For testing only. Not scalable automatically to test data\n",
    "# Compute a new Age column with missing values filled with median\n",
    "# Other possibility do a regression and predict the age\n",
    "\n",
    "## Important : the test data computation for missing age should use train data info\n",
    "## How to do that cleanly ?\n",
    "function pp_MissingAge(df::AbstractDataFrame)\n",
    "    @linq df |>\n",
    "    groupby([:Pclass,:Sex,:CptTitle]) |>\n",
    "          transform(CptAge = ifelse(isna(:Age),median(dropna(:Age)),:Age))\n",
    "end\n",
    "\n",
    "\n",
    "# by(train, [:Pclass,:Sex,:CptTitle], df -> median(dropna(df[:Age])))"
   ]
  },
  {
   "cell_type": "code",
   "execution_count": null,
   "metadata": {
    "collapsed": false
   },
   "outputs": [],
   "source": [
    "# drop NA in Embarked column\n",
    "# Alternative predict the mot likely value\n",
    "function pp_dropNAembarked(df::AbstractDataFrame)\n",
    "    df[~isna(df[:,:Embarked]),:]\n",
    "end"
   ]
  },
  {
   "cell_type": "code",
   "execution_count": null,
   "metadata": {
    "collapsed": false
   },
   "outputs": [],
   "source": [
    "# Check your pipeline outputs :\n",
    "@linq train |> pp_title |> pp_titlecat |> pp_deck |> pp_namefreq |> pp_MissingAge"
   ]
  },
  {
   "cell_type": "code",
   "execution_count": null,
   "metadata": {
    "collapsed": false
   },
   "outputs": [],
   "source": [
    "# Create model\n",
    "mapper = DataFrameMapper([\n",
    "    ([:Pclass], Binarizer()),\n",
    "    (:CptTitle, LabelBinarizer()),\n",
    "    (:Sex, LabelBinarizer()),\n",
    "#    ([:CptAge], StandardScaler()),\n",
    "    ([:SibSp], RobustScaler()),\n",
    "    ([:Parch], RobustScaler()),\n",
    "#    ([:Fare], RobustScaler()),\n",
    "#    (:Embarked, LabelBinarizer()),\n",
    "    (:CptCabin, LabelBinarizer())\n",
    "    ]);"
   ]
  },
  {
   "cell_type": "code",
   "execution_count": null,
   "metadata": {
    "collapsed": false,
    "scrolled": true
   },
   "outputs": [],
   "source": [
    "pipe = Pipelines.Pipeline([\n",
    "    (\"extract_deck\",PP_DeckTransformer()),\n",
    "    (\"extract_title\", PP_TitleTransformer()),\n",
    "     (\"featurize\", mapper),\n",
    "    (\"forest\", RandomForestClassifier(ntrees=200))\n",
    "    ])"
   ]
  },
  {
   "cell_type": "code",
   "execution_count": null,
   "metadata": {
    "collapsed": true
   },
   "outputs": [],
   "source": [
    "model=fit!(pipe, train, convert(Array,train[:Survived]))"
   ]
  },
  {
   "cell_type": "code",
   "execution_count": null,
   "metadata": {
    "collapsed": true
   },
   "outputs": [],
   "source": [
    "Y_train = convert(Array, train[:Survived])\n",
    "X_train = train\n",
    "\n",
    "\n",
    "#Cross Validation - check model accuracy\n",
    "round(cross_val_score(pipe, X_train, Y_train, cv =2), 2)"
   ]
  },
  {
   "cell_type": "code",
   "execution_count": null,
   "metadata": {
    "collapsed": true
   },
   "outputs": [],
   "source": [
    "model = fit!(pipe, X_train, Y_train)"
   ]
  },
  {
   "cell_type": "code",
   "execution_count": 7,
   "metadata": {
    "collapsed": false
   },
   "outputs": [
    {
     "name": "stderr",
     "output_type": "stream",
     "text": [
      "WARNING: Method definition pp_AgeGroup(DataFrames.AbstractDataFrame) in module Main at In[6]:7 overwritten at In[7]:19.\n"
     ]
    },
    {
     "data": {
      "text/plain": [
       "pp_AgeGroup (generic function with 1 method)"
      ]
     },
     "execution_count": 7,
     "metadata": {},
     "output_type": "execute_result"
    }
   ],
   "source": [
    "## Optimus Age bucket transformer, the transformer that bins Age\n",
    "## This transformer would not have seen the light without the magical searchsortedfirst.\n",
    "## (DataFrames.jl needs a cut function)\n",
    "type PP_AgeGroupTransformer <: ScikitLearnBase.BaseEstimator\n",
    "end\n",
    "\n",
    "@declare_hyperparameters(PP_AgeGroupTransformer, Symbol[])\n",
    "\n",
    "ScikitLearnBase.fit!(self::PP_AgeGroupTransformer, X::DataFrame, y=nothing) = return self\n",
    "\n",
    "function ScikitLearnBase.transform(self::PP_AgeGroupTransformer, X::DataFrame)\n",
    "    @linq X |> transform(AgeGroup = map(s->\n",
    "    ifelse(~isna(s),searchsortedfirst(4.0:12.0:64.0,s),s),:Age))\n",
    "end\n",
    "\n",
    "\n",
    "# Magical searchsortedfirst for binning bucketing. (DataFrames.jl needs a cut function)\n",
    "function pp_AgeGroup(df::AbstractDataFrame) ## For debugging the transformation\n",
    "    @linq df |> transform(AgeGroup = map(s->\n",
    "    ifelse(~isna(s),searchsortedfirst(4.0:12.0:64.0,s),s),:Age))\n",
    "end\n",
    "\n"
   ]
  },
  {
   "cell_type": "code",
   "execution_count": 5,
   "metadata": {
    "collapsed": false,
    "scrolled": true
   },
   "outputs": [],
   "source": [
    "writetable(\"toto.csv\",@linq train |> pp_AgeGroup)"
   ]
  },
  {
   "cell_type": "code",
   "execution_count": null,
   "metadata": {
    "collapsed": false
   },
   "outputs": [],
   "source": [
    "predict(model,test)"
   ]
  },
  {
   "cell_type": "code",
   "execution_count": null,
   "metadata": {
    "collapsed": false
   },
   "outputs": [],
   "source": [
    "##########################\n",
    "# TEST DATA\n",
    "\n",
    "# describe test data\n",
    "describe(test)\n",
    "\n",
    "##########################\n",
    "# Extract Title from Name\n",
    "test_001 = @transform(test,\n",
    "    CptTitle = map(s->match(r\"(?<=, ).*?\\.\", s).match, :Name)\n",
    "    )\n",
    "\n",
    "\n",
    "#Compute the median age depending of class, sex, title\n",
    "v = vcat(full_train,test_001)\n",
    "# describe(v)\n",
    "\n",
    "# Seems like there is a particular :Sex, :CptTitle combination with no matching Age\n",
    "# writetable(\"age.csv\",v)\n",
    "#Dona. is not matched to anything, assume Lady\n",
    "v[v[:CptTitle].==\"Dona.\",:Age] = v[v[:CptTitle].==\"Lady.\",:Age]\n",
    "#Ms. on Pclass3 assume = to Pclass2\n",
    "v[(v[:CptTitle].==\"Ms.\")&(v[:Pclass].==3),:Age] = v[(v[:CptTitle].==\"Ms.\")&(v[:Pclass].==2),:Age]\n",
    "\n",
    "\n",
    "# Estimate age\n",
    "test_002 = @byrow! test_001 begin\n",
    "    @newcol CptAge::DataArray{Float64}\n",
    "    :CptAge = groupby_Age(v,:Age,:Pclass,:Sex,:CptTitle)\n",
    "end\n",
    "\n",
    "# Map Cabin\n",
    "test_003 = @transform(\n",
    "                @transform(test_002,\n",
    "                CptCabin = map(s->ifelse(isna(s),\"Unknown\",s), :Cabin)\n",
    "                    ),\n",
    "                CptCabin = map(s->ifelse(s==\"Unknown\",s,s[1:1]), :CptCabin)\n",
    "    )\n",
    "head(test_003)\n",
    "\n",
    "\n",
    "# view NA in Fare\n",
    "print(test[isna(test[:,:Fare]),:])\n",
    "print(\"\\n\\n\\n\")\n",
    "# View median that may fill this NA\n",
    "print(median(dropna(v[(v[:CptTitle].==\"Mr.\")&(v[:Pclass].==3),:Fare])))\n",
    "\n",
    "test_004 = test_003\n",
    "test_004[isna(test_003[:,:Fare]),:Fare] = median(dropna(v[(v[:CptTitle].==\"Mr.\")&(v[:Pclass].==3),:Fare]))"
   ]
  },
  {
   "cell_type": "code",
   "execution_count": null,
   "metadata": {
    "collapsed": false
   },
   "outputs": [],
   "source": [
    "final_test = test_004[[:Pclass,:CptTitle,:Sex,:CptAge,:SibSp,:Parch,:Fare,:Embarked,:CptCabin]]\n",
    "head(final_test)"
   ]
  },
  {
   "cell_type": "code",
   "execution_count": null,
   "metadata": {
    "collapsed": false
   },
   "outputs": [],
   "source": [
    "result=DataFrame()\n",
    "result[:PassengerId] = test[:PassengerId]\n",
    "result[:Survived] = @data predict(model,final_test)"
   ]
  },
  {
   "cell_type": "code",
   "execution_count": null,
   "metadata": {
    "collapsed": false
   },
   "outputs": [],
   "source": [
    "result"
   ]
  },
  {
   "cell_type": "code",
   "execution_count": null,
   "metadata": {
    "collapsed": true
   },
   "outputs": [],
   "source": [
    "writetable(\"julia-magicalforests.csv\",result)"
   ]
  }
 ],
 "metadata": {
  "kernelspec": {
   "display_name": "Julia 0.5.0",
   "language": "julia",
   "name": "julia-0.5"
  },
  "language_info": {
   "file_extension": ".jl",
   "mimetype": "application/julia",
   "name": "julia",
   "version": "0.5.0"
  }
 },
 "nbformat": 4,
 "nbformat_minor": 1
}
